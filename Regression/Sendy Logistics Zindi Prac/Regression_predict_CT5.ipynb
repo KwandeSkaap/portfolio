{
 "cells": [
  {
   "cell_type": "markdown",
   "metadata": {
    "colab_type": "text",
    "id": "XgfctNq-KRgZ"
   },
   "source": [
    "# **Introduction**\n",
    "\n",
    "Exploratory Data Analysis of Sendy Logistics Challenge by EXPLORE Data Science Academy\n",
    "\n",
    "Logistics in Sub-Saharan Africa increases the cost of manufactured goods by up to 320%; while in Europe, it only accounts for up to 90% of the manufacturing cost. Economies are better when logistics is efficient and affordable.\n",
    "\n",
    "Sendy is hosting a Zindi challenge to predict the estimated time of delivery of orders, from the point of driver pickup to the point of arrival at final destination.\n",
    "\n",
    "The solution will improve customer experience. The solution will need to enable Sendy to realise cost savings, and ultimately reduce the cost of doing business, through improved resource management and planning for order scheduling.\n",
    "\n",
    "The analysis will assist in understanding the data and get the insights about the variables that affect the time taken from pick up to arrival, making better predicts."
   ]
  },
  {
   "cell_type": "markdown",
   "metadata": {
    "colab_type": "text",
    "id": "2JdvFWkdMU_Q"
   },
   "source": [
    "#**Body**\n",
    "##**1. Exploratory Data Analysis (EDA)**\n",
    "\n",
    "###**1.1. Importing libraries**"
   ]
  },
  {
   "cell_type": "code",
   "execution_count": null,
   "metadata": {},
   "outputs": [],
   "source": [
    "pip install reverse_geocoder catboost"
   ]
  },
  {
   "cell_type": "code",
   "execution_count": null,
   "metadata": {
    "colab": {},
    "colab_type": "code",
    "id": "WzXskjqBKRgg"
   },
   "outputs": [],
   "source": [
    "import numpy as np\n",
    "import matplotlib.pyplot as plt\n",
    "import pandas as pd\n",
    "import seaborn as sns\n",
    "import warnings\n",
    "import requests\n",
    "import reverse_geocoder as rg\n",
    "np.random.seed(123)\n",
    "warnings.filterwarnings('ignore')\n",
    "%matplotlib inline"
   ]
  },
  {
   "cell_type": "markdown",
   "metadata": {
    "colab_type": "text",
    "id": "iQw8kpbMM4gj"
   },
   "source": [
    "###**1.2. Uploading the dataset files**"
   ]
  },
  {
   "cell_type": "code",
   "execution_count": null,
   "metadata": {
    "colab": {},
    "colab_type": "code",
    "id": "0YOe2INAKRgr"
   },
   "outputs": [],
   "source": [
    "train_1 = pd.read_csv(\"Train.csv\")\n",
    "test_1 = pd.read_csv(\"Test.csv\")\n",
    "riders_1 = pd.read_csv(\"Riders.csv\")"
   ]
  },
  {
   "cell_type": "code",
   "execution_count": 39,
   "metadata": {
    "colab": {
     "base_uri": "https://localhost:8080/",
     "height": 413
    },
    "colab_type": "code",
    "id": "9unQ1pdPKRg0",
    "outputId": "3c181386-7049-4417-c02e-8ab6b65b88cb"
   },
   "outputs": [
    {
     "data": {
      "text/html": [
       "<div>\n",
       "<style scoped>\n",
       "    .dataframe tbody tr th:only-of-type {\n",
       "        vertical-align: middle;\n",
       "    }\n",
       "\n",
       "    .dataframe tbody tr th {\n",
       "        vertical-align: top;\n",
       "    }\n",
       "\n",
       "    .dataframe thead th {\n",
       "        text-align: right;\n",
       "    }\n",
       "</style>\n",
       "<table border=\"1\" class=\"dataframe\">\n",
       "  <thead>\n",
       "    <tr style=\"text-align: right;\">\n",
       "      <th></th>\n",
       "      <th>Order No</th>\n",
       "      <th>User Id</th>\n",
       "      <th>Vehicle Type</th>\n",
       "      <th>Platform Type</th>\n",
       "      <th>Personal or Business</th>\n",
       "      <th>Placement - Day of Month</th>\n",
       "      <th>Placement - Weekday (Mo = 1)</th>\n",
       "      <th>Placement - Time</th>\n",
       "      <th>Confirmation - Day of Month</th>\n",
       "      <th>Confirmation - Weekday (Mo = 1)</th>\n",
       "      <th>Confirmation - Time</th>\n",
       "      <th>Arrival at Pickup - Day of Month</th>\n",
       "      <th>Arrival at Pickup - Weekday (Mo = 1)</th>\n",
       "      <th>Arrival at Pickup - Time</th>\n",
       "      <th>Pickup - Day of Month</th>\n",
       "      <th>Pickup - Weekday (Mo = 1)</th>\n",
       "      <th>Pickup - Time</th>\n",
       "      <th>Arrival at Destination - Day of Month</th>\n",
       "      <th>Arrival at Destination - Weekday (Mo = 1)</th>\n",
       "      <th>Arrival at Destination - Time</th>\n",
       "      <th>Distance (KM)</th>\n",
       "      <th>Temperature</th>\n",
       "      <th>Precipitation in millimeters</th>\n",
       "      <th>Pickup Lat</th>\n",
       "      <th>Pickup Long</th>\n",
       "      <th>Destination Lat</th>\n",
       "      <th>Destination Long</th>\n",
       "      <th>Rider Id</th>\n",
       "      <th>Time from Pickup to Arrival</th>\n",
       "    </tr>\n",
       "  </thead>\n",
       "  <tbody>\n",
       "    <tr>\n",
       "      <th>0</th>\n",
       "      <td>Order_No_4211</td>\n",
       "      <td>User_Id_633</td>\n",
       "      <td>Bike</td>\n",
       "      <td>3</td>\n",
       "      <td>Business</td>\n",
       "      <td>9</td>\n",
       "      <td>5</td>\n",
       "      <td>9:35:46 AM</td>\n",
       "      <td>9</td>\n",
       "      <td>5</td>\n",
       "      <td>9:40:10 AM</td>\n",
       "      <td>9</td>\n",
       "      <td>5</td>\n",
       "      <td>10:04:47 AM</td>\n",
       "      <td>9</td>\n",
       "      <td>5</td>\n",
       "      <td>10:27:30 AM</td>\n",
       "      <td>9</td>\n",
       "      <td>5</td>\n",
       "      <td>10:39:55 AM</td>\n",
       "      <td>4</td>\n",
       "      <td>20.4</td>\n",
       "      <td>NaN</td>\n",
       "      <td>-1.317755</td>\n",
       "      <td>36.830370</td>\n",
       "      <td>-1.300406</td>\n",
       "      <td>36.829741</td>\n",
       "      <td>Rider_Id_432</td>\n",
       "      <td>745</td>\n",
       "    </tr>\n",
       "    <tr>\n",
       "      <th>1</th>\n",
       "      <td>Order_No_25375</td>\n",
       "      <td>User_Id_2285</td>\n",
       "      <td>Bike</td>\n",
       "      <td>3</td>\n",
       "      <td>Personal</td>\n",
       "      <td>12</td>\n",
       "      <td>5</td>\n",
       "      <td>11:16:16 AM</td>\n",
       "      <td>12</td>\n",
       "      <td>5</td>\n",
       "      <td>11:23:21 AM</td>\n",
       "      <td>12</td>\n",
       "      <td>5</td>\n",
       "      <td>11:40:22 AM</td>\n",
       "      <td>12</td>\n",
       "      <td>5</td>\n",
       "      <td>11:44:09 AM</td>\n",
       "      <td>12</td>\n",
       "      <td>5</td>\n",
       "      <td>12:17:22 PM</td>\n",
       "      <td>16</td>\n",
       "      <td>26.4</td>\n",
       "      <td>NaN</td>\n",
       "      <td>-1.351453</td>\n",
       "      <td>36.899315</td>\n",
       "      <td>-1.295004</td>\n",
       "      <td>36.814358</td>\n",
       "      <td>Rider_Id_856</td>\n",
       "      <td>1993</td>\n",
       "    </tr>\n",
       "    <tr>\n",
       "      <th>2</th>\n",
       "      <td>Order_No_1899</td>\n",
       "      <td>User_Id_265</td>\n",
       "      <td>Bike</td>\n",
       "      <td>3</td>\n",
       "      <td>Business</td>\n",
       "      <td>30</td>\n",
       "      <td>2</td>\n",
       "      <td>12:39:25 PM</td>\n",
       "      <td>30</td>\n",
       "      <td>2</td>\n",
       "      <td>12:42:44 PM</td>\n",
       "      <td>30</td>\n",
       "      <td>2</td>\n",
       "      <td>12:49:34 PM</td>\n",
       "      <td>30</td>\n",
       "      <td>2</td>\n",
       "      <td>12:53:03 PM</td>\n",
       "      <td>30</td>\n",
       "      <td>2</td>\n",
       "      <td>1:00:38 PM</td>\n",
       "      <td>3</td>\n",
       "      <td>NaN</td>\n",
       "      <td>NaN</td>\n",
       "      <td>-1.308284</td>\n",
       "      <td>36.843419</td>\n",
       "      <td>-1.300921</td>\n",
       "      <td>36.828195</td>\n",
       "      <td>Rider_Id_155</td>\n",
       "      <td>455</td>\n",
       "    </tr>\n",
       "    <tr>\n",
       "      <th>3</th>\n",
       "      <td>Order_No_9336</td>\n",
       "      <td>User_Id_1402</td>\n",
       "      <td>Bike</td>\n",
       "      <td>3</td>\n",
       "      <td>Business</td>\n",
       "      <td>15</td>\n",
       "      <td>5</td>\n",
       "      <td>9:25:34 AM</td>\n",
       "      <td>15</td>\n",
       "      <td>5</td>\n",
       "      <td>9:26:05 AM</td>\n",
       "      <td>15</td>\n",
       "      <td>5</td>\n",
       "      <td>9:37:56 AM</td>\n",
       "      <td>15</td>\n",
       "      <td>5</td>\n",
       "      <td>9:43:06 AM</td>\n",
       "      <td>15</td>\n",
       "      <td>5</td>\n",
       "      <td>10:05:27 AM</td>\n",
       "      <td>9</td>\n",
       "      <td>19.2</td>\n",
       "      <td>NaN</td>\n",
       "      <td>-1.281301</td>\n",
       "      <td>36.832396</td>\n",
       "      <td>-1.257147</td>\n",
       "      <td>36.795063</td>\n",
       "      <td>Rider_Id_855</td>\n",
       "      <td>1341</td>\n",
       "    </tr>\n",
       "    <tr>\n",
       "      <th>4</th>\n",
       "      <td>Order_No_27883</td>\n",
       "      <td>User_Id_1737</td>\n",
       "      <td>Bike</td>\n",
       "      <td>1</td>\n",
       "      <td>Personal</td>\n",
       "      <td>13</td>\n",
       "      <td>1</td>\n",
       "      <td>9:55:18 AM</td>\n",
       "      <td>13</td>\n",
       "      <td>1</td>\n",
       "      <td>9:56:18 AM</td>\n",
       "      <td>13</td>\n",
       "      <td>1</td>\n",
       "      <td>10:03:53 AM</td>\n",
       "      <td>13</td>\n",
       "      <td>1</td>\n",
       "      <td>10:05:23 AM</td>\n",
       "      <td>13</td>\n",
       "      <td>1</td>\n",
       "      <td>10:25:37 AM</td>\n",
       "      <td>9</td>\n",
       "      <td>15.4</td>\n",
       "      <td>NaN</td>\n",
       "      <td>-1.266597</td>\n",
       "      <td>36.792118</td>\n",
       "      <td>-1.295041</td>\n",
       "      <td>36.809817</td>\n",
       "      <td>Rider_Id_770</td>\n",
       "      <td>1214</td>\n",
       "    </tr>\n",
       "  </tbody>\n",
       "</table>\n",
       "</div>"
      ],
      "text/plain": [
       "         Order No       User Id  ...      Rider Id  Time from Pickup to Arrival\n",
       "0   Order_No_4211   User_Id_633  ...  Rider_Id_432                          745\n",
       "1  Order_No_25375  User_Id_2285  ...  Rider_Id_856                         1993\n",
       "2   Order_No_1899   User_Id_265  ...  Rider_Id_155                          455\n",
       "3   Order_No_9336  User_Id_1402  ...  Rider_Id_855                         1341\n",
       "4  Order_No_27883  User_Id_1737  ...  Rider_Id_770                         1214\n",
       "\n",
       "[5 rows x 29 columns]"
      ]
     },
     "execution_count": 39,
     "metadata": {
      "tags": []
     },
     "output_type": "execute_result"
    }
   ],
   "source": [
    "train_df = train_1.copy()\n",
    "train_df.head()"
   ]
  },
  {
   "cell_type": "markdown",
   "metadata": {
    "colab_type": "text",
    "id": "o_QbeGkSLN0e"
   },
   "source": [
    "The dataset have the columns Vehicle Type, User Id and Personal or Business, Precipitation in millimeters which we believe will not have so much impact on the estimated time from pick up to arrival. Out of the remaining variables, Order No, User Id are categorical variables and the remaining variables i.e. Placement - Day of Month, Arrival at Destination - Time, Distance (KM) and Temperature are numerical variables."
   ]
  },
  {
   "cell_type": "code",
   "execution_count": null,
   "metadata": {
    "colab": {},
    "colab_type": "code",
    "id": "oXmqv0AdKRg5"
   },
   "outputs": [],
   "source": [
    "mean_t = train_df['Temperature'].mean()\n",
    "train_df['Temperature'] = train_df['Temperature'].fillna(mean_t)"
   ]
  },
  {
   "cell_type": "code",
   "execution_count": null,
   "metadata": {
    "colab": {},
    "colab_type": "code",
    "id": "rVZUwnQ3KRg_"
   },
   "outputs": [],
   "source": [
    "mean_p = train_df['Precipitation in millimeters'].mean()\n",
    "train_df['Precipitation in millimeters'] = train_df['Precipitation in millimeters'].fillna(mean_p)"
   ]
  },
  {
   "cell_type": "code",
   "execution_count": null,
   "metadata": {
    "colab": {},
    "colab_type": "code",
    "id": "4DaFUy1KKRhF"
   },
   "outputs": [],
   "source": [
    "train_df[\"Rider Id\"] = train_df[\"Rider Id\"].str.get(-1)"
   ]
  },
  {
   "cell_type": "code",
   "execution_count": null,
   "metadata": {
    "colab": {},
    "colab_type": "code",
    "id": "KUFgN4nsKRhM"
   },
   "outputs": [],
   "source": [
    "train_df[\"Order No\"] = train_df[\"Order No\"].str.split(\"_\").str.get(-1)"
   ]
  },
  {
   "cell_type": "code",
   "execution_count": null,
   "metadata": {
    "colab": {},
    "colab_type": "code",
    "id": "YKdUlFneKRhS"
   },
   "outputs": [],
   "source": [
    "train_df[\"User Id\"] = train_df[\"User Id\"].str.split(\"_\").str.get(-1)"
   ]
  },
  {
   "cell_type": "code",
   "execution_count": null,
   "metadata": {
    "colab": {},
    "colab_type": "code",
    "id": "aAJTmH3WKRhZ"
   },
   "outputs": [],
   "source": [
    "train_df = train_df.set_index(keys = [\"Order No\"])"
   ]
  },
  {
   "cell_type": "code",
   "execution_count": null,
   "metadata": {
    "colab": {},
    "colab_type": "code",
    "id": "Evt_PyYGMHtw"
   },
   "outputs": [],
   "source": [
    "dataset = train_df[[\"Platform Type\", \"Placement - Day of Month\", \"Placement - Weekday (Mo = 1)\", \"Confirmation - Day of Month\",\"Confirmation - Weekday (Mo = 1)\", \"Arrival at Pickup - Day of Month\",\"Arrival at Pickup - Weekday (Mo = 1)\", \"Pickup - Day of Month\",\"Pickup - Weekday (Mo = 1)\", \"Distance (KM)\", \"Temperature\", \"Time from Pickup to Arrival\"]]"
   ]
  },
  {
   "cell_type": "code",
   "execution_count": 14,
   "metadata": {
    "colab": {
     "base_uri": "https://localhost:8080/",
     "height": 485
    },
    "colab_type": "code",
    "id": "MQ_Xe3thMHf2",
    "outputId": "0e99d93e-a447-4897-ea2a-40e27275f1d1"
   },
   "outputs": [
    {
     "data": {
      "text/html": [
       "<div>\n",
       "<style scoped>\n",
       "    .dataframe tbody tr th:only-of-type {\n",
       "        vertical-align: middle;\n",
       "    }\n",
       "\n",
       "    .dataframe tbody tr th {\n",
       "        vertical-align: top;\n",
       "    }\n",
       "\n",
       "    .dataframe thead th {\n",
       "        text-align: right;\n",
       "    }\n",
       "</style>\n",
       "<table border=\"1\" class=\"dataframe\">\n",
       "  <thead>\n",
       "    <tr style=\"text-align: right;\">\n",
       "      <th></th>\n",
       "      <th>Platform Type</th>\n",
       "      <th>Placement - Day of Month</th>\n",
       "      <th>Placement - Weekday (Mo = 1)</th>\n",
       "      <th>Confirmation - Day of Month</th>\n",
       "      <th>Confirmation - Weekday (Mo = 1)</th>\n",
       "      <th>Arrival at Pickup - Day of Month</th>\n",
       "      <th>Arrival at Pickup - Weekday (Mo = 1)</th>\n",
       "      <th>Pickup - Day of Month</th>\n",
       "      <th>Pickup - Weekday (Mo = 1)</th>\n",
       "      <th>Distance (KM)</th>\n",
       "      <th>Temperature</th>\n",
       "      <th>Time from Pickup to Arrival</th>\n",
       "    </tr>\n",
       "  </thead>\n",
       "  <tbody>\n",
       "    <tr>\n",
       "      <th>0</th>\n",
       "      <td>3</td>\n",
       "      <td>9</td>\n",
       "      <td>5</td>\n",
       "      <td>9</td>\n",
       "      <td>5</td>\n",
       "      <td>9</td>\n",
       "      <td>5</td>\n",
       "      <td>9</td>\n",
       "      <td>5</td>\n",
       "      <td>4</td>\n",
       "      <td>20.400000</td>\n",
       "      <td>745</td>\n",
       "    </tr>\n",
       "    <tr>\n",
       "      <th>1</th>\n",
       "      <td>3</td>\n",
       "      <td>12</td>\n",
       "      <td>5</td>\n",
       "      <td>12</td>\n",
       "      <td>5</td>\n",
       "      <td>12</td>\n",
       "      <td>5</td>\n",
       "      <td>12</td>\n",
       "      <td>5</td>\n",
       "      <td>16</td>\n",
       "      <td>26.400000</td>\n",
       "      <td>1993</td>\n",
       "    </tr>\n",
       "    <tr>\n",
       "      <th>2</th>\n",
       "      <td>3</td>\n",
       "      <td>30</td>\n",
       "      <td>2</td>\n",
       "      <td>30</td>\n",
       "      <td>2</td>\n",
       "      <td>30</td>\n",
       "      <td>2</td>\n",
       "      <td>30</td>\n",
       "      <td>2</td>\n",
       "      <td>3</td>\n",
       "      <td>23.258889</td>\n",
       "      <td>455</td>\n",
       "    </tr>\n",
       "    <tr>\n",
       "      <th>3</th>\n",
       "      <td>3</td>\n",
       "      <td>15</td>\n",
       "      <td>5</td>\n",
       "      <td>15</td>\n",
       "      <td>5</td>\n",
       "      <td>15</td>\n",
       "      <td>5</td>\n",
       "      <td>15</td>\n",
       "      <td>5</td>\n",
       "      <td>9</td>\n",
       "      <td>19.200000</td>\n",
       "      <td>1341</td>\n",
       "    </tr>\n",
       "    <tr>\n",
       "      <th>4</th>\n",
       "      <td>1</td>\n",
       "      <td>13</td>\n",
       "      <td>1</td>\n",
       "      <td>13</td>\n",
       "      <td>1</td>\n",
       "      <td>13</td>\n",
       "      <td>1</td>\n",
       "      <td>13</td>\n",
       "      <td>1</td>\n",
       "      <td>9</td>\n",
       "      <td>15.400000</td>\n",
       "      <td>1214</td>\n",
       "    </tr>\n",
       "    <tr>\n",
       "      <th>...</th>\n",
       "      <td>...</td>\n",
       "      <td>...</td>\n",
       "      <td>...</td>\n",
       "      <td>...</td>\n",
       "      <td>...</td>\n",
       "      <td>...</td>\n",
       "      <td>...</td>\n",
       "      <td>...</td>\n",
       "      <td>...</td>\n",
       "      <td>...</td>\n",
       "      <td>...</td>\n",
       "      <td>...</td>\n",
       "    </tr>\n",
       "    <tr>\n",
       "      <th>21196</th>\n",
       "      <td>3</td>\n",
       "      <td>20</td>\n",
       "      <td>3</td>\n",
       "      <td>20</td>\n",
       "      <td>3</td>\n",
       "      <td>20</td>\n",
       "      <td>3</td>\n",
       "      <td>20</td>\n",
       "      <td>3</td>\n",
       "      <td>3</td>\n",
       "      <td>28.600000</td>\n",
       "      <td>9</td>\n",
       "    </tr>\n",
       "    <tr>\n",
       "      <th>21197</th>\n",
       "      <td>3</td>\n",
       "      <td>13</td>\n",
       "      <td>6</td>\n",
       "      <td>13</td>\n",
       "      <td>6</td>\n",
       "      <td>13</td>\n",
       "      <td>6</td>\n",
       "      <td>13</td>\n",
       "      <td>6</td>\n",
       "      <td>7</td>\n",
       "      <td>26.000000</td>\n",
       "      <td>770</td>\n",
       "    </tr>\n",
       "    <tr>\n",
       "      <th>21198</th>\n",
       "      <td>3</td>\n",
       "      <td>7</td>\n",
       "      <td>4</td>\n",
       "      <td>7</td>\n",
       "      <td>4</td>\n",
       "      <td>7</td>\n",
       "      <td>4</td>\n",
       "      <td>7</td>\n",
       "      <td>4</td>\n",
       "      <td>20</td>\n",
       "      <td>29.200000</td>\n",
       "      <td>2953</td>\n",
       "    </tr>\n",
       "    <tr>\n",
       "      <th>21199</th>\n",
       "      <td>1</td>\n",
       "      <td>4</td>\n",
       "      <td>3</td>\n",
       "      <td>4</td>\n",
       "      <td>3</td>\n",
       "      <td>4</td>\n",
       "      <td>3</td>\n",
       "      <td>4</td>\n",
       "      <td>3</td>\n",
       "      <td>13</td>\n",
       "      <td>15.000000</td>\n",
       "      <td>1380</td>\n",
       "    </tr>\n",
       "    <tr>\n",
       "      <th>21200</th>\n",
       "      <td>3</td>\n",
       "      <td>26</td>\n",
       "      <td>2</td>\n",
       "      <td>26</td>\n",
       "      <td>2</td>\n",
       "      <td>26</td>\n",
       "      <td>2</td>\n",
       "      <td>26</td>\n",
       "      <td>2</td>\n",
       "      <td>12</td>\n",
       "      <td>30.900000</td>\n",
       "      <td>2128</td>\n",
       "    </tr>\n",
       "  </tbody>\n",
       "</table>\n",
       "<p>21201 rows × 12 columns</p>\n",
       "</div>"
      ],
      "text/plain": [
       "       Platform Type  ...  Time from Pickup to Arrival\n",
       "0                  3  ...                          745\n",
       "1                  3  ...                         1993\n",
       "2                  3  ...                          455\n",
       "3                  3  ...                         1341\n",
       "4                  1  ...                         1214\n",
       "...              ...  ...                          ...\n",
       "21196              3  ...                            9\n",
       "21197              3  ...                          770\n",
       "21198              3  ...                         2953\n",
       "21199              1  ...                         1380\n",
       "21200              3  ...                         2128\n",
       "\n",
       "[21201 rows x 12 columns]"
      ]
     },
     "execution_count": 14,
     "metadata": {
      "tags": []
     },
     "output_type": "execute_result"
    }
   ],
   "source": [
    "dataset"
   ]
  },
  {
   "cell_type": "code",
   "execution_count": 15,
   "metadata": {
    "colab": {
     "base_uri": "https://localhost:8080/",
     "height": 417
    },
    "colab_type": "code",
    "id": "_fvNB8tjMHUe",
    "outputId": "91116f47-cc04-448c-906c-49136867510f"
   },
   "outputs": [
    {
     "data": {
      "text/html": [
       "<div>\n",
       "<style scoped>\n",
       "    .dataframe tbody tr th:only-of-type {\n",
       "        vertical-align: middle;\n",
       "    }\n",
       "\n",
       "    .dataframe tbody tr th {\n",
       "        vertical-align: top;\n",
       "    }\n",
       "\n",
       "    .dataframe thead th {\n",
       "        text-align: right;\n",
       "    }\n",
       "</style>\n",
       "<table border=\"1\" class=\"dataframe\">\n",
       "  <thead>\n",
       "    <tr style=\"text-align: right;\">\n",
       "      <th></th>\n",
       "      <th>count</th>\n",
       "      <th>mean</th>\n",
       "      <th>std</th>\n",
       "      <th>min</th>\n",
       "      <th>25%</th>\n",
       "      <th>50%</th>\n",
       "      <th>75%</th>\n",
       "      <th>max</th>\n",
       "    </tr>\n",
       "  </thead>\n",
       "  <tbody>\n",
       "    <tr>\n",
       "      <th>Platform Type</th>\n",
       "      <td>21201.0</td>\n",
       "      <td>2.752182</td>\n",
       "      <td>0.625178</td>\n",
       "      <td>1.0</td>\n",
       "      <td>3.0</td>\n",
       "      <td>3.000000</td>\n",
       "      <td>3.0</td>\n",
       "      <td>4.0</td>\n",
       "    </tr>\n",
       "    <tr>\n",
       "      <th>Placement - Day of Month</th>\n",
       "      <td>21201.0</td>\n",
       "      <td>15.653696</td>\n",
       "      <td>8.798916</td>\n",
       "      <td>1.0</td>\n",
       "      <td>8.0</td>\n",
       "      <td>15.000000</td>\n",
       "      <td>23.0</td>\n",
       "      <td>31.0</td>\n",
       "    </tr>\n",
       "    <tr>\n",
       "      <th>Placement - Weekday (Mo = 1)</th>\n",
       "      <td>21201.0</td>\n",
       "      <td>3.240083</td>\n",
       "      <td>1.567295</td>\n",
       "      <td>1.0</td>\n",
       "      <td>2.0</td>\n",
       "      <td>3.000000</td>\n",
       "      <td>5.0</td>\n",
       "      <td>7.0</td>\n",
       "    </tr>\n",
       "    <tr>\n",
       "      <th>Confirmation - Day of Month</th>\n",
       "      <td>21201.0</td>\n",
       "      <td>15.653837</td>\n",
       "      <td>8.798886</td>\n",
       "      <td>1.0</td>\n",
       "      <td>8.0</td>\n",
       "      <td>15.000000</td>\n",
       "      <td>23.0</td>\n",
       "      <td>31.0</td>\n",
       "    </tr>\n",
       "    <tr>\n",
       "      <th>Confirmation - Weekday (Mo = 1)</th>\n",
       "      <td>21201.0</td>\n",
       "      <td>3.240225</td>\n",
       "      <td>1.567228</td>\n",
       "      <td>1.0</td>\n",
       "      <td>2.0</td>\n",
       "      <td>3.000000</td>\n",
       "      <td>5.0</td>\n",
       "      <td>7.0</td>\n",
       "    </tr>\n",
       "    <tr>\n",
       "      <th>Arrival at Pickup - Day of Month</th>\n",
       "      <td>21201.0</td>\n",
       "      <td>15.653837</td>\n",
       "      <td>8.798886</td>\n",
       "      <td>1.0</td>\n",
       "      <td>8.0</td>\n",
       "      <td>15.000000</td>\n",
       "      <td>23.0</td>\n",
       "      <td>31.0</td>\n",
       "    </tr>\n",
       "    <tr>\n",
       "      <th>Arrival at Pickup - Weekday (Mo = 1)</th>\n",
       "      <td>21201.0</td>\n",
       "      <td>3.240225</td>\n",
       "      <td>1.567228</td>\n",
       "      <td>1.0</td>\n",
       "      <td>2.0</td>\n",
       "      <td>3.000000</td>\n",
       "      <td>5.0</td>\n",
       "      <td>7.0</td>\n",
       "    </tr>\n",
       "    <tr>\n",
       "      <th>Pickup - Day of Month</th>\n",
       "      <td>21201.0</td>\n",
       "      <td>15.653837</td>\n",
       "      <td>8.798886</td>\n",
       "      <td>1.0</td>\n",
       "      <td>8.0</td>\n",
       "      <td>15.000000</td>\n",
       "      <td>23.0</td>\n",
       "      <td>31.0</td>\n",
       "    </tr>\n",
       "    <tr>\n",
       "      <th>Pickup - Weekday (Mo = 1)</th>\n",
       "      <td>21201.0</td>\n",
       "      <td>3.240225</td>\n",
       "      <td>1.567228</td>\n",
       "      <td>1.0</td>\n",
       "      <td>2.0</td>\n",
       "      <td>3.000000</td>\n",
       "      <td>5.0</td>\n",
       "      <td>7.0</td>\n",
       "    </tr>\n",
       "    <tr>\n",
       "      <th>Distance (KM)</th>\n",
       "      <td>21201.0</td>\n",
       "      <td>9.506533</td>\n",
       "      <td>5.668963</td>\n",
       "      <td>1.0</td>\n",
       "      <td>5.0</td>\n",
       "      <td>8.000000</td>\n",
       "      <td>13.0</td>\n",
       "      <td>49.0</td>\n",
       "    </tr>\n",
       "    <tr>\n",
       "      <th>Temperature</th>\n",
       "      <td>21201.0</td>\n",
       "      <td>23.258889</td>\n",
       "      <td>3.222006</td>\n",
       "      <td>11.2</td>\n",
       "      <td>21.4</td>\n",
       "      <td>23.258889</td>\n",
       "      <td>25.3</td>\n",
       "      <td>32.1</td>\n",
       "    </tr>\n",
       "    <tr>\n",
       "      <th>Time from Pickup to Arrival</th>\n",
       "      <td>21201.0</td>\n",
       "      <td>1556.920947</td>\n",
       "      <td>987.270788</td>\n",
       "      <td>1.0</td>\n",
       "      <td>882.0</td>\n",
       "      <td>1369.000000</td>\n",
       "      <td>2040.0</td>\n",
       "      <td>7883.0</td>\n",
       "    </tr>\n",
       "  </tbody>\n",
       "</table>\n",
       "</div>"
      ],
      "text/plain": [
       "                                        count         mean  ...     75%     max\n",
       "Platform Type                         21201.0     2.752182  ...     3.0     4.0\n",
       "Placement - Day of Month              21201.0    15.653696  ...    23.0    31.0\n",
       "Placement - Weekday (Mo = 1)          21201.0     3.240083  ...     5.0     7.0\n",
       "Confirmation - Day of Month           21201.0    15.653837  ...    23.0    31.0\n",
       "Confirmation - Weekday (Mo = 1)       21201.0     3.240225  ...     5.0     7.0\n",
       "Arrival at Pickup - Day of Month      21201.0    15.653837  ...    23.0    31.0\n",
       "Arrival at Pickup - Weekday (Mo = 1)  21201.0     3.240225  ...     5.0     7.0\n",
       "Pickup - Day of Month                 21201.0    15.653837  ...    23.0    31.0\n",
       "Pickup - Weekday (Mo = 1)             21201.0     3.240225  ...     5.0     7.0\n",
       "Distance (KM)                         21201.0     9.506533  ...    13.0    49.0\n",
       "Temperature                           21201.0    23.258889  ...    25.3    32.1\n",
       "Time from Pickup to Arrival           21201.0  1556.920947  ...  2040.0  7883.0\n",
       "\n",
       "[12 rows x 8 columns]"
      ]
     },
     "execution_count": 15,
     "metadata": {
      "tags": []
     },
     "output_type": "execute_result"
    }
   ],
   "source": [
    "dataset.describe().T"
   ]
  },
  {
   "cell_type": "markdown",
   "metadata": {
    "colab_type": "text",
    "id": "UfThKfCmOYWk"
   },
   "source": [
    "###**1.3. Checking the mathematical relationships**\n",
    "We firsty check linearity which is the mathematical relationship between each predictor variable and the response variable.\n",
    "\n",
    "\n",
    "> Indented block\n",
    "\n",
    "\n",
    "If we fit the regression model to a dataset that is non-linear, it will fail to adequately capture the relationship in the data - resulting in a mathematically inappropriate model. In order to check for linearity, we can produce scatter plots of each individual predictor against the response variable. The intuition here is that we are looking for obvious linear relationships."
   ]
  },
  {
   "cell_type": "code",
   "execution_count": 16,
   "metadata": {
    "colab": {
     "base_uri": "https://localhost:8080/",
     "height": 403
    },
    "colab_type": "code",
    "id": "iK7Qa9XqMHQF",
    "outputId": "9e9dd932-3ee3-41bd-c044-8738fef1717a"
   },
   "outputs": [
    {
     "data": {
      "image/png": "[encoded data removed]",
      "text/plain": [
       "<Figure size 1008x432 with 12 Axes>"
      ]
     },
     "metadata": {
      "needs_background": "light",
      "tags": []
     },
     "output_type": "display_data"
    }
   ],
   "source": [
    "fig, axs = plt.subplots(2,6, figsize=(14,6),)\n",
    "fig.subplots_adjust(hspace = 0.5, wspace=.2)\n",
    "axs = axs.ravel()\n",
    "\n",
    "for index, column in enumerate(dataset.columns):\n",
    "    axs[index-1].set_title(\"{} vs. Arrival\".format(column),fontsize=8)\n",
    "    axs[index-1].scatter(x=dataset[column],y=dataset['Time from Pickup to Arrival'],color='blue',edgecolor='k')\n",
    "\n",
    "fig.tight_layout(pad=3)"
   ]
  },
  {
   "cell_type": "markdown",
   "metadata": {
    "colab_type": "text",
    "id": "pXVhqt5vPt3N"
   },
   "source": [
    "It appears that at least half of the variables have an approximately linear relationship. However, Temperature exhibit no linearity with Time from Pickup to Arrival."
   ]
  },
  {
   "cell_type": "code",
   "execution_count": 17,
   "metadata": {
    "colab": {
     "base_uri": "https://localhost:8080/",
     "height": 849
    },
    "colab_type": "code",
    "id": "4N37rWqTPagI",
    "outputId": "3b94d831-d24b-4d5a-c800-e24ded2da65a"
   },
   "outputs": [
    {
     "data": {
      "image/png": "[encoded data removed]",
      "text/plain": [
       "<Figure size 792x792 with 132 Axes>"
      ]
     },
     "metadata": {
      "needs_background": "light",
      "tags": []
     },
     "output_type": "display_data"
    }
   ],
   "source": [
    "from seaborn import pairplot\n",
    "g = pairplot(dataset.drop('Time from Pickup to Arrival', axis='columns'))\n",
    "g.fig.set_size_inches(11,11)"
   ]
  },
  {
   "cell_type": "code",
   "execution_count": null,
   "metadata": {
    "colab": {},
    "colab_type": "code",
    "id": "cDL7azoAPacz"
   },
   "outputs": [],
   "source": [
    "corr = dataset.drop('Time from Pickup to Arrival', axis='columns').corr()"
   ]
  },
  {
   "cell_type": "code",
   "execution_count": null,
   "metadata": {
    "colab": {},
    "colab_type": "code",
    "id": "JD0pa4PUPaaC"
   },
   "outputs": [],
   "source": [
    "from statsmodels.graphics.correlation import plot_corr"
   ]
  },
  {
   "cell_type": "code",
   "execution_count": 23,
   "metadata": {
    "colab": {
     "base_uri": "https://localhost:8080/",
     "height": 297
    },
    "colab_type": "code",
    "id": "alYCxd9oQUkD",
    "outputId": "7a9040e5-d440-4659-e661-ff1981c96e45"
   },
   "outputs": [
    {
     "data": {
      "image/png": "[encoded data removed]",
      "text/plain": [
       "<Figure size 432x288 with 2 Axes>"
      ]
     },
     "metadata": {
      "needs_background": "light",
      "tags": []
     },
     "output_type": "display_data"
    }
   ],
   "source": [
    "fig=plot_corr(corr,xnames=corr.columns)"
   ]
  },
  {
   "cell_type": "markdown",
   "metadata": {
    "colab_type": "text",
    "id": "Ybv1puU4QrYO"
   },
   "source": [
    "From both the pairwise scatterplot and correlation heatmap, we can see a number of strong correlations among predictors:\n",
    "\n",
    "    Placement - Day of Month and Arrival at Pickup - Day of Month;\n",
    "    Arrival at Pickup - Day of Month and Pickup - Day of Month;\n",
    "    Confirmation - Day of Month and Pickup - Day of Month;\n",
    "\n",
    "We'll keep these in mind when we build and continue to check the quality of our model."
   ]
  },
  {
   "cell_type": "markdown",
   "metadata": {
    "colab_type": "text",
    "id": "9yWWFmZtRgdQ"
   },
   "source": [
    "###**1.4. OLS Regression**"
   ]
  },
  {
   "cell_type": "code",
   "execution_count": null,
   "metadata": {
    "colab": {},
    "colab_type": "code",
    "id": "T5mNIT1dQ-pY"
   },
   "outputs": [],
   "source": [
    "import statsmodels.api as sm\n",
    "import statsmodels.formula.api as smf"
   ]
  },
  {
   "cell_type": "code",
   "execution_count": 25,
   "metadata": {
    "colab": {
     "base_uri": "https://localhost:8080/",
     "height": 682
    },
    "colab_type": "code",
    "id": "KVI-bGWPQ-eu",
    "outputId": "c4253614-4234-4743-f96c-398f5135a8b7"
   },
   "outputs": [
    {
     "data": {
      "text/html": [
       "<table class=\"simpletable\">\n",
       "<caption>OLS Regression Results</caption>\n",
       "<tr>\n",
       "  <th>Dep. Variable:</th>    <td>Time from Pickup to Arrival</td> <th>  R-squared:         </th>  <td>   0.337</td>  \n",
       "</tr>\n",
       "<tr>\n",
       "  <th>Model:</th>                        <td>OLS</td>             <th>  Adj. R-squared:    </th>  <td>   0.337</td>  \n",
       "</tr>\n",
       "<tr>\n",
       "  <th>Method:</th>                  <td>Least Squares</td>        <th>  F-statistic:       </th>  <td>   1799.</td>  \n",
       "</tr>\n",
       "<tr>\n",
       "  <th>Date:</th>                  <td>Tue, 02 Jun 2020</td>       <th>  Prob (F-statistic):</th>   <td>  0.00</td>   \n",
       "</tr>\n",
       "<tr>\n",
       "  <th>Time:</th>                      <td>18:21:29</td>           <th>  Log-Likelihood:    </th> <td>-1.7190e+05</td>\n",
       "</tr>\n",
       "<tr>\n",
       "  <th>No. Observations:</th>           <td> 21201</td>            <th>  AIC:               </th>  <td>3.438e+05</td> \n",
       "</tr>\n",
       "<tr>\n",
       "  <th>Df Residuals:</th>               <td> 21194</td>            <th>  BIC:               </th>  <td>3.439e+05</td> \n",
       "</tr>\n",
       "<tr>\n",
       "  <th>Df Model:</th>                   <td>     6</td>            <th>                     </th>      <td> </td>     \n",
       "</tr>\n",
       "<tr>\n",
       "  <th>Covariance Type:</th>           <td>nonrobust</td>          <th>                     </th>      <td> </td>     \n",
       "</tr>\n",
       "</table>\n",
       "<table class=\"simpletable\">\n",
       "<tr>\n",
       "                    <td></td>                      <th>coef</th>     <th>std err</th>      <th>t</th>      <th>P>|t|</th>  <th>[0.025</th>    <th>0.975]</th>  \n",
       "</tr>\n",
       "<tr>\n",
       "  <th>const</th>                                <td>  573.8207</td> <td>   46.657</td> <td>   12.299</td> <td> 0.000</td> <td>  482.369</td> <td>  665.272</td>\n",
       "</tr>\n",
       "<tr>\n",
       "  <th>Platform Type</th>                        <td>  -13.1669</td> <td>    9.054</td> <td>   -1.454</td> <td> 0.146</td> <td>  -30.914</td> <td>    4.580</td>\n",
       "</tr>\n",
       "<tr>\n",
       "  <th>Placement - Day of Month</th>             <td> -184.1041</td> <td>  179.731</td> <td>   -1.024</td> <td> 0.306</td> <td> -536.391</td> <td>  168.183</td>\n",
       "</tr>\n",
       "<tr>\n",
       "  <th>Placement - Weekday (Mo = 1)</th>         <td> -182.6739</td> <td>  179.732</td> <td>   -1.016</td> <td> 0.309</td> <td> -534.963</td> <td>  169.615</td>\n",
       "</tr>\n",
       "<tr>\n",
       "  <th>Confirmation - Day of Month</th>          <td>   60.9763</td> <td>   59.911</td> <td>    1.018</td> <td> 0.309</td> <td>  -56.454</td> <td>  178.406</td>\n",
       "</tr>\n",
       "<tr>\n",
       "  <th>Confirmation - Weekday (Mo = 1)</th>      <td>   62.4065</td> <td>   59.918</td> <td>    1.042</td> <td> 0.298</td> <td>  -55.038</td> <td>  179.851</td>\n",
       "</tr>\n",
       "<tr>\n",
       "  <th>Arrival at Pickup - Day of Month</th>     <td>   60.9763</td> <td>   59.911</td> <td>    1.018</td> <td> 0.309</td> <td>  -56.454</td> <td>  178.406</td>\n",
       "</tr>\n",
       "<tr>\n",
       "  <th>Arrival at Pickup - Weekday (Mo = 1)</th> <td>   62.4065</td> <td>   59.918</td> <td>    1.042</td> <td> 0.298</td> <td>  -55.038</td> <td>  179.851</td>\n",
       "</tr>\n",
       "<tr>\n",
       "  <th>Pickup - Day of Month</th>                <td>   60.9763</td> <td>   59.911</td> <td>    1.018</td> <td> 0.309</td> <td>  -56.454</td> <td>  178.406</td>\n",
       "</tr>\n",
       "<tr>\n",
       "  <th>Pickup - Weekday (Mo = 1)</th>            <td>   62.4065</td> <td>   59.918</td> <td>    1.042</td> <td> 0.298</td> <td>  -55.038</td> <td>  179.851</td>\n",
       "</tr>\n",
       "<tr>\n",
       "  <th>Distance (KM)</th>                        <td>  101.1087</td> <td>    0.974</td> <td>  103.829</td> <td> 0.000</td> <td>   99.200</td> <td>  103.017</td>\n",
       "</tr>\n",
       "<tr>\n",
       "  <th>Temperature</th>                          <td>    2.6553</td> <td>    1.754</td> <td>    1.513</td> <td> 0.130</td> <td>   -0.784</td> <td>    6.094</td>\n",
       "</tr>\n",
       "</table>\n",
       "<table class=\"simpletable\">\n",
       "<tr>\n",
       "  <th>Omnibus:</th>       <td>7137.186</td> <th>  Durbin-Watson:     </th> <td>   1.985</td> \n",
       "</tr>\n",
       "<tr>\n",
       "  <th>Prob(Omnibus):</th>  <td> 0.000</td>  <th>  Jarque-Bera (JB):  </th> <td>33597.850</td>\n",
       "</tr>\n",
       "<tr>\n",
       "  <th>Skew:</th>           <td> 1.577</td>  <th>  Prob(JB):          </th> <td>    0.00</td> \n",
       "</tr>\n",
       "<tr>\n",
       "  <th>Kurtosis:</th>       <td> 8.300</td>  <th>  Cond. No.          </th> <td>1.45e+19</td> \n",
       "</tr>\n",
       "</table><br/><br/>Warnings:<br/>[1] Standard Errors assume that the covariance matrix of the errors is correctly specified.<br/>[2] The smallest eigenvalue is 1.88e-31. This might indicate that there are<br/>strong multicollinearity problems or that the design matrix is singular."
      ],
      "text/plain": [
       "<class 'statsmodels.iolib.summary.Summary'>\n",
       "\"\"\"\n",
       "                                 OLS Regression Results                                \n",
       "=======================================================================================\n",
       "Dep. Variable:     Time from Pickup to Arrival   R-squared:                       0.337\n",
       "Model:                                     OLS   Adj. R-squared:                  0.337\n",
       "Method:                          Least Squares   F-statistic:                     1799.\n",
       "Date:                         Tue, 02 Jun 2020   Prob (F-statistic):               0.00\n",
       "Time:                                 18:21:29   Log-Likelihood:            -1.7190e+05\n",
       "No. Observations:                        21201   AIC:                         3.438e+05\n",
       "Df Residuals:                            21194   BIC:                         3.439e+05\n",
       "Df Model:                                    6                                         \n",
       "Covariance Type:                     nonrobust                                         \n",
       "========================================================================================================\n",
       "                                           coef    std err          t      P>|t|      [0.025      0.975]\n",
       "--------------------------------------------------------------------------------------------------------\n",
       "const                                  573.8207     46.657     12.299      0.000     482.369     665.272\n",
       "Platform Type                          -13.1669      9.054     -1.454      0.146     -30.914       4.580\n",
       "Placement - Day of Month              -184.1041    179.731     -1.024      0.306    -536.391     168.183\n",
       "Placement - Weekday (Mo = 1)          -182.6739    179.732     -1.016      0.309    -534.963     169.615\n",
       "Confirmation - Day of Month             60.9763     59.911      1.018      0.309     -56.454     178.406\n",
       "Confirmation - Weekday (Mo = 1)         62.4065     59.918      1.042      0.298     -55.038     179.851\n",
       "Arrival at Pickup - Day of Month        60.9763     59.911      1.018      0.309     -56.454     178.406\n",
       "Arrival at Pickup - Weekday (Mo = 1)    62.4065     59.918      1.042      0.298     -55.038     179.851\n",
       "Pickup - Day of Month                   60.9763     59.911      1.018      0.309     -56.454     178.406\n",
       "Pickup - Weekday (Mo = 1)               62.4065     59.918      1.042      0.298     -55.038     179.851\n",
       "Distance (KM)                          101.1087      0.974    103.829      0.000      99.200     103.017\n",
       "Temperature                              2.6553      1.754      1.513      0.130      -0.784       6.094\n",
       "==============================================================================\n",
       "Omnibus:                     7137.186   Durbin-Watson:                   1.985\n",
       "Prob(Omnibus):                  0.000   Jarque-Bera (JB):            33597.850\n",
       "Skew:                           1.577   Prob(JB):                         0.00\n",
       "Kurtosis:                       8.300   Cond. No.                     1.45e+19\n",
       "==============================================================================\n",
       "\n",
       "Warnings:\n",
       "[1] Standard Errors assume that the covariance matrix of the errors is correctly specified.\n",
       "[2] The smallest eigenvalue is 1.88e-31. This might indicate that there are\n",
       "strong multicollinearity problems or that the design matrix is singular.\n",
       "\"\"\""
      ]
     },
     "execution_count": 25,
     "metadata": {
      "tags": []
     },
     "output_type": "execute_result"
    }
   ],
   "source": [
    "X = dataset.iloc[:, :-1]\n",
    "y = dataset.iloc[:, -1]\n",
    "\n",
    "## fit a OLS model with intercept\n",
    "\n",
    "X = sm.add_constant(X)\n",
    "est = sm.OLS(y, X).fit()\n",
    "est.summary()"
   ]
  },
  {
   "cell_type": "code",
   "execution_count": 26,
   "metadata": {
    "colab": {
     "base_uri": "https://localhost:8080/",
     "height": 250
    },
    "colab_type": "code",
    "id": "ttj81z3lQUVw",
    "outputId": "8679d8fd-d5ac-4a5b-c15d-eac1bf8ed230"
   },
   "outputs": [
    {
     "data": {
      "image/png": "[encoded data removed]",
      "text/plain": [
       "<Figure size 576x216 with 1 Axes>"
      ]
     },
     "metadata": {
      "needs_background": "light",
      "tags": []
     },
     "output_type": "display_data"
    }
   ],
   "source": [
    "plt.figure(figsize=(8,3))\n",
    "p=plt.scatter(x=est.fittedvalues,y=est.resid,edgecolor='k')\n",
    "xmin = min(est.fittedvalues)\n",
    "xmax = max(est.fittedvalues)\n",
    "plt.hlines(y=0,xmin=xmin*0.9,xmax=xmax*1.1,color='red',linestyle='--',lw=3)\n",
    "plt.xlabel(\"Fitted values\",fontsize=15)\n",
    "plt.ylabel(\"Residuals\",fontsize=15)\n",
    "plt.title(\"Fitted vs. residuals plot\",fontsize=18)\n",
    "plt.grid(True)\n",
    "plt.show()"
   ]
  },
  {
   "cell_type": "markdown",
   "metadata": {
    "colab_type": "text",
    "id": "UKzuDr9cSrnG"
   },
   "source": [
    "It appears the points are scattered quite a bit densely throughout and not forming a funnel shape, indicating a strong assumption of Homoscedasticity. The chances of outliers disproportionately influencing the model's performance are quite slim.\n",
    "\n",
    "In conclusion, there are variables that correlate to assist in estimating the Time from Pickup to Arrival. This is properly showed when we train our model even further and add more variables from the dataset given."
   ]
  },
  {
   "cell_type": "code",
   "execution_count": null,
   "metadata": {
    "colab": {},
    "colab_type": "code",
    "id": "VTHLr0Z2SQAc"
   },
   "outputs": [],
   "source": []
  },
  {
   "cell_type": "markdown",
   "metadata": {
    "colab_type": "text",
    "id": "OHT-NWIGS32U"
   },
   "source": [
    "#**2. Data Preprocessing**"
   ]
  },
  {
   "cell_type": "code",
   "execution_count": null,
   "metadata": {
    "colab": {},
    "colab_type": "code",
    "id": "0px5yoQlKRhf"
   },
   "outputs": [],
   "source": [
    "riders = pd.read_csv(\"Riders.csv\", index_col = 'Rider Id')\n",
    "train = pd.read_csv('Train.csv', index_col='Order No')\n",
    "test = pd.read_csv('Test.csv', index_col='Order No')"
   ]
  },
  {
   "cell_type": "markdown",
   "metadata": {
    "colab_type": "text",
    "id": "MjRSqZ9bU5cg"
   },
   "source": [
    "##**2.1. Preprocessing of the train data**"
   ]
  },
  {
   "cell_type": "code",
   "execution_count": null,
   "metadata": {
    "colab": {},
    "colab_type": "code",
    "id": "0gQ6FsLcKRhl"
   },
   "outputs": [],
   "source": [
    "y_train = train['Time from Pickup to Arrival'].values\n",
    "train.drop([\"Arrival at Destination - Day of Month\",\"Arrival at Destination - Weekday (Mo = 1)\",\"Arrival at Destination - Time\"],axis = 1,inplace =True)\n",
    "\n",
    "##START coding rider meta data\n",
    "avg_rating = []\n",
    "no_ratings = []\n",
    "days_worked = []\n",
    "orders = []\n",
    "rid = train['Rider Id'].values \n",
    "for x in rid:\n",
    "    avg_rating.append(riders.at[x, 'Average_Rating']) #creates a list of average rider rating\n",
    "    no_ratings.append(riders.at[x, 'No_of_Ratings']) #creates a list of total numbe rof rider ratings\n",
    "    days_worked.append(riders.at[x, 'Age']) #creates a list of rider age (Days delivering)\n",
    "    \n",
    "train['Average Rating'] = avg_rating\n",
    "train['Age'] = days_worked\n",
    "train['No. of Ratings'] = no_ratings\n",
    "##END coding rider meta data\n",
    "train.pop('Temperature')\n",
    "##START coding time hours (24hr period)\n",
    "holder = []\n",
    "time_binary = ['Placement - Time', 'Confirmation - Time', 'Arrival at Pickup - Time', 'Pickup - Time']\n",
    "for x in train[time_binary]:\n",
    "    holder = pd.to_datetime(train[x]).dt.hour\n",
    "    train[x] = holder\n",
    "##END coding time hours (24hr period)\n",
    "\n",
    "\n",
    "##START reverse geocoding\n",
    "#Creating PICK_UP name DF\n",
    "pick_up_la = train['Pickup Lat'].values \n",
    "pick_up_lo = train['Pickup Long'].values\n",
    "\n",
    "pic_dest = pd.DataFrame(np.concatenate((pick_up_la.reshape(len(pick_up_la),1), pick_up_lo.reshape(len(pick_up_lo),1)),1))\n",
    "pic_dest['GPS'] = pic_dest.apply(tuple, axis=1) #Create useable search tuple\n",
    "\n",
    "pick_up = pic_dest['GPS'].values\n",
    "searcher_pic = rg.search(list(pick_up))\n",
    "pick_df = pd.DataFrame(searcher_pic) #final frame with PICK_UP LOC\n",
    "\n",
    "\n",
    "#Creating DESTINATION name DF\n",
    "\n",
    "dest_la = train['Destination Lat'].values \n",
    "dest_lo = train['Destination Long'].values\n",
    "\n",
    "del_dest = pd.DataFrame(np.concatenate((dest_la.reshape(len(dest_la),1), dest_lo.reshape(len(dest_lo),1)),1))\n",
    "del_dest['GPS'] = del_dest.apply(tuple, axis=1) #Create useable search tuple\n",
    "\n",
    "deliveries = del_dest['GPS'].values\n",
    "searcher_del = rg.search(list(deliveries))\n",
    "dest_df = pd.DataFrame(searcher_del) #final frame with DEST LOC\n",
    "\n",
    "train['Destination'] = dest_df['admin1'].values\n",
    "train['Pick_up'] = pick_df['admin1'].values\n",
    "## END reverse geocoding\n",
    "\n",
    "\n",
    "##STAR df features to be removed\n",
    "train.pop('Time from Pickup to Arrival')\n",
    "train.pop('User Id')\n",
    "train.pop('Placement - Day of Month')\n",
    "train.pop('Confirmation - Day of Month')\n",
    "train.pop('Arrival at Pickup - Day of Month')\n",
    "train.pop('Pickup - Day of Month')\n",
    "train.pop('Personal or Business')\n",
    "train.pop('Pickup Lat')\n",
    "train.pop('Pickup Long')\n",
    "train.pop('Destination Lat')\n",
    "train.pop('Destination Long')\n",
    "train.pop('Rider Id')\n",
    "train.pop('Precipitation in millimeters')\n",
    "train.pop('Pickup - Weekday (Mo = 1)')\n",
    "train.pop('Placement - Weekday (Mo = 1)')\n",
    "train.pop('Destination')\n",
    "train.pop('Vehicle Type')\n",
    "train.pop('Pick_up')\n",
    "##END df features to be removed\n",
    "\n",
    "x_train = train.values\n"
   ]
  },
  {
   "cell_type": "markdown",
   "metadata": {
    "colab_type": "text",
    "id": "YD1M4QqlUshe"
   },
   "source": [
    "##**Checking the preprocessed data**"
   ]
  },
  {
   "cell_type": "code",
   "execution_count": 42,
   "metadata": {
    "colab": {
     "base_uri": "https://localhost:8080/",
     "height": 104
    },
    "colab_type": "code",
    "id": "kxKwggs6KRhr",
    "outputId": "4f04986f-1d4f-4ac5-e0bf-571934dc099d"
   },
   "outputs": [
    {
     "data": {
      "text/plain": [
       "Index(['Platform Type', 'Placement - Time', 'Confirmation - Weekday (Mo = 1)',\n",
       "       'Confirmation - Time', 'Arrival at Pickup - Weekday (Mo = 1)',\n",
       "       'Arrival at Pickup - Time', 'Pickup - Time', 'Distance (KM)',\n",
       "       'Average Rating', 'Age', 'No. of Ratings'],\n",
       "      dtype='object')"
      ]
     },
     "execution_count": 42,
     "metadata": {
      "tags": []
     },
     "output_type": "execute_result"
    }
   ],
   "source": [
    "train.columns"
   ]
  },
  {
   "cell_type": "code",
   "execution_count": 43,
   "metadata": {
    "colab": {
     "base_uri": "https://localhost:8080/",
     "height": 208
    },
    "colab_type": "code",
    "id": "DfhbxWB5KRh2",
    "outputId": "f4238af2-e3e2-4d52-d250-ec351894c10c"
   },
   "outputs": [
    {
     "data": {
      "text/plain": [
       "Index(['User Id', 'Vehicle Type', 'Platform Type', 'Personal or Business',\n",
       "       'Placement - Day of Month', 'Placement - Weekday (Mo = 1)',\n",
       "       'Placement - Time', 'Confirmation - Day of Month',\n",
       "       'Confirmation - Weekday (Mo = 1)', 'Confirmation - Time',\n",
       "       'Arrival at Pickup - Day of Month',\n",
       "       'Arrival at Pickup - Weekday (Mo = 1)', 'Arrival at Pickup - Time',\n",
       "       'Pickup - Day of Month', 'Pickup - Weekday (Mo = 1)', 'Pickup - Time',\n",
       "       'Distance (KM)', 'Temperature', 'Precipitation in millimeters',\n",
       "       'Pickup Lat', 'Pickup Long', 'Destination Lat', 'Destination Long',\n",
       "       'Rider Id'],\n",
       "      dtype='object')"
      ]
     },
     "execution_count": 43,
     "metadata": {
      "tags": []
     },
     "output_type": "execute_result"
    }
   ],
   "source": [
    "test.columns"
   ]
  },
  {
   "cell_type": "code",
   "execution_count": 46,
   "metadata": {
    "colab": {
     "base_uri": "https://localhost:8080/",
     "height": 250
    },
    "colab_type": "code",
    "id": "NHAST-9ZKRh6",
    "outputId": "e4b21a34-955d-4f2c-c32f-07970063dea5"
   },
   "outputs": [
    {
     "data": {
      "text/html": [
       "<div>\n",
       "<style scoped>\n",
       "    .dataframe tbody tr th:only-of-type {\n",
       "        vertical-align: middle;\n",
       "    }\n",
       "\n",
       "    .dataframe tbody tr th {\n",
       "        vertical-align: top;\n",
       "    }\n",
       "\n",
       "    .dataframe thead th {\n",
       "        text-align: right;\n",
       "    }\n",
       "</style>\n",
       "<table border=\"1\" class=\"dataframe\">\n",
       "  <thead>\n",
       "    <tr style=\"text-align: right;\">\n",
       "      <th></th>\n",
       "      <th>Platform Type</th>\n",
       "      <th>Placement - Time</th>\n",
       "      <th>Confirmation - Weekday (Mo = 1)</th>\n",
       "      <th>Confirmation - Time</th>\n",
       "      <th>Arrival at Pickup - Weekday (Mo = 1)</th>\n",
       "      <th>Arrival at Pickup - Time</th>\n",
       "      <th>Pickup - Time</th>\n",
       "      <th>Distance (KM)</th>\n",
       "      <th>Average Rating</th>\n",
       "      <th>Age</th>\n",
       "      <th>No. of Ratings</th>\n",
       "    </tr>\n",
       "    <tr>\n",
       "      <th>Order No</th>\n",
       "      <th></th>\n",
       "      <th></th>\n",
       "      <th></th>\n",
       "      <th></th>\n",
       "      <th></th>\n",
       "      <th></th>\n",
       "      <th></th>\n",
       "      <th></th>\n",
       "      <th></th>\n",
       "      <th></th>\n",
       "      <th></th>\n",
       "    </tr>\n",
       "  </thead>\n",
       "  <tbody>\n",
       "    <tr>\n",
       "      <th>Order_No_4211</th>\n",
       "      <td>3</td>\n",
       "      <td>9</td>\n",
       "      <td>5</td>\n",
       "      <td>9</td>\n",
       "      <td>5</td>\n",
       "      <td>10</td>\n",
       "      <td>10</td>\n",
       "      <td>4</td>\n",
       "      <td>13.8</td>\n",
       "      <td>1309</td>\n",
       "      <td>549</td>\n",
       "    </tr>\n",
       "    <tr>\n",
       "      <th>Order_No_25375</th>\n",
       "      <td>3</td>\n",
       "      <td>11</td>\n",
       "      <td>5</td>\n",
       "      <td>11</td>\n",
       "      <td>5</td>\n",
       "      <td>11</td>\n",
       "      <td>11</td>\n",
       "      <td>16</td>\n",
       "      <td>13.6</td>\n",
       "      <td>339</td>\n",
       "      <td>69</td>\n",
       "    </tr>\n",
       "    <tr>\n",
       "      <th>Order_No_1899</th>\n",
       "      <td>3</td>\n",
       "      <td>12</td>\n",
       "      <td>2</td>\n",
       "      <td>12</td>\n",
       "      <td>2</td>\n",
       "      <td>12</td>\n",
       "      <td>12</td>\n",
       "      <td>3</td>\n",
       "      <td>12.5</td>\n",
       "      <td>242</td>\n",
       "      <td>114</td>\n",
       "    </tr>\n",
       "    <tr>\n",
       "      <th>Order_No_9336</th>\n",
       "      <td>3</td>\n",
       "      <td>9</td>\n",
       "      <td>5</td>\n",
       "      <td>9</td>\n",
       "      <td>5</td>\n",
       "      <td>9</td>\n",
       "      <td>9</td>\n",
       "      <td>9</td>\n",
       "      <td>14.5</td>\n",
       "      <td>283</td>\n",
       "      <td>113</td>\n",
       "    </tr>\n",
       "    <tr>\n",
       "      <th>Order_No_27883</th>\n",
       "      <td>1</td>\n",
       "      <td>9</td>\n",
       "      <td>1</td>\n",
       "      <td>9</td>\n",
       "      <td>1</td>\n",
       "      <td>10</td>\n",
       "      <td>10</td>\n",
       "      <td>9</td>\n",
       "      <td>14.1</td>\n",
       "      <td>872</td>\n",
       "      <td>533</td>\n",
       "    </tr>\n",
       "  </tbody>\n",
       "</table>\n",
       "</div>"
      ],
      "text/plain": [
       "                Platform Type  Placement - Time  ...   Age  No. of Ratings\n",
       "Order No                                         ...                      \n",
       "Order_No_4211               3                 9  ...  1309             549\n",
       "Order_No_25375              3                11  ...   339              69\n",
       "Order_No_1899               3                12  ...   242             114\n",
       "Order_No_9336               3                 9  ...   283             113\n",
       "Order_No_27883              1                 9  ...   872             533\n",
       "\n",
       "[5 rows x 11 columns]"
      ]
     },
     "execution_count": 46,
     "metadata": {
      "tags": []
     },
     "output_type": "execute_result"
    }
   ],
   "source": [
    "train.head()"
   ]
  },
  {
   "cell_type": "code",
   "execution_count": 47,
   "metadata": {
    "colab": {
     "base_uri": "https://localhost:8080/",
     "height": 35
    },
    "colab_type": "code",
    "id": "sVihy9SgKRh-",
    "outputId": "9ce8f264-97ed-4817-c2d0-1a18ca45c67b"
   },
   "outputs": [
    {
     "data": {
      "text/plain": [
       "(21201, 11)"
      ]
     },
     "execution_count": 47,
     "metadata": {
      "tags": []
     },
     "output_type": "execute_result"
    }
   ],
   "source": [
    "train.shape"
   ]
  },
  {
   "cell_type": "code",
   "execution_count": null,
   "metadata": {
    "colab": {},
    "colab_type": "code",
    "id": "Nzs2-ZmSKRiD"
   },
   "outputs": [],
   "source": [
    "dataset = train[['Platform Type', 'Placement - Time', 'Confirmation - Weekday (Mo = 1)',\n",
    "       'Confirmation - Time', 'Arrival at Pickup - Weekday (Mo = 1)',\n",
    "       'Arrival at Pickup - Time', 'Pickup - Time', 'Distance (KM)',\n",
    "       'Average Rating', 'Age', 'No. of Ratings']]"
   ]
  },
  {
   "cell_type": "code",
   "execution_count": 49,
   "metadata": {
    "colab": {
     "base_uri": "https://localhost:8080/",
     "height": 386
    },
    "colab_type": "code",
    "id": "Vcjx8SdbKRiG",
    "outputId": "2bb1cb41-a86d-47a3-8278-369fe52de98f"
   },
   "outputs": [
    {
     "data": {
      "text/html": [
       "<div>\n",
       "<style scoped>\n",
       "    .dataframe tbody tr th:only-of-type {\n",
       "        vertical-align: middle;\n",
       "    }\n",
       "\n",
       "    .dataframe tbody tr th {\n",
       "        vertical-align: top;\n",
       "    }\n",
       "\n",
       "    .dataframe thead th {\n",
       "        text-align: right;\n",
       "    }\n",
       "</style>\n",
       "<table border=\"1\" class=\"dataframe\">\n",
       "  <thead>\n",
       "    <tr style=\"text-align: right;\">\n",
       "      <th></th>\n",
       "      <th>count</th>\n",
       "      <th>mean</th>\n",
       "      <th>std</th>\n",
       "      <th>min</th>\n",
       "      <th>25%</th>\n",
       "      <th>50%</th>\n",
       "      <th>75%</th>\n",
       "      <th>max</th>\n",
       "    </tr>\n",
       "  </thead>\n",
       "  <tbody>\n",
       "    <tr>\n",
       "      <th>Platform Type</th>\n",
       "      <td>21201.0</td>\n",
       "      <td>2.752182</td>\n",
       "      <td>0.625178</td>\n",
       "      <td>1.0</td>\n",
       "      <td>3.0</td>\n",
       "      <td>3.0</td>\n",
       "      <td>3.0</td>\n",
       "      <td>4.0</td>\n",
       "    </tr>\n",
       "    <tr>\n",
       "      <th>Placement - Time</th>\n",
       "      <td>21201.0</td>\n",
       "      <td>12.326824</td>\n",
       "      <td>2.541007</td>\n",
       "      <td>0.0</td>\n",
       "      <td>10.0</td>\n",
       "      <td>12.0</td>\n",
       "      <td>14.0</td>\n",
       "      <td>22.0</td>\n",
       "    </tr>\n",
       "    <tr>\n",
       "      <th>Confirmation - Weekday (Mo = 1)</th>\n",
       "      <td>21201.0</td>\n",
       "      <td>3.240225</td>\n",
       "      <td>1.567228</td>\n",
       "      <td>1.0</td>\n",
       "      <td>2.0</td>\n",
       "      <td>3.0</td>\n",
       "      <td>5.0</td>\n",
       "      <td>7.0</td>\n",
       "    </tr>\n",
       "    <tr>\n",
       "      <th>Confirmation - Time</th>\n",
       "      <td>21201.0</td>\n",
       "      <td>12.447998</td>\n",
       "      <td>2.556059</td>\n",
       "      <td>0.0</td>\n",
       "      <td>10.0</td>\n",
       "      <td>12.0</td>\n",
       "      <td>14.0</td>\n",
       "      <td>22.0</td>\n",
       "    </tr>\n",
       "    <tr>\n",
       "      <th>Arrival at Pickup - Weekday (Mo = 1)</th>\n",
       "      <td>21201.0</td>\n",
       "      <td>3.240225</td>\n",
       "      <td>1.567228</td>\n",
       "      <td>1.0</td>\n",
       "      <td>2.0</td>\n",
       "      <td>3.0</td>\n",
       "      <td>5.0</td>\n",
       "      <td>7.0</td>\n",
       "    </tr>\n",
       "    <tr>\n",
       "      <th>Arrival at Pickup - Time</th>\n",
       "      <td>21201.0</td>\n",
       "      <td>12.663223</td>\n",
       "      <td>2.558333</td>\n",
       "      <td>0.0</td>\n",
       "      <td>11.0</td>\n",
       "      <td>13.0</td>\n",
       "      <td>15.0</td>\n",
       "      <td>23.0</td>\n",
       "    </tr>\n",
       "    <tr>\n",
       "      <th>Pickup - Time</th>\n",
       "      <td>21201.0</td>\n",
       "      <td>12.873214</td>\n",
       "      <td>2.551666</td>\n",
       "      <td>0.0</td>\n",
       "      <td>11.0</td>\n",
       "      <td>13.0</td>\n",
       "      <td>15.0</td>\n",
       "      <td>23.0</td>\n",
       "    </tr>\n",
       "    <tr>\n",
       "      <th>Distance (KM)</th>\n",
       "      <td>21201.0</td>\n",
       "      <td>9.506533</td>\n",
       "      <td>5.668963</td>\n",
       "      <td>1.0</td>\n",
       "      <td>5.0</td>\n",
       "      <td>8.0</td>\n",
       "      <td>13.0</td>\n",
       "      <td>49.0</td>\n",
       "    </tr>\n",
       "    <tr>\n",
       "      <th>Average Rating</th>\n",
       "      <td>21201.0</td>\n",
       "      <td>13.882520</td>\n",
       "      <td>0.916071</td>\n",
       "      <td>0.0</td>\n",
       "      <td>13.6</td>\n",
       "      <td>14.0</td>\n",
       "      <td>14.3</td>\n",
       "      <td>15.2</td>\n",
       "    </tr>\n",
       "    <tr>\n",
       "      <th>Age</th>\n",
       "      <td>21201.0</td>\n",
       "      <td>984.742842</td>\n",
       "      <td>646.652835</td>\n",
       "      <td>96.0</td>\n",
       "      <td>495.0</td>\n",
       "      <td>872.0</td>\n",
       "      <td>1236.0</td>\n",
       "      <td>3764.0</td>\n",
       "    </tr>\n",
       "    <tr>\n",
       "      <th>No. of Ratings</th>\n",
       "      <td>21201.0</td>\n",
       "      <td>341.067119</td>\n",
       "      <td>402.867746</td>\n",
       "      <td>0.0</td>\n",
       "      <td>61.0</td>\n",
       "      <td>161.0</td>\n",
       "      <td>495.0</td>\n",
       "      <td>2298.0</td>\n",
       "    </tr>\n",
       "  </tbody>\n",
       "</table>\n",
       "</div>"
      ],
      "text/plain": [
       "                                        count        mean  ...     75%     max\n",
       "Platform Type                         21201.0    2.752182  ...     3.0     4.0\n",
       "Placement - Time                      21201.0   12.326824  ...    14.0    22.0\n",
       "Confirmation - Weekday (Mo = 1)       21201.0    3.240225  ...     5.0     7.0\n",
       "Confirmation - Time                   21201.0   12.447998  ...    14.0    22.0\n",
       "Arrival at Pickup - Weekday (Mo = 1)  21201.0    3.240225  ...     5.0     7.0\n",
       "Arrival at Pickup - Time              21201.0   12.663223  ...    15.0    23.0\n",
       "Pickup - Time                         21201.0   12.873214  ...    15.0    23.0\n",
       "Distance (KM)                         21201.0    9.506533  ...    13.0    49.0\n",
       "Average Rating                        21201.0   13.882520  ...    14.3    15.2\n",
       "Age                                   21201.0  984.742842  ...  1236.0  3764.0\n",
       "No. of Ratings                        21201.0  341.067119  ...   495.0  2298.0\n",
       "\n",
       "[11 rows x 8 columns]"
      ]
     },
     "execution_count": 49,
     "metadata": {
      "tags": []
     },
     "output_type": "execute_result"
    }
   ],
   "source": [
    "dataset.describe().T"
   ]
  },
  {
   "cell_type": "markdown",
   "metadata": {
    "colab_type": "text",
    "id": "uFzOTTl1YIVZ"
   },
   "source": [
    "##**2.3. Preprocessing of the test data**"
   ]
  },
  {
   "cell_type": "code",
   "execution_count": null,
   "metadata": {
    "colab": {},
    "colab_type": "code",
    "id": "-wPafwzXKRim"
   },
   "outputs": [],
   "source": [
    "##START coding time hours (24hr period)\n",
    "holder2 = []\n",
    "time_binary2 = ['Placement - Time', 'Confirmation - Time', 'Arrival at Pickup - Time', 'Pickup - Time']\n",
    "for x in test[time_binary2]:\n",
    "    holder2 = pd.to_datetime(test[x]).dt.hour\n",
    "    test[x] = holder2\n",
    "##END coding time hours (24hr period)\n",
    "\n",
    "##START coding rider meta data\n",
    "avg_rating2 = []\n",
    "no_ratings2 = []\n",
    "days_worked2 = []\n",
    "rid2 = test['Rider Id'].values \n",
    "for x in rid2:\n",
    "    avg_rating2.append(riders.at[x, 'Average_Rating']) #creates a list of average rider rating\n",
    "    no_ratings2.append(riders.at[x, 'No_of_Ratings']) #creates a list of total numbe rof rider ratings\n",
    "    days_worked2.append(riders.at[x, 'Age']) #creates a list of rider age (Days delivering)\n",
    "\n",
    "test['Average Rating'] = avg_rating2\n",
    "test['Age'] = days_worked2\n",
    "test['No. of Ratings'] = no_ratings2\n",
    "##END coding rider meta data\n",
    "\n",
    "\n",
    "##START reverse geocoding\n",
    "#Creating PICK_UP name DF\n",
    "pick_up_la_test = test['Pickup Lat'].values \n",
    "pick_up_lo_test = test['Pickup Long'].values\n",
    "\n",
    "pic_dest_test = pd.DataFrame(np.concatenate((pick_up_la_test.reshape(len(pick_up_la_test),1), pick_up_lo_test.reshape(len(pick_up_lo_test),1)),1))\n",
    "pic_dest_test['GPS'] = pic_dest_test.apply(tuple, axis=1) #Create useable search tuple\n",
    "\n",
    "pick_up_test = pic_dest_test['GPS'].values\n",
    "searcher_pic_test = rg.search(list(pick_up_test))\n",
    "pick_df_test = pd.DataFrame(searcher_pic_test) #final frame with PICK_UP LOC\n",
    "\n",
    "\n",
    "#Creating DESTINATION name DF\n",
    "dest_la_test = test['Destination Lat'].values \n",
    "dest_lo_test = test['Destination Long'].values\n",
    "\n",
    "del_dest_test = pd.DataFrame(np.concatenate((dest_la_test.reshape(len(dest_la_test),1), dest_lo_test.reshape(len(dest_lo_test),1)),1))\n",
    "del_dest_test['GPS'] = del_dest_test.apply(tuple, axis=1) #Create useable search tuple\n",
    "\n",
    "deliveries_test = del_dest_test['GPS'].values\n",
    "searcher_del_test = rg.search(list(deliveries_test))\n",
    "dest_df_test = pd.DataFrame(searcher_del_test) #final frame with DEST LOC\n",
    "test['Destination'] = dest_df_test['admin1'].values\n",
    "test['Pick_up'] = pick_df_test['admin1'].values\n",
    "## END reverse geocoding\n",
    "\n",
    "test.pop('Temperature')\n",
    "\n",
    "##START df features to be reomved\n",
    "test.pop('Placement - Day of Month')\n",
    "test.pop('Confirmation - Day of Month')\n",
    "test.pop('Arrival at Pickup - Day of Month')\n",
    "test.pop('Pickup - Day of Month')\n",
    "test.pop('Personal or Business')\n",
    "test.pop('Precipitation in millimeters')\n",
    "test.pop('User Id')\n",
    "test.pop('Pickup Lat')\n",
    "test.pop('Pickup Long')\n",
    "test.pop('Destination Lat')\n",
    "test.pop('Destination Long')\n",
    "test.pop(\"Rider Id\")\n",
    "test.pop('Pickup - Weekday (Mo = 1)')\n",
    "test.pop('Placement - Weekday (Mo = 1)')\n",
    "test.pop('Destination')\n",
    "test.pop('Vehicle Type')\n",
    "test.pop('Pick_up')\n",
    "##END df features to be removed\n",
    "\n",
    "x_test2 = test.values\n",
    "\n",
    "\n",
    "\n"
   ]
  },
  {
   "cell_type": "code",
   "execution_count": 55,
   "metadata": {
    "colab": {
     "base_uri": "https://localhost:8080/",
     "height": 35
    },
    "colab_type": "code",
    "id": "65dbDHfgKRiq",
    "outputId": "82d37f37-8944-4f71-8124-477c90614197"
   },
   "outputs": [
    {
     "data": {
      "text/plain": [
       "(7068, 11)"
      ]
     },
     "execution_count": 55,
     "metadata": {
      "tags": []
     },
     "output_type": "execute_result"
    }
   ],
   "source": [
    "test.shape"
   ]
  },
  {
   "cell_type": "markdown",
   "metadata": {
    "colab_type": "text",
    "id": "PDNSNL-QYaOp"
   },
   "source": [
    "#**3. Modelling**"
   ]
  },
  {
   "cell_type": "markdown",
   "metadata": {
    "colab_type": "text",
    "id": "BPlZaB4AY63P"
   },
   "source": [
    "##**3.1. Feature scaling**"
   ]
  },
  {
   "cell_type": "code",
   "execution_count": 56,
   "metadata": {
    "colab": {
     "base_uri": "https://localhost:8080/",
     "height": 243
    },
    "colab_type": "code",
    "id": "Gucn_bZrKRiw",
    "outputId": "dcda0ce5-7109-47e9-ec4e-ce106cf88d6d"
   },
   "outputs": [
    {
     "data": {
      "text/plain": [
       "array([[ 0.3964062 , -1.30928492,  1.12288489, ..., -0.09008215,\n",
       "         0.50145115,  0.51614404],\n",
       "       [ 0.3964062 , -0.52217695,  1.12288489, ..., -0.30841101,\n",
       "        -0.99861632, -0.67534207],\n",
       "       [ 0.3964062 , -0.12862297, -0.79136764, ..., -1.50921972,\n",
       "        -1.14862306, -0.56364024],\n",
       "       ...,\n",
       "       [ 0.3964062 ,  1.83914695,  0.48480071, ..., -0.09008215,\n",
       "        -0.7913905 , -0.77463257],\n",
       "       [-2.80275932, -1.30928492, -0.15328346, ...,  0.12824671,\n",
       "         1.29323933,  1.88635305],\n",
       "       [ 0.3964062 ,  0.658485  , -0.79136764, ..., -0.30841101,\n",
       "        -1.08057876, -0.6728598 ]])"
      ]
     },
     "execution_count": 56,
     "metadata": {
      "tags": []
     },
     "output_type": "execute_result"
    }
   ],
   "source": [
    "from sklearn.preprocessing import StandardScaler\n",
    "\n",
    "sc = StandardScaler()\n",
    "x_train = sc.fit_transform(x_train)\n",
    "x_test2 = sc.fit_transform(x_test2)"
   ]
  },
  {
   "cell_type": "code",
   "execution_count": 57,
   "metadata": {
    "colab": {
     "base_uri": "https://localhost:8080/",
     "height": 208
    },
    "colab_type": "code",
    "id": "VBd9R7DlKRi3",
    "outputId": "996de3f4-c524-4e86-cb7c-b718ecef682b"
   },
   "outputs": [
    {
     "name": "stdout",
     "output_type": "stream",
     "text": [
      "Platform Type 0.0\n",
      "Placement - Time 0.0\n",
      "Confirmation - Weekday (Mo = 1) 0.0\n",
      "Confirmation - Time 0.0\n",
      "Arrival at Pickup - Weekday (Mo = 1) 0.0\n",
      "Arrival at Pickup - Time 0.0\n",
      "Pickup - Time 0.0\n",
      "Distance (KM) 0.0\n",
      "Average Rating 0.0\n",
      "Age 0.0\n",
      "No. of Ratings 0.0\n"
     ]
    }
   ],
   "source": [
    "# Final check of the data for NaN values\n",
    "for x in train:\n",
    "    print(x, train[x].isna().mean())"
   ]
  },
  {
   "cell_type": "code",
   "execution_count": 58,
   "metadata": {
    "colab": {
     "base_uri": "https://localhost:8080/",
     "height": 35
    },
    "colab_type": "code",
    "id": "HniR74EfKRi-",
    "outputId": "4d0ff5ed-027c-40ee-9108-6bb36635cd33"
   },
   "outputs": [
    {
     "data": {
      "text/plain": [
       "(21201, 11)"
      ]
     },
     "execution_count": 58,
     "metadata": {
      "tags": []
     },
     "output_type": "execute_result"
    }
   ],
   "source": [
    "x_train.shape"
   ]
  },
  {
   "cell_type": "code",
   "execution_count": 59,
   "metadata": {
    "colab": {
     "base_uri": "https://localhost:8080/",
     "height": 35
    },
    "colab_type": "code",
    "id": "wfjlJYq5KRjI",
    "outputId": "f2155a1d-5b50-44ed-b43a-f989340d7934"
   },
   "outputs": [
    {
     "data": {
      "text/plain": [
       "(7068, 11)"
      ]
     },
     "execution_count": 59,
     "metadata": {
      "tags": []
     },
     "output_type": "execute_result"
    }
   ],
   "source": [
    "x_test2.shape"
   ]
  },
  {
   "cell_type": "markdown",
   "metadata": {
    "colab_type": "text",
    "id": "zpMDR9-gadC-"
   },
   "source": [
    "##**3.2. Splitting the train dataset**"
   ]
  },
  {
   "cell_type": "code",
   "execution_count": null,
   "metadata": {
    "colab": {},
    "colab_type": "code",
    "id": "Sok0hrpkKRjc"
   },
   "outputs": [],
   "source": [
    "from sklearn.model_selection import train_test_split\n",
    "x_trainer, x_tester, y_trainer, y_tester = train_test_split(x_train, y_train, test_size=0.20)"
   ]
  },
  {
   "cell_type": "markdown",
   "metadata": {
    "colab_type": "text",
    "id": "tjkvVYIReYM-"
   },
   "source": [
    "##**3.3. Using catboost to evaluate the features**"
   ]
  },
  {
   "cell_type": "code",
   "execution_count": null,
   "metadata": {
    "colab": {},
    "colab_type": "code",
    "id": "tMZvEy8eKRji"
   },
   "outputs": [],
   "source": [
    "from catboost import CatBoostRegressor\n",
    "import catboost\n",
    "cata = CatBoostRegressor(iterations=600,\n",
    "                              learning_rate=0.1,\n",
    "                              depth=10,\n",
    "                             l2_leaf_reg=10,\n",
    "                             bootstrap_type='Bernoulli',\n",
    "                              loss_function = 'RMSE',\n",
    "                              subsample=0.7,\n",
    "                              metric_period=20,\n",
    "                              random_seed=32,\n",
    "                              allow_writing_files=False)\n"
   ]
  },
  {
   "cell_type": "code",
   "execution_count": 67,
   "metadata": {
    "colab": {
     "base_uri": "https://localhost:8080/",
     "height": 572
    },
    "colab_type": "code",
    "id": "juVWOTuAKRjs",
    "outputId": "21e75da6-e90b-405e-cea6-e8ff6fab391f"
   },
   "outputs": [
    {
     "name": "stdout",
     "output_type": "stream",
     "text": [
      "0:\tlearn: 961.5762262\ttotal: 66.6ms\tremaining: 39.9s\n",
      "20:\tlearn: 789.7731285\ttotal: 335ms\tremaining: 9.22s\n",
      "40:\tlearn: 767.8885102\ttotal: 622ms\tremaining: 8.48s\n",
      "60:\tlearn: 756.7323420\ttotal: 924ms\tremaining: 8.16s\n",
      "80:\tlearn: 748.1254657\ttotal: 1.22s\tremaining: 7.83s\n",
      "100:\tlearn: 738.3575786\ttotal: 1.52s\tremaining: 7.52s\n",
      "120:\tlearn: 729.0654888\ttotal: 1.83s\tremaining: 7.24s\n",
      "140:\tlearn: 719.1911164\ttotal: 2.12s\tremaining: 6.9s\n",
      "160:\tlearn: 709.1576204\ttotal: 2.41s\tremaining: 6.56s\n",
      "180:\tlearn: 701.7946147\ttotal: 2.7s\tremaining: 6.25s\n",
      "200:\tlearn: 693.1440742\ttotal: 2.97s\tremaining: 5.9s\n",
      "220:\tlearn: 685.7273202\ttotal: 3.26s\tremaining: 5.59s\n",
      "240:\tlearn: 678.6161516\ttotal: 3.55s\tremaining: 5.28s\n",
      "260:\tlearn: 671.9918086\ttotal: 3.84s\tremaining: 4.99s\n",
      "280:\tlearn: 665.2676530\ttotal: 4.13s\tremaining: 4.69s\n",
      "300:\tlearn: 658.4350826\ttotal: 4.44s\tremaining: 4.41s\n",
      "320:\tlearn: 651.3994449\ttotal: 4.74s\tremaining: 4.12s\n",
      "340:\tlearn: 645.0188302\ttotal: 5.03s\tremaining: 3.82s\n",
      "360:\tlearn: 639.4194351\ttotal: 5.32s\tremaining: 3.52s\n",
      "380:\tlearn: 633.6841547\ttotal: 5.61s\tremaining: 3.23s\n",
      "400:\tlearn: 628.0846136\ttotal: 5.9s\tremaining: 2.93s\n",
      "420:\tlearn: 622.4685541\ttotal: 6.2s\tremaining: 2.63s\n",
      "440:\tlearn: 616.7152727\ttotal: 6.48s\tremaining: 2.34s\n",
      "460:\tlearn: 611.5058662\ttotal: 6.78s\tremaining: 2.04s\n",
      "480:\tlearn: 606.4374719\ttotal: 7.05s\tremaining: 1.75s\n",
      "500:\tlearn: 602.0880112\ttotal: 7.34s\tremaining: 1.45s\n",
      "520:\tlearn: 597.8688115\ttotal: 7.64s\tremaining: 1.16s\n",
      "540:\tlearn: 593.3398401\ttotal: 7.94s\tremaining: 866ms\n",
      "560:\tlearn: 588.5548337\ttotal: 8.25s\tremaining: 573ms\n",
      "580:\tlearn: 583.8343259\ttotal: 8.56s\tremaining: 280ms\n",
      "599:\tlearn: 579.3240818\ttotal: 8.85s\tremaining: 0us\n"
     ]
    },
    {
     "data": {
      "text/plain": [
       "<catboost.core.CatBoostRegressor at 0x7f302681b5f8>"
      ]
     },
     "execution_count": 67,
     "metadata": {
      "tags": []
     },
     "output_type": "execute_result"
    }
   ],
   "source": [
    "cata.fit(x_trainer, y_trainer)\n"
   ]
  },
  {
   "cell_type": "code",
   "execution_count": null,
   "metadata": {
    "colab": {},
    "colab_type": "code",
    "id": "l5s81SUrKRj0"
   },
   "outputs": [],
   "source": [
    "from catboost import Pool\n",
    "feature_score = pd.DataFrame(list(zip(train.dtypes.index, cata.get_feature_importance(Pool(x_train, label=y_train)))),\n",
    "                columns=['Feature','Score'])\n",
    "\n",
    "feature_score = feature_score.sort_values(by='Score', ascending=False, inplace=False, kind='quicksort', na_position='last')"
   ]
  },
  {
   "cell_type": "markdown",
   "metadata": {},
   "source": [
    "##**Viewing the appropriateness of the fit of variables in the dataset**"
   ]
  },
  {
   "cell_type": "code",
   "execution_count": 70,
   "metadata": {
    "colab": {
     "base_uri": "https://localhost:8080/",
     "height": 623
    },
    "colab_type": "code",
    "id": "mQP1F1jpKRj5",
    "outputId": "63644b76-024f-458b-8648-30d9fd177b0f"
   },
   "outputs": [
    {
     "data": {
      "image/png": "[encoded data removed]",
      "text/plain": [
       "<Figure size 864x504 with 1 Axes>"
      ]
     },
     "metadata": {
      "needs_background": "light",
      "tags": []
     },
     "output_type": "display_data"
    }
   ],
   "source": [
    "plt.rcParams[\"figure.figsize\"] = (12,7)\n",
    "ax = feature_score.plot('Feature', 'Score', kind='bar', color='green')\n",
    "ax.set_title(\"Catboost Feature Importance Ranking\", fontsize = 20)\n",
    "ax.set_xlabel('')\n",
    "\n",
    "rects = ax.patches\n",
    "\n",
    "labels = feature_score['Score'].round(2)\n",
    "\n",
    "for rect, label in zip(rects, labels):\n",
    "    height = rect.get_height()\n",
    "    \n",
    "    ax.text(rect.get_x() + rect.get_width()/2, height + 0.35, label, ha='center', va='bottom')\n",
    "\n",
    "plt.show()"
   ]
  },
  {
   "cell_type": "markdown",
   "metadata": {
    "colab_type": "text",
    "id": "yZv_6trnh24U"
   },
   "source": [
    "##**3.4. Fitting the models**"
   ]
  },
  {
   "cell_type": "code",
   "execution_count": 73,
   "metadata": {
    "colab": {
     "base_uri": "https://localhost:8080/",
     "height": 52
    },
    "colab_type": "code",
    "id": "_XqprccFKRj_",
    "outputId": "b0e140ba-e822-42ac-f0f4-4c576e572c79"
   },
   "outputs": [
    {
     "name": "stdout",
     "output_type": "stream",
     "text": [
      "[0.34970622 0.32486457 0.33757297 0.35451374 0.3254278 ]\n",
      "0.3384170584124431\n"
     ]
    }
   ],
   "source": [
    "from sklearn.model_selection import cross_val_score\n",
    "from sklearn.linear_model import ElasticNet\n",
    "\n",
    "regEN = ElasticNet(alpha=0.00009, tol=0.00001, l1_ratio = 0.9,\n",
    "                 max_iter=100, normalize = True, random_state=32)\n",
    "regEN.fit(x_trainer, y_trainer)\n",
    "cvsEN = cross_val_score(regEN, x_trainer, y_trainer, cv=5)\n",
    "\n",
    "print(cvsEN)\n",
    "print(np.mean(cvsEN))"
   ]
  },
  {
   "cell_type": "code",
   "execution_count": 74,
   "metadata": {
    "colab": {
     "base_uri": "https://localhost:8080/",
     "height": 329
    },
    "colab_type": "code",
    "id": "79i6PaFaKRkE",
    "outputId": "4106dfd6-24a4-4dde-b8d2-a134c301a28c"
   },
   "outputs": [
    {
     "name": "stdout",
     "output_type": "stream",
     "text": [
      "[0.28299688 0.44754682 0.38467176 0.34440934 0.21132885 0.41871978\n",
      " 0.32115495 0.39053555 0.35259012 0.26107296 0.30278525 0.33578313\n",
      " 0.40650364 0.46890904 0.39121043 0.31227553 0.33796549 0.27042428\n",
      " 0.24479852 0.41104678 0.39284522 0.33661323 0.36765149 0.27560887\n",
      " 0.49441728 0.34776555 0.35294155 0.27354666 0.27141929 0.38467341\n",
      " 0.37590675 0.39052069 0.21755439 0.32397408 0.25890673 0.20267501\n",
      " 0.20924575 0.3153095  0.29964494 0.34336009 0.33836224 0.37137159\n",
      " 0.41445939 0.30227164 0.387208   0.49124822 0.29966525 0.40382701\n",
      " 0.22622973 0.36510085 0.25653283 0.42165768 0.24140167 0.29534744\n",
      " 0.27064244 0.43975717 0.24176516 0.2980645  0.39514683 0.20064536\n",
      " 0.42212281 0.23178274 0.31957237 0.28834204 0.36313917 0.25790279\n",
      " 0.37801641 0.36954161 0.35456116 0.46900132 0.46218909 0.2999072\n",
      " 0.2473853  0.2734673  0.37124175 0.45903733 0.31048996 0.36227295\n",
      " 0.42535738 0.36618814 0.22992989 0.32497857 0.34736819 0.3373879\n",
      " 0.32858779 0.25009031 0.30231782 0.19875498 0.30441674 0.42352715\n",
      " 0.39314492 0.2879544  0.28948592 0.35613895 0.33797352 0.3957577\n",
      " 0.25579974 0.4006394  0.2877353  0.39557263]\n",
      "0.33471095229588654\n"
     ]
    }
   ],
   "source": [
    "from sklearn.linear_model import Lasso\n",
    "\n",
    "regR = Lasso(tol=0.000001,  max_iter=1000,  random_state=32)\n",
    "regR.fit(x_trainer, y_trainer)\n",
    "cvsR = cross_val_score(regEN, x_trainer, y_trainer, cv=100)\n",
    "\n",
    "print(cvsR)\n",
    "print(np.mean(cvsR))"
   ]
  },
  {
   "cell_type": "code",
   "execution_count": 75,
   "metadata": {
    "colab": {
     "base_uri": "https://localhost:8080/",
     "height": 69
    },
    "colab_type": "code",
    "id": "7optwbUzKRkI",
    "outputId": "fabffe87-2edb-4b75-83f3-66612f64fde6"
   },
   "outputs": [
    {
     "name": "stdout",
     "output_type": "stream",
     "text": [
      "[0.36224605 0.36612046 0.38255472 0.31881604 0.37449474 0.33092038\n",
      " 0.35740665 0.38608666 0.33655276 0.36289096]\n",
      "0.35780894287309023\n"
     ]
    }
   ],
   "source": [
    "from sklearn.ensemble import ExtraTreesRegressor\n",
    "\n",
    "regET = ExtraTreesRegressor(n_estimators = 100, criterion = 'mse', min_weight_fraction_leaf=0.001 , random_state=32, n_jobs=-1)\n",
    "regET.fit(x_trainer, y_trainer)\n",
    "cvsET = cross_val_score(regET, x_trainer, y_trainer, cv=10)\n",
    "\n",
    "print(cvsET)\n",
    "print(np.mean(cvsET))"
   ]
  },
  {
   "cell_type": "markdown",
   "metadata": {
    "colab_type": "text",
    "id": "yZ0wnQfIiWY_"
   },
   "source": [
    "##**3.5. Combining the fitted models to increase our model performance**"
   ]
  },
  {
   "cell_type": "code",
   "execution_count": 76,
   "metadata": {
    "colab": {
     "base_uri": "https://localhost:8080/",
     "height": 1000
    },
    "colab_type": "code",
    "id": "7-_aOkbFKRkM",
    "outputId": "5683f803-3881-45d3-b7cb-01c62cc2e202",
    "scrolled": true
   },
   "outputs": [
    {
     "name": "stdout",
     "output_type": "stream",
     "text": [
      "0:\tlearn: 961.5762262\ttotal: 28.6ms\tremaining: 17.1s\n",
      "20:\tlearn: 789.7731285\ttotal: 296ms\tremaining: 8.15s\n",
      "40:\tlearn: 767.8885102\ttotal: 587ms\tremaining: 8s\n",
      "60:\tlearn: 756.7323420\ttotal: 882ms\tremaining: 7.8s\n",
      "80:\tlearn: 748.1254657\ttotal: 1.19s\tremaining: 7.61s\n",
      "100:\tlearn: 738.3575786\ttotal: 1.5s\tremaining: 7.41s\n",
      "120:\tlearn: 729.0654888\ttotal: 1.81s\tremaining: 7.16s\n",
      "140:\tlearn: 719.1911164\ttotal: 2.12s\tremaining: 6.9s\n",
      "160:\tlearn: 709.1576204\ttotal: 2.42s\tremaining: 6.59s\n",
      "180:\tlearn: 701.7946147\ttotal: 2.72s\tremaining: 6.29s\n",
      "200:\tlearn: 693.1440742\ttotal: 3.02s\tremaining: 6s\n",
      "220:\tlearn: 685.7273202\ttotal: 3.33s\tremaining: 5.71s\n",
      "240:\tlearn: 678.6161516\ttotal: 3.63s\tremaining: 5.42s\n",
      "260:\tlearn: 671.9918086\ttotal: 3.94s\tremaining: 5.12s\n",
      "280:\tlearn: 665.2676530\ttotal: 4.24s\tremaining: 4.81s\n",
      "300:\tlearn: 658.4350826\ttotal: 4.54s\tremaining: 4.51s\n",
      "320:\tlearn: 651.3994449\ttotal: 4.85s\tremaining: 4.21s\n",
      "340:\tlearn: 645.0188302\ttotal: 5.16s\tremaining: 3.92s\n",
      "360:\tlearn: 639.4194351\ttotal: 5.47s\tremaining: 3.62s\n",
      "380:\tlearn: 633.6841547\ttotal: 5.77s\tremaining: 3.32s\n",
      "400:\tlearn: 628.0846136\ttotal: 6.08s\tremaining: 3.02s\n",
      "420:\tlearn: 622.4685541\ttotal: 6.38s\tremaining: 2.71s\n",
      "440:\tlearn: 616.7152727\ttotal: 6.71s\tremaining: 2.42s\n",
      "460:\tlearn: 611.5058662\ttotal: 7.03s\tremaining: 2.12s\n",
      "480:\tlearn: 606.4374719\ttotal: 7.32s\tremaining: 1.81s\n",
      "500:\tlearn: 602.0880112\ttotal: 7.62s\tremaining: 1.51s\n",
      "520:\tlearn: 597.8688115\ttotal: 7.92s\tremaining: 1.2s\n",
      "540:\tlearn: 593.3398401\ttotal: 8.22s\tremaining: 897ms\n",
      "560:\tlearn: 588.5548337\ttotal: 8.52s\tremaining: 592ms\n",
      "580:\tlearn: 583.8343259\ttotal: 8.82s\tremaining: 288ms\n",
      "599:\tlearn: 579.3240818\ttotal: 9.11s\tremaining: 0us\n",
      "0:\tlearn: 956.3135827\ttotal: 21.4ms\tremaining: 12.8s\n",
      "20:\tlearn: 788.0240579\ttotal: 300ms\tremaining: 8.27s\n",
      "40:\tlearn: 761.6481801\ttotal: 586ms\tremaining: 8s\n",
      "60:\tlearn: 751.4406065\ttotal: 835ms\tremaining: 7.37s\n",
      "80:\tlearn: 740.7133963\ttotal: 1.11s\tremaining: 7.11s\n",
      "100:\tlearn: 729.7365014\ttotal: 1.38s\tremaining: 6.83s\n",
      "120:\tlearn: 717.8070101\ttotal: 1.66s\tremaining: 6.59s\n",
      "140:\tlearn: 707.5471590\ttotal: 1.94s\tremaining: 6.3s\n",
      "160:\tlearn: 697.7076056\ttotal: 2.22s\tremaining: 6.05s\n",
      "180:\tlearn: 687.8685918\ttotal: 2.5s\tremaining: 5.78s\n",
      "200:\tlearn: 679.4571483\ttotal: 2.77s\tremaining: 5.49s\n",
      "220:\tlearn: 672.0889671\ttotal: 3.04s\tremaining: 5.21s\n",
      "240:\tlearn: 663.3890052\ttotal: 3.3s\tremaining: 4.92s\n",
      "260:\tlearn: 655.7275733\ttotal: 3.58s\tremaining: 4.65s\n",
      "280:\tlearn: 647.8354652\ttotal: 3.85s\tremaining: 4.37s\n",
      "300:\tlearn: 640.1172129\ttotal: 4.13s\tremaining: 4.1s\n",
      "320:\tlearn: 632.7642146\ttotal: 4.4s\tremaining: 3.83s\n",
      "340:\tlearn: 625.9242472\ttotal: 4.7s\tremaining: 3.57s\n",
      "360:\tlearn: 618.7204932\ttotal: 4.97s\tremaining: 3.29s\n",
      "380:\tlearn: 612.8875114\ttotal: 5.26s\tremaining: 3.02s\n",
      "400:\tlearn: 607.3906934\ttotal: 5.58s\tremaining: 2.77s\n",
      "420:\tlearn: 601.5558222\ttotal: 5.87s\tremaining: 2.49s\n",
      "440:\tlearn: 595.3235965\ttotal: 6.14s\tremaining: 2.21s\n",
      "460:\tlearn: 589.3459786\ttotal: 6.42s\tremaining: 1.93s\n",
      "480:\tlearn: 583.8366724\ttotal: 6.71s\tremaining: 1.66s\n",
      "500:\tlearn: 577.7729429\ttotal: 6.99s\tremaining: 1.38s\n",
      "520:\tlearn: 572.6979547\ttotal: 7.28s\tremaining: 1.1s\n",
      "540:\tlearn: 567.5445286\ttotal: 7.54s\tremaining: 823ms\n",
      "560:\tlearn: 562.0378470\ttotal: 7.84s\tremaining: 545ms\n",
      "580:\tlearn: 557.2370191\ttotal: 8.12s\tremaining: 265ms\n",
      "599:\tlearn: 552.6215972\ttotal: 8.38s\tremaining: 0us\n",
      "0:\tlearn: 953.9672643\ttotal: 14.1ms\tremaining: 8.43s\n",
      "20:\tlearn: 782.1307929\ttotal: 281ms\tremaining: 7.74s\n",
      "40:\tlearn: 757.2918610\ttotal: 563ms\tremaining: 7.68s\n",
      "60:\tlearn: 745.4670839\ttotal: 839ms\tremaining: 7.41s\n",
      "80:\tlearn: 735.0571308\ttotal: 1.12s\tremaining: 7.2s\n",
      "100:\tlearn: 725.2564173\ttotal: 1.4s\tremaining: 6.9s\n",
      "120:\tlearn: 714.6588076\ttotal: 1.68s\tremaining: 6.64s\n",
      "140:\tlearn: 703.5551873\ttotal: 1.95s\tremaining: 6.36s\n",
      "160:\tlearn: 692.3532934\ttotal: 2.25s\tremaining: 6.13s\n",
      "180:\tlearn: 683.7011119\ttotal: 2.53s\tremaining: 5.86s\n",
      "200:\tlearn: 674.0716241\ttotal: 2.82s\tremaining: 5.59s\n",
      "220:\tlearn: 666.1271805\ttotal: 3.1s\tremaining: 5.31s\n",
      "240:\tlearn: 657.7669325\ttotal: 3.4s\tremaining: 5.06s\n",
      "260:\tlearn: 649.2788442\ttotal: 3.68s\tremaining: 4.79s\n",
      "280:\tlearn: 642.3716251\ttotal: 3.96s\tremaining: 4.49s\n",
      "300:\tlearn: 636.0774515\ttotal: 4.24s\tremaining: 4.21s\n",
      "320:\tlearn: 629.1053798\ttotal: 4.52s\tremaining: 3.93s\n",
      "340:\tlearn: 622.4651471\ttotal: 4.81s\tremaining: 3.65s\n",
      "360:\tlearn: 615.8461844\ttotal: 5.08s\tremaining: 3.37s\n",
      "380:\tlearn: 608.7868583\ttotal: 5.38s\tremaining: 3.09s\n",
      "400:\tlearn: 602.7393641\ttotal: 5.67s\tremaining: 2.81s\n",
      "420:\tlearn: 596.5158151\ttotal: 5.95s\tremaining: 2.53s\n",
      "440:\tlearn: 590.5582702\ttotal: 6.22s\tremaining: 2.24s\n",
      "460:\tlearn: 585.1467728\ttotal: 6.5s\tremaining: 1.96s\n",
      "480:\tlearn: 579.3815038\ttotal: 6.78s\tremaining: 1.68s\n",
      "500:\tlearn: 573.6941197\ttotal: 7.06s\tremaining: 1.4s\n",
      "520:\tlearn: 569.0270396\ttotal: 7.35s\tremaining: 1.11s\n",
      "540:\tlearn: 562.8588561\ttotal: 7.66s\tremaining: 835ms\n",
      "560:\tlearn: 557.2316972\ttotal: 7.93s\tremaining: 552ms\n",
      "580:\tlearn: 551.7085651\ttotal: 8.21s\tremaining: 269ms\n",
      "599:\tlearn: 547.1439142\ttotal: 8.49s\tremaining: 0us\n",
      "0:\tlearn: 967.8969325\ttotal: 14.1ms\tremaining: 8.46s\n",
      "20:\tlearn: 794.9979257\ttotal: 284ms\tremaining: 7.82s\n",
      "40:\tlearn: 769.3816795\ttotal: 551ms\tremaining: 7.51s\n",
      "60:\tlearn: 756.1319059\ttotal: 837ms\tremaining: 7.4s\n",
      "80:\tlearn: 747.2069629\ttotal: 1.12s\tremaining: 7.2s\n",
      "100:\tlearn: 735.2435114\ttotal: 1.4s\tremaining: 6.92s\n",
      "120:\tlearn: 723.9251809\ttotal: 1.68s\tremaining: 6.64s\n",
      "140:\tlearn: 712.2176539\ttotal: 1.95s\tremaining: 6.36s\n",
      "160:\tlearn: 703.2094711\ttotal: 2.23s\tremaining: 6.07s\n",
      "180:\tlearn: 693.7377737\ttotal: 2.5s\tremaining: 5.8s\n",
      "200:\tlearn: 684.6282806\ttotal: 2.79s\tremaining: 5.53s\n",
      "220:\tlearn: 676.8685292\ttotal: 3.07s\tremaining: 5.26s\n",
      "240:\tlearn: 667.3548413\ttotal: 3.34s\tremaining: 4.97s\n",
      "260:\tlearn: 659.7519806\ttotal: 3.61s\tremaining: 4.69s\n",
      "280:\tlearn: 652.3006386\ttotal: 3.9s\tremaining: 4.43s\n",
      "300:\tlearn: 645.0447808\ttotal: 4.17s\tremaining: 4.15s\n",
      "320:\tlearn: 637.8627051\ttotal: 4.45s\tremaining: 3.87s\n",
      "340:\tlearn: 630.8833485\ttotal: 4.72s\tremaining: 3.59s\n",
      "360:\tlearn: 624.3140709\ttotal: 5.01s\tremaining: 3.32s\n",
      "380:\tlearn: 618.0873118\ttotal: 5.29s\tremaining: 3.04s\n",
      "400:\tlearn: 611.6725295\ttotal: 5.57s\tremaining: 2.76s\n",
      "420:\tlearn: 605.3493111\ttotal: 5.87s\tremaining: 2.49s\n",
      "440:\tlearn: 598.9006463\ttotal: 6.14s\tremaining: 2.21s\n",
      "460:\tlearn: 593.3689396\ttotal: 6.42s\tremaining: 1.94s\n",
      "480:\tlearn: 587.9018739\ttotal: 6.71s\tremaining: 1.66s\n",
      "500:\tlearn: 582.7748796\ttotal: 6.98s\tremaining: 1.38s\n",
      "520:\tlearn: 577.5352100\ttotal: 7.27s\tremaining: 1.1s\n",
      "540:\tlearn: 572.7122720\ttotal: 7.53s\tremaining: 821ms\n",
      "560:\tlearn: 567.1117011\ttotal: 7.81s\tremaining: 543ms\n",
      "580:\tlearn: 561.8663492\ttotal: 8.08s\tremaining: 264ms\n",
      "599:\tlearn: 557.4252562\ttotal: 8.35s\tremaining: 0us\n",
      "0:\tlearn: 965.3900694\ttotal: 14ms\tremaining: 8.4s\n",
      "20:\tlearn: 795.9231191\ttotal: 295ms\tremaining: 8.15s\n",
      "40:\tlearn: 768.4785907\ttotal: 569ms\tremaining: 7.75s\n",
      "60:\tlearn: 756.3350950\ttotal: 850ms\tremaining: 7.51s\n",
      "80:\tlearn: 745.8484627\ttotal: 1.11s\tremaining: 7.1s\n",
      "100:\tlearn: 736.1828958\ttotal: 1.41s\tremaining: 6.96s\n",
      "120:\tlearn: 725.5086516\ttotal: 1.68s\tremaining: 6.66s\n",
      "140:\tlearn: 715.2180393\ttotal: 1.95s\tremaining: 6.35s\n",
      "160:\tlearn: 706.0233000\ttotal: 2.22s\tremaining: 6.06s\n",
      "180:\tlearn: 694.8915056\ttotal: 2.51s\tremaining: 5.81s\n",
      "200:\tlearn: 686.2573140\ttotal: 2.78s\tremaining: 5.52s\n",
      "220:\tlearn: 677.3450786\ttotal: 3.05s\tremaining: 5.23s\n",
      "240:\tlearn: 669.7609002\ttotal: 3.33s\tremaining: 4.96s\n",
      "260:\tlearn: 661.1472524\ttotal: 3.61s\tremaining: 4.69s\n",
      "280:\tlearn: 652.8224880\ttotal: 3.88s\tremaining: 4.41s\n",
      "300:\tlearn: 645.6196474\ttotal: 4.15s\tremaining: 4.13s\n",
      "320:\tlearn: 638.5027299\ttotal: 4.44s\tremaining: 3.86s\n",
      "340:\tlearn: 631.7557895\ttotal: 4.73s\tremaining: 3.59s\n",
      "360:\tlearn: 625.5079528\ttotal: 5s\tremaining: 3.31s\n",
      "380:\tlearn: 619.5744098\ttotal: 5.28s\tremaining: 3.03s\n",
      "400:\tlearn: 613.2449777\ttotal: 5.56s\tremaining: 2.76s\n",
      "420:\tlearn: 606.9573127\ttotal: 5.85s\tremaining: 2.49s\n",
      "440:\tlearn: 601.0912225\ttotal: 6.11s\tremaining: 2.2s\n",
      "460:\tlearn: 595.1529862\ttotal: 6.4s\tremaining: 1.93s\n",
      "480:\tlearn: 589.1141013\ttotal: 6.68s\tremaining: 1.65s\n",
      "500:\tlearn: 583.4184991\ttotal: 6.96s\tremaining: 1.37s\n",
      "520:\tlearn: 577.7939250\ttotal: 7.24s\tremaining: 1.1s\n",
      "540:\tlearn: 572.2833197\ttotal: 7.54s\tremaining: 822ms\n",
      "560:\tlearn: 567.0254918\ttotal: 7.82s\tremaining: 544ms\n",
      "580:\tlearn: 561.5354006\ttotal: 8.11s\tremaining: 265ms\n",
      "599:\tlearn: 556.8451989\ttotal: 8.38s\tremaining: 0us\n",
      "0:\tlearn: 966.3208480\ttotal: 14.4ms\tremaining: 8.63s\n",
      "20:\tlearn: 793.8445221\ttotal: 290ms\tremaining: 7.99s\n",
      "40:\tlearn: 768.9138776\ttotal: 566ms\tremaining: 7.72s\n",
      "60:\tlearn: 754.6346410\ttotal: 855ms\tremaining: 7.56s\n",
      "80:\tlearn: 745.8302979\ttotal: 1.11s\tremaining: 7.14s\n",
      "100:\tlearn: 735.8498882\ttotal: 1.4s\tremaining: 6.9s\n",
      "120:\tlearn: 724.0031486\ttotal: 1.67s\tremaining: 6.6s\n",
      "140:\tlearn: 715.0608069\ttotal: 1.95s\tremaining: 6.35s\n",
      "160:\tlearn: 705.1996600\ttotal: 2.22s\tremaining: 6.05s\n",
      "180:\tlearn: 695.5736808\ttotal: 2.5s\tremaining: 5.79s\n",
      "200:\tlearn: 686.4178535\ttotal: 2.78s\tremaining: 5.52s\n",
      "220:\tlearn: 677.6277635\ttotal: 3.08s\tremaining: 5.28s\n",
      "240:\tlearn: 668.3097759\ttotal: 3.36s\tremaining: 5s\n",
      "260:\tlearn: 660.5518736\ttotal: 3.65s\tremaining: 4.74s\n",
      "280:\tlearn: 652.7340916\ttotal: 3.97s\tremaining: 4.51s\n",
      "300:\tlearn: 645.8498129\ttotal: 4.24s\tremaining: 4.22s\n",
      "320:\tlearn: 638.1054241\ttotal: 4.52s\tremaining: 3.93s\n",
      "340:\tlearn: 631.6603270\ttotal: 4.79s\tremaining: 3.63s\n",
      "360:\tlearn: 625.6222960\ttotal: 5.06s\tremaining: 3.35s\n",
      "380:\tlearn: 619.2519052\ttotal: 5.34s\tremaining: 3.07s\n",
      "400:\tlearn: 613.8374782\ttotal: 5.62s\tremaining: 2.79s\n",
      "420:\tlearn: 607.7586051\ttotal: 5.92s\tremaining: 2.52s\n",
      "440:\tlearn: 602.1468133\ttotal: 6.18s\tremaining: 2.23s\n",
      "460:\tlearn: 595.8313493\ttotal: 6.46s\tremaining: 1.95s\n",
      "480:\tlearn: 590.0504322\ttotal: 6.75s\tremaining: 1.67s\n",
      "500:\tlearn: 584.3879866\ttotal: 7.04s\tremaining: 1.39s\n",
      "520:\tlearn: 578.5754956\ttotal: 7.32s\tremaining: 1.11s\n",
      "540:\tlearn: 573.3795584\ttotal: 7.59s\tremaining: 828ms\n",
      "560:\tlearn: 567.6413193\ttotal: 7.88s\tremaining: 548ms\n",
      "580:\tlearn: 562.2116186\ttotal: 8.16s\tremaining: 267ms\n",
      "599:\tlearn: 557.2366842\ttotal: 8.43s\tremaining: 0us\n",
      "0:\tlearn: 956.3135827\ttotal: 21.6ms\tremaining: 12.9s\n",
      "20:\tlearn: 788.0240579\ttotal: 304ms\tremaining: 8.39s\n",
      "40:\tlearn: 761.6481801\ttotal: 594ms\tremaining: 8.1s\n",
      "60:\tlearn: 751.4406065\ttotal: 840ms\tremaining: 7.42s\n",
      "80:\tlearn: 740.7133963\ttotal: 1.12s\tremaining: 7.17s\n",
      "100:\tlearn: 729.7365014\ttotal: 1.4s\tremaining: 6.91s\n",
      "120:\tlearn: 717.8070101\ttotal: 1.7s\tremaining: 6.71s\n",
      "140:\tlearn: 707.5471590\ttotal: 1.97s\tremaining: 6.4s\n",
      "160:\tlearn: 697.7076056\ttotal: 2.25s\tremaining: 6.14s\n",
      "180:\tlearn: 687.8685918\ttotal: 2.54s\tremaining: 5.87s\n",
      "200:\tlearn: 679.4571483\ttotal: 2.8s\tremaining: 5.55s\n",
      "220:\tlearn: 672.0889671\ttotal: 3.08s\tremaining: 5.27s\n",
      "240:\tlearn: 663.3890052\ttotal: 3.36s\tremaining: 5.01s\n",
      "260:\tlearn: 655.7275733\ttotal: 3.65s\tremaining: 4.74s\n",
      "280:\tlearn: 647.8354652\ttotal: 3.94s\tremaining: 4.47s\n",
      "300:\tlearn: 640.1172129\ttotal: 4.22s\tremaining: 4.19s\n",
      "320:\tlearn: 632.7642146\ttotal: 4.52s\tremaining: 3.93s\n",
      "340:\tlearn: 625.9242472\ttotal: 4.8s\tremaining: 3.64s\n",
      "360:\tlearn: 618.7204932\ttotal: 5.08s\tremaining: 3.36s\n",
      "380:\tlearn: 612.8875114\ttotal: 5.36s\tremaining: 3.08s\n",
      "400:\tlearn: 607.3906934\ttotal: 5.66s\tremaining: 2.81s\n",
      "420:\tlearn: 601.5558222\ttotal: 5.93s\tremaining: 2.52s\n",
      "440:\tlearn: 595.3235965\ttotal: 6.2s\tremaining: 2.24s\n",
      "460:\tlearn: 589.3459786\ttotal: 6.47s\tremaining: 1.95s\n",
      "480:\tlearn: 583.8366724\ttotal: 6.76s\tremaining: 1.67s\n",
      "500:\tlearn: 577.7729429\ttotal: 7.04s\tremaining: 1.39s\n",
      "520:\tlearn: 572.6979547\ttotal: 7.33s\tremaining: 1.11s\n",
      "540:\tlearn: 567.5445286\ttotal: 7.62s\tremaining: 831ms\n",
      "560:\tlearn: 562.0378470\ttotal: 7.89s\tremaining: 549ms\n",
      "580:\tlearn: 557.2370191\ttotal: 8.18s\tremaining: 267ms\n",
      "599:\tlearn: 552.6215972\ttotal: 8.45s\tremaining: 0us\n",
      "0:\tlearn: 944.5791988\ttotal: 19.1ms\tremaining: 11.5s\n",
      "20:\tlearn: 774.6506934\ttotal: 297ms\tremaining: 8.18s\n",
      "40:\tlearn: 750.2338626\ttotal: 559ms\tremaining: 7.63s\n",
      "60:\tlearn: 738.2109408\ttotal: 816ms\tremaining: 7.21s\n",
      "80:\tlearn: 728.0974136\ttotal: 1.08s\tremaining: 6.91s\n",
      "100:\tlearn: 718.3815827\ttotal: 1.34s\tremaining: 6.61s\n",
      "120:\tlearn: 704.5242975\ttotal: 1.61s\tremaining: 6.36s\n",
      "140:\tlearn: 692.3391821\ttotal: 1.88s\tremaining: 6.11s\n",
      "160:\tlearn: 681.8089845\ttotal: 2.16s\tremaining: 5.89s\n",
      "180:\tlearn: 672.2984997\ttotal: 2.43s\tremaining: 5.63s\n",
      "200:\tlearn: 663.8094625\ttotal: 2.7s\tremaining: 5.36s\n",
      "220:\tlearn: 655.7246332\ttotal: 2.97s\tremaining: 5.09s\n",
      "240:\tlearn: 647.0288848\ttotal: 3.23s\tremaining: 4.81s\n",
      "260:\tlearn: 637.3449320\ttotal: 3.5s\tremaining: 4.55s\n",
      "280:\tlearn: 627.4910693\ttotal: 3.77s\tremaining: 4.28s\n",
      "300:\tlearn: 619.1921016\ttotal: 4.04s\tremaining: 4.01s\n",
      "320:\tlearn: 611.0523296\ttotal: 4.32s\tremaining: 3.75s\n",
      "340:\tlearn: 603.2509421\ttotal: 4.59s\tremaining: 3.49s\n",
      "360:\tlearn: 595.5142406\ttotal: 4.85s\tremaining: 3.21s\n",
      "380:\tlearn: 587.3865061\ttotal: 5.12s\tremaining: 2.94s\n",
      "400:\tlearn: 580.2559246\ttotal: 5.38s\tremaining: 2.67s\n",
      "420:\tlearn: 573.9849320\ttotal: 5.63s\tremaining: 2.4s\n",
      "440:\tlearn: 567.2865939\ttotal: 5.9s\tremaining: 2.13s\n",
      "460:\tlearn: 561.1320112\ttotal: 6.15s\tremaining: 1.85s\n",
      "480:\tlearn: 555.3117750\ttotal: 6.42s\tremaining: 1.59s\n",
      "500:\tlearn: 549.9478472\ttotal: 6.7s\tremaining: 1.32s\n",
      "520:\tlearn: 543.8176650\ttotal: 6.97s\tremaining: 1.06s\n",
      "540:\tlearn: 538.2972745\ttotal: 7.25s\tremaining: 790ms\n",
      "560:\tlearn: 532.0683702\ttotal: 7.52s\tremaining: 523ms\n",
      "580:\tlearn: 525.9951398\ttotal: 7.79s\tremaining: 255ms\n",
      "599:\tlearn: 521.1054288\ttotal: 8.04s\tremaining: 0us\n",
      "0:\tlearn: 957.1985867\ttotal: 13.7ms\tremaining: 8.2s\n",
      "20:\tlearn: 785.0596338\ttotal: 281ms\tremaining: 7.75s\n",
      "40:\tlearn: 759.7414270\ttotal: 533ms\tremaining: 7.27s\n",
      "60:\tlearn: 746.2026270\ttotal: 787ms\tremaining: 6.95s\n",
      "80:\tlearn: 733.4257563\ttotal: 1.05s\tremaining: 6.71s\n",
      "100:\tlearn: 721.1541210\ttotal: 1.33s\tremaining: 6.59s\n",
      "120:\tlearn: 710.0303097\ttotal: 1.59s\tremaining: 6.31s\n",
      "140:\tlearn: 698.5133640\ttotal: 1.86s\tremaining: 6.05s\n",
      "160:\tlearn: 688.2861591\ttotal: 2.13s\tremaining: 5.81s\n",
      "180:\tlearn: 678.3349201\ttotal: 2.4s\tremaining: 5.55s\n",
      "200:\tlearn: 669.5526465\ttotal: 2.66s\tremaining: 5.28s\n",
      "220:\tlearn: 659.2988814\ttotal: 2.92s\tremaining: 5.01s\n",
      "240:\tlearn: 649.3074896\ttotal: 3.2s\tremaining: 4.77s\n",
      "260:\tlearn: 639.6931013\ttotal: 3.47s\tremaining: 4.51s\n",
      "280:\tlearn: 630.7007816\ttotal: 3.73s\tremaining: 4.24s\n",
      "300:\tlearn: 623.8245407\ttotal: 4s\tremaining: 3.98s\n",
      "320:\tlearn: 615.4722832\ttotal: 4.29s\tremaining: 3.73s\n",
      "340:\tlearn: 607.4284067\ttotal: 4.56s\tremaining: 3.46s\n",
      "360:\tlearn: 599.2064401\ttotal: 4.82s\tremaining: 3.19s\n",
      "380:\tlearn: 591.2786095\ttotal: 5.09s\tremaining: 2.93s\n",
      "400:\tlearn: 584.0750871\ttotal: 5.37s\tremaining: 2.66s\n",
      "420:\tlearn: 576.5781179\ttotal: 5.63s\tremaining: 2.39s\n",
      "440:\tlearn: 569.8741185\ttotal: 5.9s\tremaining: 2.13s\n",
      "460:\tlearn: 563.7448982\ttotal: 6.16s\tremaining: 1.86s\n",
      "480:\tlearn: 557.2940038\ttotal: 6.43s\tremaining: 1.59s\n",
      "500:\tlearn: 551.3849489\ttotal: 6.7s\tremaining: 1.32s\n",
      "520:\tlearn: 544.7403997\ttotal: 6.96s\tremaining: 1.05s\n",
      "540:\tlearn: 538.6988763\ttotal: 7.22s\tremaining: 788ms\n",
      "560:\tlearn: 533.1606695\ttotal: 7.5s\tremaining: 521ms\n",
      "580:\tlearn: 527.3808766\ttotal: 7.77s\tremaining: 254ms\n",
      "599:\tlearn: 522.1283348\ttotal: 8.02s\tremaining: 0us\n",
      "0:\tlearn: 956.9394050\ttotal: 13.5ms\tremaining: 8.11s\n",
      "20:\tlearn: 784.5686170\ttotal: 260ms\tremaining: 7.18s\n",
      "40:\tlearn: 755.3542983\ttotal: 514ms\tremaining: 7.01s\n",
      "60:\tlearn: 742.5783282\ttotal: 771ms\tremaining: 6.81s\n",
      "80:\tlearn: 731.3202204\ttotal: 1.03s\tremaining: 6.58s\n",
      "100:\tlearn: 719.7589578\ttotal: 1.29s\tremaining: 6.38s\n",
      "120:\tlearn: 706.3658028\ttotal: 1.56s\tremaining: 6.19s\n",
      "140:\tlearn: 694.7519169\ttotal: 1.82s\tremaining: 5.94s\n",
      "160:\tlearn: 683.1588168\ttotal: 2.09s\tremaining: 5.69s\n",
      "180:\tlearn: 672.2774930\ttotal: 2.35s\tremaining: 5.45s\n",
      "200:\tlearn: 661.7137866\ttotal: 2.61s\tremaining: 5.18s\n",
      "220:\tlearn: 652.9218227\ttotal: 2.88s\tremaining: 4.94s\n",
      "240:\tlearn: 644.6014277\ttotal: 3.13s\tremaining: 4.67s\n",
      "260:\tlearn: 635.6883843\ttotal: 3.4s\tremaining: 4.41s\n",
      "280:\tlearn: 627.4549240\ttotal: 3.66s\tremaining: 4.15s\n",
      "300:\tlearn: 620.1797826\ttotal: 3.91s\tremaining: 3.88s\n",
      "320:\tlearn: 612.4321443\ttotal: 4.16s\tremaining: 3.61s\n",
      "340:\tlearn: 604.6628700\ttotal: 4.43s\tremaining: 3.37s\n",
      "360:\tlearn: 597.2440886\ttotal: 4.69s\tremaining: 3.1s\n",
      "380:\tlearn: 590.6269880\ttotal: 4.94s\tremaining: 2.84s\n",
      "400:\tlearn: 584.2145085\ttotal: 5.21s\tremaining: 2.58s\n",
      "420:\tlearn: 577.6469693\ttotal: 5.47s\tremaining: 2.33s\n",
      "440:\tlearn: 570.1182735\ttotal: 5.73s\tremaining: 2.07s\n",
      "460:\tlearn: 563.4247551\ttotal: 5.98s\tremaining: 1.8s\n",
      "480:\tlearn: 556.5164338\ttotal: 6.24s\tremaining: 1.54s\n",
      "500:\tlearn: 550.4893524\ttotal: 6.5s\tremaining: 1.28s\n",
      "520:\tlearn: 544.1274698\ttotal: 6.76s\tremaining: 1.02s\n",
      "540:\tlearn: 537.9443810\ttotal: 7.01s\tremaining: 765ms\n",
      "560:\tlearn: 533.2123638\ttotal: 7.28s\tremaining: 506ms\n",
      "580:\tlearn: 527.5450263\ttotal: 7.54s\tremaining: 246ms\n",
      "599:\tlearn: 521.8526283\ttotal: 7.78s\tremaining: 0us\n",
      "0:\tlearn: 956.5855554\ttotal: 13.4ms\tremaining: 8.02s\n",
      "20:\tlearn: 790.3705854\ttotal: 264ms\tremaining: 7.27s\n",
      "40:\tlearn: 764.7961431\ttotal: 512ms\tremaining: 6.99s\n",
      "60:\tlearn: 750.4267298\ttotal: 766ms\tremaining: 6.77s\n",
      "80:\tlearn: 738.4259930\ttotal: 1.02s\tremaining: 6.57s\n",
      "100:\tlearn: 726.9383657\ttotal: 1.28s\tremaining: 6.32s\n",
      "120:\tlearn: 715.3922610\ttotal: 1.55s\tremaining: 6.15s\n",
      "140:\tlearn: 705.1730897\ttotal: 1.8s\tremaining: 5.86s\n",
      "160:\tlearn: 694.4859621\ttotal: 2.05s\tremaining: 5.59s\n",
      "180:\tlearn: 683.6196409\ttotal: 2.32s\tremaining: 5.37s\n",
      "200:\tlearn: 673.6036241\ttotal: 2.58s\tremaining: 5.13s\n",
      "220:\tlearn: 663.4560521\ttotal: 2.83s\tremaining: 4.86s\n",
      "240:\tlearn: 653.6696756\ttotal: 3.08s\tremaining: 4.59s\n",
      "260:\tlearn: 644.6448309\ttotal: 3.33s\tremaining: 4.32s\n",
      "280:\tlearn: 635.2045691\ttotal: 3.6s\tremaining: 4.09s\n",
      "300:\tlearn: 626.3635348\ttotal: 3.85s\tremaining: 3.82s\n",
      "320:\tlearn: 619.2305796\ttotal: 4.09s\tremaining: 3.55s\n",
      "340:\tlearn: 612.3429949\ttotal: 4.34s\tremaining: 3.29s\n",
      "360:\tlearn: 605.2631134\ttotal: 4.6s\tremaining: 3.04s\n",
      "380:\tlearn: 597.8936540\ttotal: 4.84s\tremaining: 2.78s\n",
      "400:\tlearn: 590.3921929\ttotal: 5.1s\tremaining: 2.53s\n",
      "420:\tlearn: 582.5118831\ttotal: 5.36s\tremaining: 2.28s\n",
      "440:\tlearn: 575.2620608\ttotal: 5.63s\tremaining: 2.03s\n",
      "460:\tlearn: 568.3072616\ttotal: 5.88s\tremaining: 1.77s\n",
      "480:\tlearn: 561.9958292\ttotal: 6.13s\tremaining: 1.52s\n",
      "500:\tlearn: 555.1920825\ttotal: 6.39s\tremaining: 1.26s\n",
      "520:\tlearn: 548.9079802\ttotal: 6.64s\tremaining: 1.01s\n",
      "540:\tlearn: 543.3345798\ttotal: 6.9s\tremaining: 753ms\n",
      "560:\tlearn: 537.4808986\ttotal: 7.16s\tremaining: 497ms\n",
      "580:\tlearn: 531.7373074\ttotal: 7.42s\tremaining: 243ms\n",
      "599:\tlearn: 526.0843546\ttotal: 7.67s\tremaining: 0us\n",
      "0:\tlearn: 964.7989044\ttotal: 13.3ms\tremaining: 8s\n",
      "20:\tlearn: 792.9179279\ttotal: 255ms\tremaining: 7.02s\n",
      "40:\tlearn: 767.0299387\ttotal: 499ms\tremaining: 6.8s\n",
      "60:\tlearn: 752.8090199\ttotal: 763ms\tremaining: 6.74s\n",
      "80:\tlearn: 741.7802106\ttotal: 1s\tremaining: 6.41s\n",
      "100:\tlearn: 728.8868362\ttotal: 1.25s\tremaining: 6.19s\n",
      "120:\tlearn: 715.5582457\ttotal: 1.51s\tremaining: 5.99s\n",
      "140:\tlearn: 701.4811261\ttotal: 1.79s\tremaining: 5.83s\n",
      "160:\tlearn: 689.5852375\ttotal: 2.04s\tremaining: 5.58s\n",
      "180:\tlearn: 680.9293727\ttotal: 2.31s\tremaining: 5.35s\n",
      "200:\tlearn: 670.8621694\ttotal: 2.58s\tremaining: 5.13s\n",
      "220:\tlearn: 660.4176838\ttotal: 2.85s\tremaining: 4.89s\n",
      "240:\tlearn: 649.9862474\ttotal: 3.1s\tremaining: 4.62s\n",
      "260:\tlearn: 641.7663427\ttotal: 3.36s\tremaining: 4.36s\n",
      "280:\tlearn: 633.5718635\ttotal: 3.62s\tremaining: 4.11s\n",
      "300:\tlearn: 625.0594211\ttotal: 3.89s\tremaining: 3.86s\n",
      "320:\tlearn: 617.3029346\ttotal: 4.14s\tremaining: 3.6s\n",
      "340:\tlearn: 609.9527153\ttotal: 4.4s\tremaining: 3.34s\n",
      "360:\tlearn: 602.7820324\ttotal: 4.66s\tremaining: 3.09s\n",
      "380:\tlearn: 595.3891868\ttotal: 4.93s\tremaining: 2.83s\n",
      "400:\tlearn: 588.9141653\ttotal: 5.18s\tremaining: 2.57s\n",
      "420:\tlearn: 583.1780286\ttotal: 5.44s\tremaining: 2.31s\n",
      "440:\tlearn: 576.9282297\ttotal: 5.7s\tremaining: 2.06s\n",
      "460:\tlearn: 570.7165742\ttotal: 5.96s\tremaining: 1.8s\n",
      "480:\tlearn: 564.5884128\ttotal: 6.22s\tremaining: 1.54s\n",
      "500:\tlearn: 559.2463247\ttotal: 6.48s\tremaining: 1.28s\n",
      "520:\tlearn: 552.5789713\ttotal: 6.76s\tremaining: 1.02s\n",
      "540:\tlearn: 546.8422904\ttotal: 7.01s\tremaining: 765ms\n",
      "560:\tlearn: 542.0669863\ttotal: 7.26s\tremaining: 505ms\n",
      "580:\tlearn: 536.4316676\ttotal: 7.52s\tremaining: 246ms\n",
      "599:\tlearn: 530.9923452\ttotal: 7.77s\tremaining: 0us\n",
      "0:\tlearn: 953.9672643\ttotal: 20.1ms\tremaining: 12.1s\n",
      "20:\tlearn: 782.1307929\ttotal: 304ms\tremaining: 8.38s\n",
      "40:\tlearn: 757.2918610\ttotal: 574ms\tremaining: 7.82s\n",
      "60:\tlearn: 745.4670839\ttotal: 848ms\tremaining: 7.5s\n",
      "80:\tlearn: 735.0571308\ttotal: 1.12s\tremaining: 7.18s\n",
      "100:\tlearn: 725.2564173\ttotal: 1.38s\tremaining: 6.84s\n",
      "120:\tlearn: 714.6588076\ttotal: 1.65s\tremaining: 6.54s\n",
      "140:\tlearn: 703.5551873\ttotal: 1.93s\tremaining: 6.28s\n",
      "160:\tlearn: 692.3532934\ttotal: 2.22s\tremaining: 6.06s\n",
      "180:\tlearn: 683.7011119\ttotal: 2.5s\tremaining: 5.79s\n",
      "200:\tlearn: 674.0716241\ttotal: 2.78s\tremaining: 5.52s\n",
      "220:\tlearn: 666.1271805\ttotal: 3.05s\tremaining: 5.24s\n",
      "240:\tlearn: 657.7669325\ttotal: 3.34s\tremaining: 4.97s\n",
      "260:\tlearn: 649.2788442\ttotal: 3.6s\tremaining: 4.68s\n",
      "280:\tlearn: 642.3716251\ttotal: 3.88s\tremaining: 4.41s\n",
      "300:\tlearn: 636.0774515\ttotal: 4.18s\tremaining: 4.15s\n",
      "320:\tlearn: 629.1053798\ttotal: 4.46s\tremaining: 3.87s\n",
      "340:\tlearn: 622.4651471\ttotal: 4.73s\tremaining: 3.59s\n",
      "360:\tlearn: 615.8461844\ttotal: 5s\tremaining: 3.31s\n",
      "380:\tlearn: 608.7868583\ttotal: 5.28s\tremaining: 3.04s\n",
      "400:\tlearn: 602.7393641\ttotal: 5.55s\tremaining: 2.75s\n",
      "420:\tlearn: 596.5158151\ttotal: 5.83s\tremaining: 2.48s\n",
      "440:\tlearn: 590.5582702\ttotal: 6.12s\tremaining: 2.21s\n",
      "460:\tlearn: 585.1467728\ttotal: 6.39s\tremaining: 1.93s\n",
      "480:\tlearn: 579.3815038\ttotal: 6.67s\tremaining: 1.65s\n",
      "500:\tlearn: 573.6941197\ttotal: 6.95s\tremaining: 1.37s\n",
      "520:\tlearn: 569.0270396\ttotal: 7.24s\tremaining: 1.1s\n",
      "540:\tlearn: 562.8588561\ttotal: 7.52s\tremaining: 820ms\n",
      "560:\tlearn: 557.2316972\ttotal: 7.8s\tremaining: 542ms\n",
      "580:\tlearn: 551.7085651\ttotal: 8.08s\tremaining: 264ms\n",
      "599:\tlearn: 547.1439142\ttotal: 8.35s\tremaining: 0us\n",
      "0:\tlearn: 944.7792795\ttotal: 19.3ms\tremaining: 11.6s\n",
      "20:\tlearn: 775.1392704\ttotal: 284ms\tremaining: 7.83s\n",
      "40:\tlearn: 751.4346691\ttotal: 538ms\tremaining: 7.33s\n",
      "60:\tlearn: 739.4307734\ttotal: 789ms\tremaining: 6.97s\n",
      "80:\tlearn: 728.0478665\ttotal: 1.05s\tremaining: 6.71s\n",
      "100:\tlearn: 715.4833288\ttotal: 1.3s\tremaining: 6.43s\n",
      "120:\tlearn: 701.7159955\ttotal: 1.57s\tremaining: 6.21s\n",
      "140:\tlearn: 689.7782369\ttotal: 1.83s\tremaining: 5.95s\n",
      "160:\tlearn: 678.0057483\ttotal: 2.09s\tremaining: 5.71s\n",
      "180:\tlearn: 668.6961571\ttotal: 2.35s\tremaining: 5.45s\n",
      "200:\tlearn: 658.0326255\ttotal: 2.61s\tremaining: 5.19s\n",
      "220:\tlearn: 649.1883388\ttotal: 2.87s\tremaining: 4.92s\n",
      "240:\tlearn: 641.0432701\ttotal: 3.13s\tremaining: 4.66s\n",
      "260:\tlearn: 632.0370282\ttotal: 3.39s\tremaining: 4.4s\n",
      "280:\tlearn: 622.9002761\ttotal: 3.67s\tremaining: 4.17s\n",
      "300:\tlearn: 615.6658521\ttotal: 3.93s\tremaining: 3.91s\n",
      "320:\tlearn: 607.8412234\ttotal: 4.19s\tremaining: 3.64s\n",
      "340:\tlearn: 600.7018893\ttotal: 4.44s\tremaining: 3.38s\n",
      "360:\tlearn: 592.9385104\ttotal: 4.7s\tremaining: 3.11s\n",
      "380:\tlearn: 584.7651944\ttotal: 4.97s\tremaining: 2.86s\n",
      "400:\tlearn: 577.7232325\ttotal: 5.22s\tremaining: 2.59s\n",
      "420:\tlearn: 570.5228675\ttotal: 5.48s\tremaining: 2.33s\n",
      "440:\tlearn: 564.3233748\ttotal: 5.74s\tremaining: 2.07s\n",
      "460:\tlearn: 557.7969521\ttotal: 6s\tremaining: 1.81s\n",
      "480:\tlearn: 552.0118543\ttotal: 6.26s\tremaining: 1.55s\n",
      "500:\tlearn: 546.4835195\ttotal: 6.52s\tremaining: 1.29s\n",
      "520:\tlearn: 540.5257130\ttotal: 6.78s\tremaining: 1.03s\n",
      "540:\tlearn: 534.4170910\ttotal: 7.05s\tremaining: 769ms\n",
      "560:\tlearn: 528.4292399\ttotal: 7.32s\tremaining: 509ms\n",
      "580:\tlearn: 523.1169079\ttotal: 7.59s\tremaining: 248ms\n",
      "599:\tlearn: 517.9277781\ttotal: 7.83s\tremaining: 0us\n",
      "0:\tlearn: 952.1537373\ttotal: 13.3ms\tremaining: 7.97s\n",
      "20:\tlearn: 778.8438286\ttotal: 279ms\tremaining: 7.7s\n",
      "40:\tlearn: 753.5870262\ttotal: 529ms\tremaining: 7.21s\n",
      "60:\tlearn: 740.7957386\ttotal: 783ms\tremaining: 6.92s\n",
      "80:\tlearn: 729.6604701\ttotal: 1.05s\tremaining: 6.76s\n",
      "100:\tlearn: 717.8726534\ttotal: 1.33s\tremaining: 6.55s\n",
      "120:\tlearn: 703.7644640\ttotal: 1.59s\tremaining: 6.31s\n",
      "140:\tlearn: 692.7747499\ttotal: 1.86s\tremaining: 6.07s\n",
      "160:\tlearn: 682.1694841\ttotal: 2.14s\tremaining: 5.83s\n",
      "180:\tlearn: 671.3347862\ttotal: 2.4s\tremaining: 5.55s\n",
      "200:\tlearn: 661.8520613\ttotal: 2.66s\tremaining: 5.29s\n",
      "220:\tlearn: 652.3385003\ttotal: 2.92s\tremaining: 5.02s\n",
      "240:\tlearn: 642.3630674\ttotal: 3.21s\tremaining: 4.78s\n",
      "260:\tlearn: 635.0252588\ttotal: 3.47s\tremaining: 4.51s\n",
      "280:\tlearn: 626.0143124\ttotal: 3.74s\tremaining: 4.24s\n",
      "300:\tlearn: 617.2777124\ttotal: 3.99s\tremaining: 3.97s\n",
      "320:\tlearn: 608.7013621\ttotal: 4.25s\tremaining: 3.7s\n",
      "340:\tlearn: 601.6389467\ttotal: 4.51s\tremaining: 3.42s\n",
      "360:\tlearn: 595.3134994\ttotal: 4.76s\tremaining: 3.15s\n",
      "380:\tlearn: 588.2140026\ttotal: 5.01s\tremaining: 2.88s\n",
      "400:\tlearn: 580.6030220\ttotal: 5.29s\tremaining: 2.63s\n",
      "420:\tlearn: 573.3879987\ttotal: 5.55s\tremaining: 2.36s\n",
      "440:\tlearn: 567.0119822\ttotal: 5.81s\tremaining: 2.09s\n",
      "460:\tlearn: 560.3943560\ttotal: 6.09s\tremaining: 1.83s\n",
      "480:\tlearn: 553.6589704\ttotal: 6.35s\tremaining: 1.57s\n",
      "500:\tlearn: 548.0051521\ttotal: 6.61s\tremaining: 1.31s\n",
      "520:\tlearn: 541.6350320\ttotal: 6.87s\tremaining: 1.04s\n",
      "540:\tlearn: 535.9567771\ttotal: 7.14s\tremaining: 779ms\n",
      "560:\tlearn: 530.2571189\ttotal: 7.41s\tremaining: 515ms\n",
      "580:\tlearn: 524.4403451\ttotal: 7.68s\tremaining: 251ms\n",
      "599:\tlearn: 518.6620206\ttotal: 7.93s\tremaining: 0us\n",
      "0:\tlearn: 953.2091160\ttotal: 13.4ms\tremaining: 8.01s\n",
      "20:\tlearn: 775.7632761\ttotal: 260ms\tremaining: 7.18s\n",
      "40:\tlearn: 750.5834975\ttotal: 514ms\tremaining: 7s\n",
      "60:\tlearn: 737.5801377\ttotal: 772ms\tremaining: 6.82s\n",
      "80:\tlearn: 727.0383820\ttotal: 1.03s\tremaining: 6.58s\n",
      "100:\tlearn: 714.7204544\ttotal: 1.31s\tremaining: 6.47s\n",
      "120:\tlearn: 702.2709901\ttotal: 1.57s\tremaining: 6.22s\n",
      "140:\tlearn: 690.6899601\ttotal: 1.83s\tremaining: 5.95s\n",
      "160:\tlearn: 680.3912794\ttotal: 2.1s\tremaining: 5.72s\n",
      "180:\tlearn: 670.1036086\ttotal: 2.36s\tremaining: 5.46s\n",
      "200:\tlearn: 659.8350190\ttotal: 2.62s\tremaining: 5.2s\n",
      "220:\tlearn: 650.9483506\ttotal: 2.88s\tremaining: 4.94s\n",
      "240:\tlearn: 642.4596875\ttotal: 3.15s\tremaining: 4.7s\n",
      "260:\tlearn: 633.8052909\ttotal: 3.42s\tremaining: 4.44s\n",
      "280:\tlearn: 624.7900416\ttotal: 3.68s\tremaining: 4.18s\n",
      "300:\tlearn: 616.9526112\ttotal: 3.94s\tremaining: 3.92s\n",
      "320:\tlearn: 608.4601448\ttotal: 4.21s\tremaining: 3.66s\n",
      "340:\tlearn: 601.3677884\ttotal: 4.47s\tremaining: 3.4s\n",
      "360:\tlearn: 594.7765374\ttotal: 4.74s\tremaining: 3.14s\n",
      "380:\tlearn: 587.7150566\ttotal: 5s\tremaining: 2.87s\n",
      "400:\tlearn: 580.9011985\ttotal: 5.28s\tremaining: 2.62s\n",
      "420:\tlearn: 572.7871072\ttotal: 5.55s\tremaining: 2.36s\n",
      "440:\tlearn: 566.5382591\ttotal: 5.83s\tremaining: 2.1s\n",
      "460:\tlearn: 560.4085562\ttotal: 6.11s\tremaining: 1.84s\n",
      "480:\tlearn: 553.4690667\ttotal: 6.38s\tremaining: 1.58s\n",
      "500:\tlearn: 547.0772629\ttotal: 6.65s\tremaining: 1.31s\n",
      "520:\tlearn: 541.3724339\ttotal: 6.91s\tremaining: 1.05s\n",
      "540:\tlearn: 535.3587680\ttotal: 7.18s\tremaining: 783ms\n",
      "560:\tlearn: 530.6070057\ttotal: 7.45s\tremaining: 518ms\n",
      "580:\tlearn: 524.9600189\ttotal: 7.71s\tremaining: 252ms\n",
      "599:\tlearn: 519.6403896\ttotal: 7.96s\tremaining: 0us\n",
      "0:\tlearn: 954.0739039\ttotal: 13.5ms\tremaining: 8.11s\n",
      "20:\tlearn: 784.2192111\ttotal: 271ms\tremaining: 7.47s\n",
      "40:\tlearn: 758.8874284\ttotal: 524ms\tremaining: 7.14s\n",
      "60:\tlearn: 746.2140519\ttotal: 770ms\tremaining: 6.81s\n",
      "80:\tlearn: 734.5002197\ttotal: 1.04s\tremaining: 6.67s\n",
      "100:\tlearn: 724.4003891\ttotal: 1.31s\tremaining: 6.46s\n",
      "120:\tlearn: 711.3134106\ttotal: 1.56s\tremaining: 6.19s\n",
      "140:\tlearn: 700.0156625\ttotal: 1.81s\tremaining: 5.91s\n",
      "160:\tlearn: 689.7927345\ttotal: 2.08s\tremaining: 5.68s\n",
      "180:\tlearn: 679.6892775\ttotal: 2.34s\tremaining: 5.42s\n",
      "200:\tlearn: 670.5029499\ttotal: 2.6s\tremaining: 5.17s\n",
      "220:\tlearn: 660.1171937\ttotal: 2.88s\tremaining: 4.93s\n",
      "240:\tlearn: 651.1656753\ttotal: 3.14s\tremaining: 4.68s\n",
      "260:\tlearn: 642.1362829\ttotal: 3.41s\tremaining: 4.42s\n",
      "280:\tlearn: 632.9074953\ttotal: 3.66s\tremaining: 4.16s\n",
      "300:\tlearn: 624.1765344\ttotal: 3.92s\tremaining: 3.9s\n",
      "320:\tlearn: 616.1309999\ttotal: 4.18s\tremaining: 3.63s\n",
      "340:\tlearn: 608.9709753\ttotal: 4.45s\tremaining: 3.38s\n",
      "360:\tlearn: 601.6621722\ttotal: 4.7s\tremaining: 3.11s\n",
      "380:\tlearn: 594.4409961\ttotal: 4.96s\tremaining: 2.85s\n",
      "400:\tlearn: 587.1821251\ttotal: 5.24s\tremaining: 2.6s\n",
      "420:\tlearn: 579.8382615\ttotal: 5.5s\tremaining: 2.34s\n",
      "440:\tlearn: 572.8948702\ttotal: 5.75s\tremaining: 2.07s\n",
      "460:\tlearn: 566.8932264\ttotal: 6.01s\tremaining: 1.81s\n",
      "480:\tlearn: 560.3233173\ttotal: 6.27s\tremaining: 1.55s\n",
      "500:\tlearn: 554.0084792\ttotal: 6.54s\tremaining: 1.29s\n",
      "520:\tlearn: 547.6115596\ttotal: 6.8s\tremaining: 1.03s\n",
      "540:\tlearn: 541.4453103\ttotal: 7.06s\tremaining: 770ms\n",
      "560:\tlearn: 535.7520688\ttotal: 7.33s\tremaining: 510ms\n",
      "580:\tlearn: 529.9563183\ttotal: 7.59s\tremaining: 248ms\n",
      "599:\tlearn: 525.0682299\ttotal: 7.84s\tremaining: 0us\n",
      "0:\tlearn: 961.6313323\ttotal: 13.5ms\tremaining: 8.1s\n",
      "20:\tlearn: 786.9860398\ttotal: 272ms\tremaining: 7.49s\n",
      "40:\tlearn: 763.6914508\ttotal: 515ms\tremaining: 7.02s\n",
      "60:\tlearn: 749.8480871\ttotal: 784ms\tremaining: 6.92s\n",
      "80:\tlearn: 738.2639835\ttotal: 1.05s\tremaining: 6.71s\n",
      "100:\tlearn: 725.4677382\ttotal: 1.32s\tremaining: 6.53s\n",
      "120:\tlearn: 712.8463845\ttotal: 1.59s\tremaining: 6.31s\n",
      "140:\tlearn: 700.7505725\ttotal: 1.84s\tremaining: 6.01s\n",
      "160:\tlearn: 689.2619219\ttotal: 2.11s\tremaining: 5.75s\n",
      "180:\tlearn: 679.1076500\ttotal: 2.38s\tremaining: 5.5s\n",
      "200:\tlearn: 668.2557622\ttotal: 2.63s\tremaining: 5.22s\n",
      "220:\tlearn: 658.0058796\ttotal: 2.89s\tremaining: 4.96s\n",
      "240:\tlearn: 649.4169334\ttotal: 3.14s\tremaining: 4.68s\n",
      "260:\tlearn: 639.5990447\ttotal: 3.4s\tremaining: 4.42s\n",
      "280:\tlearn: 630.6722467\ttotal: 3.67s\tremaining: 4.17s\n",
      "300:\tlearn: 622.2220013\ttotal: 3.93s\tremaining: 3.9s\n",
      "320:\tlearn: 612.5771612\ttotal: 4.18s\tremaining: 3.63s\n",
      "340:\tlearn: 605.7086645\ttotal: 4.45s\tremaining: 3.38s\n",
      "360:\tlearn: 598.5127421\ttotal: 4.71s\tremaining: 3.12s\n",
      "380:\tlearn: 591.8528376\ttotal: 4.98s\tremaining: 2.86s\n",
      "400:\tlearn: 585.4672685\ttotal: 5.25s\tremaining: 2.61s\n",
      "420:\tlearn: 578.6604301\ttotal: 5.54s\tremaining: 2.35s\n",
      "440:\tlearn: 573.1240364\ttotal: 5.82s\tremaining: 2.1s\n",
      "460:\tlearn: 566.7441544\ttotal: 6.1s\tremaining: 1.84s\n",
      "480:\tlearn: 560.1164229\ttotal: 6.38s\tremaining: 1.58s\n",
      "500:\tlearn: 553.0677474\ttotal: 6.65s\tremaining: 1.31s\n",
      "520:\tlearn: 547.9435523\ttotal: 6.91s\tremaining: 1.05s\n",
      "540:\tlearn: 542.1184892\ttotal: 7.17s\tremaining: 782ms\n",
      "560:\tlearn: 535.4723046\ttotal: 7.46s\tremaining: 519ms\n",
      "580:\tlearn: 529.3887876\ttotal: 7.74s\tremaining: 253ms\n",
      "599:\tlearn: 524.0735507\ttotal: 8s\tremaining: 0us\n",
      "0:\tlearn: 967.8969325\ttotal: 20.6ms\tremaining: 12.3s\n",
      "20:\tlearn: 794.9979257\ttotal: 310ms\tremaining: 8.55s\n",
      "40:\tlearn: 769.3816795\ttotal: 589ms\tremaining: 8.03s\n",
      "60:\tlearn: 756.1319059\ttotal: 864ms\tremaining: 7.64s\n",
      "80:\tlearn: 747.2069629\ttotal: 1.14s\tremaining: 7.33s\n",
      "100:\tlearn: 735.2435114\ttotal: 1.43s\tremaining: 7.07s\n",
      "120:\tlearn: 723.9251809\ttotal: 1.71s\tremaining: 6.76s\n",
      "140:\tlearn: 712.2176539\ttotal: 1.99s\tremaining: 6.47s\n",
      "160:\tlearn: 703.2094711\ttotal: 2.29s\tremaining: 6.26s\n",
      "180:\tlearn: 693.7377737\ttotal: 2.58s\tremaining: 5.97s\n",
      "200:\tlearn: 684.6282806\ttotal: 2.85s\tremaining: 5.65s\n",
      "220:\tlearn: 676.8685292\ttotal: 3.12s\tremaining: 5.35s\n",
      "240:\tlearn: 667.3548413\ttotal: 3.4s\tremaining: 5.07s\n",
      "260:\tlearn: 659.7519806\ttotal: 3.69s\tremaining: 4.79s\n",
      "280:\tlearn: 652.3006386\ttotal: 3.98s\tremaining: 4.51s\n",
      "300:\tlearn: 645.0447808\ttotal: 4.26s\tremaining: 4.23s\n",
      "320:\tlearn: 637.8627051\ttotal: 4.53s\tremaining: 3.94s\n",
      "340:\tlearn: 630.8833485\ttotal: 4.8s\tremaining: 3.65s\n",
      "360:\tlearn: 624.3140709\ttotal: 5.08s\tremaining: 3.36s\n",
      "380:\tlearn: 618.0873118\ttotal: 5.34s\tremaining: 3.07s\n",
      "400:\tlearn: 611.6725295\ttotal: 5.62s\tremaining: 2.79s\n",
      "420:\tlearn: 605.3493111\ttotal: 5.9s\tremaining: 2.51s\n",
      "440:\tlearn: 598.9006463\ttotal: 6.19s\tremaining: 2.23s\n",
      "460:\tlearn: 593.3689396\ttotal: 6.48s\tremaining: 1.95s\n",
      "480:\tlearn: 587.9018739\ttotal: 6.77s\tremaining: 1.67s\n",
      "500:\tlearn: 582.7748796\ttotal: 7.06s\tremaining: 1.39s\n",
      "520:\tlearn: 577.5352100\ttotal: 7.33s\tremaining: 1.11s\n",
      "540:\tlearn: 572.7122720\ttotal: 7.63s\tremaining: 832ms\n",
      "560:\tlearn: 567.1117011\ttotal: 7.9s\tremaining: 549ms\n",
      "580:\tlearn: 561.8663492\ttotal: 8.18s\tremaining: 268ms\n",
      "599:\tlearn: 557.4252562\ttotal: 8.46s\tremaining: 0us\n",
      "0:\tlearn: 963.1472914\ttotal: 19.3ms\tremaining: 11.6s\n",
      "20:\tlearn: 789.0003134\ttotal: 305ms\tremaining: 8.42s\n",
      "40:\tlearn: 764.1653698\ttotal: 573ms\tremaining: 7.81s\n",
      "60:\tlearn: 752.7576616\ttotal: 823ms\tremaining: 7.28s\n",
      "80:\tlearn: 741.3265081\ttotal: 1.09s\tremaining: 6.96s\n",
      "100:\tlearn: 728.6295599\ttotal: 1.36s\tremaining: 6.71s\n",
      "120:\tlearn: 715.6416925\ttotal: 1.62s\tremaining: 6.41s\n",
      "140:\tlearn: 702.1239429\ttotal: 1.89s\tremaining: 6.15s\n",
      "160:\tlearn: 692.1157827\ttotal: 2.17s\tremaining: 5.91s\n",
      "180:\tlearn: 681.4342190\ttotal: 2.42s\tremaining: 5.61s\n",
      "200:\tlearn: 671.6796529\ttotal: 2.69s\tremaining: 5.35s\n",
      "220:\tlearn: 661.5283569\ttotal: 2.95s\tremaining: 5.05s\n",
      "240:\tlearn: 651.7215422\ttotal: 3.22s\tremaining: 4.8s\n",
      "260:\tlearn: 642.7310566\ttotal: 3.49s\tremaining: 4.53s\n",
      "280:\tlearn: 632.9642000\ttotal: 3.75s\tremaining: 4.25s\n",
      "300:\tlearn: 624.7477423\ttotal: 4.01s\tremaining: 3.98s\n",
      "320:\tlearn: 617.3075027\ttotal: 4.27s\tremaining: 3.71s\n",
      "340:\tlearn: 609.1671355\ttotal: 4.55s\tremaining: 3.45s\n",
      "360:\tlearn: 602.6777692\ttotal: 4.8s\tremaining: 3.18s\n",
      "380:\tlearn: 594.9459110\ttotal: 5.07s\tremaining: 2.92s\n",
      "400:\tlearn: 587.6402240\ttotal: 5.34s\tremaining: 2.65s\n",
      "420:\tlearn: 580.3330984\ttotal: 5.6s\tremaining: 2.38s\n",
      "440:\tlearn: 572.9986333\ttotal: 5.86s\tremaining: 2.11s\n",
      "460:\tlearn: 566.2012506\ttotal: 6.11s\tremaining: 1.84s\n",
      "480:\tlearn: 559.5228634\ttotal: 6.38s\tremaining: 1.58s\n",
      "500:\tlearn: 553.1638857\ttotal: 6.62s\tremaining: 1.31s\n",
      "520:\tlearn: 547.3577884\ttotal: 6.88s\tremaining: 1.04s\n",
      "540:\tlearn: 541.2102706\ttotal: 7.16s\tremaining: 781ms\n",
      "560:\tlearn: 535.2690752\ttotal: 7.42s\tremaining: 516ms\n",
      "580:\tlearn: 530.1503607\ttotal: 7.68s\tremaining: 251ms\n",
      "599:\tlearn: 524.7350808\ttotal: 7.94s\tremaining: 0us\n",
      "0:\tlearn: 961.3153609\ttotal: 13.4ms\tremaining: 8.05s\n",
      "20:\tlearn: 788.9725776\ttotal: 292ms\tremaining: 8.05s\n",
      "40:\tlearn: 763.5274041\ttotal: 557ms\tremaining: 7.59s\n",
      "60:\tlearn: 752.2592801\ttotal: 816ms\tremaining: 7.21s\n",
      "80:\tlearn: 740.0971443\ttotal: 1.07s\tremaining: 6.88s\n",
      "100:\tlearn: 727.2702293\ttotal: 1.33s\tremaining: 6.59s\n",
      "120:\tlearn: 713.7462022\ttotal: 1.6s\tremaining: 6.32s\n",
      "140:\tlearn: 700.8949903\ttotal: 1.86s\tremaining: 6.06s\n",
      "160:\tlearn: 691.0418267\ttotal: 2.12s\tremaining: 5.78s\n",
      "180:\tlearn: 679.3021519\ttotal: 2.39s\tremaining: 5.53s\n",
      "200:\tlearn: 670.1412727\ttotal: 2.65s\tremaining: 5.27s\n",
      "220:\tlearn: 660.6636370\ttotal: 2.92s\tremaining: 5s\n",
      "240:\tlearn: 652.3316879\ttotal: 3.18s\tremaining: 4.73s\n",
      "260:\tlearn: 645.3357345\ttotal: 3.43s\tremaining: 4.45s\n",
      "280:\tlearn: 635.3786625\ttotal: 3.7s\tremaining: 4.2s\n",
      "300:\tlearn: 627.4792051\ttotal: 3.95s\tremaining: 3.93s\n",
      "320:\tlearn: 619.3317236\ttotal: 4.23s\tremaining: 3.68s\n",
      "340:\tlearn: 610.8490915\ttotal: 4.49s\tremaining: 3.41s\n",
      "360:\tlearn: 604.4387350\ttotal: 4.76s\tremaining: 3.15s\n",
      "380:\tlearn: 597.0069550\ttotal: 5.04s\tremaining: 2.89s\n",
      "400:\tlearn: 589.0607482\ttotal: 5.31s\tremaining: 2.64s\n",
      "420:\tlearn: 581.3518136\ttotal: 5.58s\tremaining: 2.37s\n",
      "440:\tlearn: 573.8282186\ttotal: 5.85s\tremaining: 2.11s\n",
      "460:\tlearn: 567.7893155\ttotal: 6.11s\tremaining: 1.84s\n",
      "480:\tlearn: 560.2705660\ttotal: 6.37s\tremaining: 1.57s\n",
      "500:\tlearn: 554.1312701\ttotal: 6.63s\tremaining: 1.31s\n",
      "520:\tlearn: 548.5017766\ttotal: 6.89s\tremaining: 1.04s\n",
      "540:\tlearn: 542.9378275\ttotal: 7.15s\tremaining: 779ms\n",
      "560:\tlearn: 537.3670510\ttotal: 7.41s\tremaining: 515ms\n",
      "580:\tlearn: 532.0183632\ttotal: 7.68s\tremaining: 251ms\n",
      "599:\tlearn: 526.9478782\ttotal: 7.93s\tremaining: 0us\n",
      "0:\tlearn: 960.8725050\ttotal: 13.3ms\tremaining: 7.98s\n",
      "20:\tlearn: 779.2085852\ttotal: 278ms\tremaining: 7.67s\n",
      "40:\tlearn: 751.7058817\ttotal: 546ms\tremaining: 7.44s\n",
      "60:\tlearn: 738.3022451\ttotal: 811ms\tremaining: 7.17s\n",
      "80:\tlearn: 727.8219267\ttotal: 1.09s\tremaining: 6.99s\n",
      "100:\tlearn: 715.1949095\ttotal: 1.37s\tremaining: 6.79s\n",
      "120:\tlearn: 701.3075314\ttotal: 1.66s\tremaining: 6.58s\n",
      "140:\tlearn: 689.4609752\ttotal: 1.94s\tremaining: 6.32s\n",
      "160:\tlearn: 676.8523077\ttotal: 2.23s\tremaining: 6.07s\n",
      "180:\tlearn: 665.2919553\ttotal: 2.5s\tremaining: 5.78s\n",
      "200:\tlearn: 656.0143601\ttotal: 2.77s\tremaining: 5.49s\n",
      "220:\tlearn: 646.6538982\ttotal: 3.04s\tremaining: 5.22s\n",
      "240:\tlearn: 638.8404463\ttotal: 3.33s\tremaining: 4.95s\n",
      "260:\tlearn: 630.9956609\ttotal: 3.61s\tremaining: 4.69s\n",
      "280:\tlearn: 623.0436209\ttotal: 3.88s\tremaining: 4.41s\n",
      "300:\tlearn: 615.6004248\ttotal: 4.16s\tremaining: 4.13s\n",
      "320:\tlearn: 607.9071102\ttotal: 4.45s\tremaining: 3.87s\n",
      "340:\tlearn: 600.7020100\ttotal: 4.73s\tremaining: 3.59s\n",
      "360:\tlearn: 593.5391080\ttotal: 5.01s\tremaining: 3.32s\n",
      "380:\tlearn: 586.3493701\ttotal: 5.3s\tremaining: 3.04s\n",
      "400:\tlearn: 579.2912099\ttotal: 5.58s\tremaining: 2.77s\n",
      "420:\tlearn: 572.0859283\ttotal: 5.9s\tremaining: 2.51s\n",
      "440:\tlearn: 565.1458047\ttotal: 6.17s\tremaining: 2.23s\n",
      "460:\tlearn: 558.3588751\ttotal: 6.47s\tremaining: 1.95s\n",
      "480:\tlearn: 552.1797477\ttotal: 6.75s\tremaining: 1.67s\n",
      "500:\tlearn: 546.9140778\ttotal: 7.03s\tremaining: 1.39s\n",
      "520:\tlearn: 541.1400235\ttotal: 7.31s\tremaining: 1.11s\n",
      "540:\tlearn: 534.8309598\ttotal: 7.59s\tremaining: 827ms\n",
      "560:\tlearn: 529.8091231\ttotal: 7.87s\tremaining: 547ms\n",
      "580:\tlearn: 523.8018621\ttotal: 8.16s\tremaining: 267ms\n",
      "599:\tlearn: 517.8859963\ttotal: 8.43s\tremaining: 0us\n",
      "0:\tlearn: 971.3770808\ttotal: 13.2ms\tremaining: 7.9s\n",
      "20:\tlearn: 798.8007633\ttotal: 269ms\tremaining: 7.43s\n",
      "40:\tlearn: 774.0828902\ttotal: 538ms\tremaining: 7.33s\n",
      "60:\tlearn: 759.9464031\ttotal: 793ms\tremaining: 7s\n",
      "80:\tlearn: 749.4730081\ttotal: 1.05s\tremaining: 6.76s\n",
      "100:\tlearn: 736.9166992\ttotal: 1.33s\tremaining: 6.6s\n",
      "120:\tlearn: 725.1170001\ttotal: 1.61s\tremaining: 6.36s\n",
      "140:\tlearn: 713.3303989\ttotal: 1.88s\tremaining: 6.11s\n",
      "160:\tlearn: 701.5038262\ttotal: 2.15s\tremaining: 5.85s\n",
      "180:\tlearn: 691.0472162\ttotal: 2.42s\tremaining: 5.62s\n",
      "200:\tlearn: 680.9050492\ttotal: 2.7s\tremaining: 5.36s\n",
      "220:\tlearn: 672.4178454\ttotal: 2.98s\tremaining: 5.11s\n",
      "240:\tlearn: 662.2901581\ttotal: 3.25s\tremaining: 4.84s\n",
      "260:\tlearn: 652.9576419\ttotal: 3.52s\tremaining: 4.57s\n",
      "280:\tlearn: 643.8324484\ttotal: 3.8s\tremaining: 4.32s\n",
      "300:\tlearn: 635.8296129\ttotal: 4.07s\tremaining: 4.04s\n",
      "320:\tlearn: 626.4387213\ttotal: 4.36s\tremaining: 3.79s\n",
      "340:\tlearn: 619.0783363\ttotal: 4.62s\tremaining: 3.51s\n",
      "360:\tlearn: 611.7483164\ttotal: 4.91s\tremaining: 3.25s\n",
      "380:\tlearn: 604.0591105\ttotal: 5.18s\tremaining: 2.98s\n",
      "400:\tlearn: 597.0561548\ttotal: 5.46s\tremaining: 2.71s\n",
      "420:\tlearn: 589.7813008\ttotal: 5.73s\tremaining: 2.44s\n",
      "440:\tlearn: 582.6056633\ttotal: 6s\tremaining: 2.16s\n",
      "460:\tlearn: 575.7947440\ttotal: 6.28s\tremaining: 1.89s\n",
      "480:\tlearn: 568.9587754\ttotal: 6.56s\tremaining: 1.62s\n",
      "500:\tlearn: 562.1313836\ttotal: 6.84s\tremaining: 1.35s\n",
      "520:\tlearn: 556.6929027\ttotal: 7.12s\tremaining: 1.08s\n",
      "540:\tlearn: 551.8316450\ttotal: 7.38s\tremaining: 805ms\n",
      "560:\tlearn: 546.1196233\ttotal: 7.67s\tremaining: 533ms\n",
      "580:\tlearn: 540.1953067\ttotal: 7.94s\tremaining: 260ms\n",
      "599:\tlearn: 534.4760019\ttotal: 8.21s\tremaining: 0us\n",
      "0:\tlearn: 977.9181576\ttotal: 13.4ms\tremaining: 8.04s\n",
      "20:\tlearn: 800.2226696\ttotal: 266ms\tremaining: 7.33s\n",
      "40:\tlearn: 777.2332844\ttotal: 534ms\tremaining: 7.28s\n",
      "60:\tlearn: 762.3441831\ttotal: 782ms\tremaining: 6.91s\n",
      "80:\tlearn: 749.5844363\ttotal: 1.06s\tremaining: 6.82s\n",
      "100:\tlearn: 738.3120383\ttotal: 1.33s\tremaining: 6.59s\n",
      "120:\tlearn: 723.8009283\ttotal: 1.62s\tremaining: 6.4s\n",
      "140:\tlearn: 710.8714488\ttotal: 1.9s\tremaining: 6.18s\n",
      "160:\tlearn: 698.5423482\ttotal: 2.17s\tremaining: 5.91s\n",
      "180:\tlearn: 688.0069474\ttotal: 2.45s\tremaining: 5.68s\n",
      "200:\tlearn: 678.0813538\ttotal: 2.74s\tremaining: 5.44s\n",
      "220:\tlearn: 668.8259267\ttotal: 3.02s\tremaining: 5.18s\n",
      "240:\tlearn: 659.9988875\ttotal: 3.3s\tremaining: 4.92s\n",
      "260:\tlearn: 650.5131728\ttotal: 3.59s\tremaining: 4.67s\n",
      "280:\tlearn: 641.8455777\ttotal: 3.87s\tremaining: 4.39s\n",
      "300:\tlearn: 633.4998330\ttotal: 4.14s\tremaining: 4.12s\n",
      "320:\tlearn: 625.3170893\ttotal: 4.43s\tremaining: 3.85s\n",
      "340:\tlearn: 617.0929008\ttotal: 4.71s\tremaining: 3.58s\n",
      "360:\tlearn: 608.8575146\ttotal: 5s\tremaining: 3.31s\n",
      "380:\tlearn: 601.5613554\ttotal: 5.28s\tremaining: 3.03s\n",
      "400:\tlearn: 595.2442237\ttotal: 5.56s\tremaining: 2.76s\n",
      "420:\tlearn: 589.0771617\ttotal: 5.84s\tremaining: 2.48s\n",
      "440:\tlearn: 582.9677792\ttotal: 6.12s\tremaining: 2.21s\n",
      "460:\tlearn: 575.7268606\ttotal: 6.41s\tremaining: 1.93s\n",
      "480:\tlearn: 569.7832045\ttotal: 6.69s\tremaining: 1.66s\n",
      "500:\tlearn: 563.2513514\ttotal: 6.98s\tremaining: 1.38s\n",
      "520:\tlearn: 557.2824320\ttotal: 7.26s\tremaining: 1.1s\n",
      "540:\tlearn: 552.0630828\ttotal: 7.54s\tremaining: 822ms\n",
      "560:\tlearn: 546.2594455\ttotal: 7.82s\tremaining: 544ms\n",
      "580:\tlearn: 540.6480020\ttotal: 8.12s\tremaining: 266ms\n",
      "599:\tlearn: 535.4871972\ttotal: 8.39s\tremaining: 0us\n",
      "0:\tlearn: 965.3900694\ttotal: 22.4ms\tremaining: 13.4s\n",
      "20:\tlearn: 795.9231191\ttotal: 326ms\tremaining: 9s\n",
      "40:\tlearn: 768.4785907\ttotal: 613ms\tremaining: 8.36s\n",
      "60:\tlearn: 756.3350950\ttotal: 902ms\tremaining: 7.97s\n",
      "80:\tlearn: 745.8484627\ttotal: 1.19s\tremaining: 7.62s\n",
      "100:\tlearn: 736.1828958\ttotal: 1.47s\tremaining: 7.28s\n",
      "120:\tlearn: 725.5086516\ttotal: 1.77s\tremaining: 7s\n",
      "140:\tlearn: 715.2180393\ttotal: 2.06s\tremaining: 6.72s\n",
      "160:\tlearn: 706.0233000\ttotal: 2.36s\tremaining: 6.43s\n",
      "180:\tlearn: 694.8915056\ttotal: 2.65s\tremaining: 6.14s\n",
      "200:\tlearn: 686.2573140\ttotal: 2.94s\tremaining: 5.84s\n",
      "220:\tlearn: 677.3450786\ttotal: 3.24s\tremaining: 5.56s\n",
      "240:\tlearn: 669.7609002\ttotal: 3.54s\tremaining: 5.27s\n",
      "260:\tlearn: 661.1472524\ttotal: 3.83s\tremaining: 4.98s\n",
      "280:\tlearn: 652.8224880\ttotal: 4.12s\tremaining: 4.68s\n",
      "300:\tlearn: 645.6196474\ttotal: 4.44s\tremaining: 4.41s\n",
      "320:\tlearn: 638.5027299\ttotal: 4.74s\tremaining: 4.12s\n",
      "340:\tlearn: 631.7557895\ttotal: 5.02s\tremaining: 3.81s\n",
      "360:\tlearn: 625.5079528\ttotal: 5.32s\tremaining: 3.52s\n",
      "380:\tlearn: 619.5744098\ttotal: 5.61s\tremaining: 3.22s\n",
      "400:\tlearn: 613.2449777\ttotal: 5.9s\tremaining: 2.93s\n",
      "420:\tlearn: 606.9573127\ttotal: 6.2s\tremaining: 2.64s\n",
      "440:\tlearn: 601.0912225\ttotal: 6.49s\tremaining: 2.34s\n",
      "460:\tlearn: 595.1529862\ttotal: 6.79s\tremaining: 2.05s\n",
      "480:\tlearn: 589.1141013\ttotal: 7.08s\tremaining: 1.75s\n",
      "500:\tlearn: 583.4184991\ttotal: 7.37s\tremaining: 1.46s\n",
      "520:\tlearn: 577.7939250\ttotal: 7.67s\tremaining: 1.16s\n",
      "540:\tlearn: 572.2833197\ttotal: 7.95s\tremaining: 867ms\n",
      "560:\tlearn: 567.0254918\ttotal: 8.26s\tremaining: 574ms\n",
      "580:\tlearn: 561.5354006\ttotal: 8.55s\tremaining: 280ms\n",
      "599:\tlearn: 556.8451989\ttotal: 8.83s\tremaining: 0us\n",
      "0:\tlearn: 960.0180541\ttotal: 20.3ms\tremaining: 12.1s\n",
      "20:\tlearn: 794.1800011\ttotal: 291ms\tremaining: 8.01s\n",
      "40:\tlearn: 770.9332969\ttotal: 562ms\tremaining: 7.66s\n",
      "60:\tlearn: 755.2893207\ttotal: 813ms\tremaining: 7.19s\n",
      "80:\tlearn: 742.7000596\ttotal: 1.07s\tremaining: 6.83s\n",
      "100:\tlearn: 730.5558787\ttotal: 1.35s\tremaining: 6.66s\n",
      "120:\tlearn: 717.0934283\ttotal: 1.63s\tremaining: 6.46s\n",
      "140:\tlearn: 704.8326435\ttotal: 1.92s\tremaining: 6.24s\n",
      "160:\tlearn: 693.1941618\ttotal: 2.19s\tremaining: 5.98s\n",
      "180:\tlearn: 683.6433413\ttotal: 2.49s\tremaining: 5.76s\n",
      "200:\tlearn: 675.0603363\ttotal: 2.77s\tremaining: 5.51s\n",
      "220:\tlearn: 665.3212424\ttotal: 3.05s\tremaining: 5.24s\n",
      "240:\tlearn: 656.1616708\ttotal: 3.33s\tremaining: 4.96s\n",
      "260:\tlearn: 646.1684886\ttotal: 3.62s\tremaining: 4.7s\n",
      "280:\tlearn: 637.5289017\ttotal: 3.9s\tremaining: 4.43s\n",
      "300:\tlearn: 628.6600419\ttotal: 4.2s\tremaining: 4.17s\n",
      "320:\tlearn: 619.7882235\ttotal: 4.5s\tremaining: 3.91s\n",
      "340:\tlearn: 612.1165919\ttotal: 4.78s\tremaining: 3.63s\n",
      "360:\tlearn: 603.7011151\ttotal: 5.07s\tremaining: 3.35s\n",
      "380:\tlearn: 596.9364357\ttotal: 5.34s\tremaining: 3.07s\n",
      "400:\tlearn: 589.8096073\ttotal: 5.63s\tremaining: 2.79s\n",
      "420:\tlearn: 582.9205309\ttotal: 5.9s\tremaining: 2.51s\n",
      "440:\tlearn: 576.9119186\ttotal: 6.17s\tremaining: 2.23s\n",
      "460:\tlearn: 570.7063340\ttotal: 6.44s\tremaining: 1.94s\n",
      "480:\tlearn: 564.6334642\ttotal: 6.72s\tremaining: 1.66s\n",
      "500:\tlearn: 557.7089279\ttotal: 6.98s\tremaining: 1.38s\n",
      "520:\tlearn: 551.1874553\ttotal: 7.25s\tremaining: 1.1s\n",
      "540:\tlearn: 545.9711579\ttotal: 7.52s\tremaining: 821ms\n",
      "560:\tlearn: 539.9849363\ttotal: 7.78s\tremaining: 541ms\n",
      "580:\tlearn: 534.6871956\ttotal: 8.03s\tremaining: 263ms\n",
      "599:\tlearn: 529.1655597\ttotal: 8.29s\tremaining: 0us\n",
      "0:\tlearn: 958.2311277\ttotal: 13.5ms\tremaining: 8.11s\n",
      "20:\tlearn: 790.2394082\ttotal: 277ms\tremaining: 7.64s\n",
      "40:\tlearn: 765.3254814\ttotal: 543ms\tremaining: 7.4s\n",
      "60:\tlearn: 751.3949672\ttotal: 804ms\tremaining: 7.1s\n",
      "80:\tlearn: 739.5969875\ttotal: 1.06s\tremaining: 6.82s\n",
      "100:\tlearn: 727.6714878\ttotal: 1.33s\tremaining: 6.6s\n",
      "120:\tlearn: 715.9257516\ttotal: 1.6s\tremaining: 6.34s\n",
      "140:\tlearn: 703.7836473\ttotal: 1.87s\tremaining: 6.09s\n",
      "160:\tlearn: 693.6576455\ttotal: 2.12s\tremaining: 5.79s\n",
      "180:\tlearn: 685.0343729\ttotal: 2.4s\tremaining: 5.56s\n",
      "200:\tlearn: 675.1494177\ttotal: 2.66s\tremaining: 5.29s\n",
      "220:\tlearn: 666.6741680\ttotal: 2.93s\tremaining: 5.02s\n",
      "240:\tlearn: 655.9002312\ttotal: 3.21s\tremaining: 4.78s\n",
      "260:\tlearn: 646.5667980\ttotal: 3.46s\tremaining: 4.49s\n",
      "280:\tlearn: 638.1290623\ttotal: 3.72s\tremaining: 4.22s\n",
      "300:\tlearn: 630.1003188\ttotal: 3.99s\tremaining: 3.96s\n",
      "320:\tlearn: 620.5243856\ttotal: 4.27s\tremaining: 3.71s\n",
      "340:\tlearn: 613.6243207\ttotal: 4.52s\tremaining: 3.44s\n",
      "360:\tlearn: 605.8405910\ttotal: 4.79s\tremaining: 3.17s\n",
      "380:\tlearn: 598.9440545\ttotal: 5.06s\tremaining: 2.91s\n",
      "400:\tlearn: 591.8627519\ttotal: 5.34s\tremaining: 2.65s\n",
      "420:\tlearn: 585.1737056\ttotal: 5.62s\tremaining: 2.39s\n",
      "440:\tlearn: 578.4291888\ttotal: 5.88s\tremaining: 2.12s\n",
      "460:\tlearn: 571.4233070\ttotal: 6.15s\tremaining: 1.85s\n",
      "480:\tlearn: 565.4703004\ttotal: 6.42s\tremaining: 1.59s\n",
      "500:\tlearn: 558.7623442\ttotal: 6.68s\tremaining: 1.32s\n",
      "520:\tlearn: 552.7146728\ttotal: 6.96s\tremaining: 1.06s\n",
      "540:\tlearn: 547.7048912\ttotal: 7.24s\tremaining: 789ms\n",
      "560:\tlearn: 542.2260607\ttotal: 7.49s\tremaining: 521ms\n",
      "580:\tlearn: 536.6541417\ttotal: 7.77s\tremaining: 254ms\n",
      "599:\tlearn: 531.4139943\ttotal: 8.02s\tremaining: 0us\n",
      "0:\tlearn: 962.6132173\ttotal: 13.4ms\tremaining: 8.04s\n",
      "20:\tlearn: 788.7681358\ttotal: 286ms\tremaining: 7.89s\n",
      "40:\tlearn: 762.9555692\ttotal: 539ms\tremaining: 7.35s\n",
      "60:\tlearn: 749.7993581\ttotal: 778ms\tremaining: 6.87s\n",
      "80:\tlearn: 738.0506829\ttotal: 1.02s\tremaining: 6.56s\n",
      "100:\tlearn: 726.8179935\ttotal: 1.29s\tremaining: 6.36s\n",
      "120:\tlearn: 713.4664913\ttotal: 1.54s\tremaining: 6.12s\n",
      "140:\tlearn: 701.6417395\ttotal: 1.8s\tremaining: 5.87s\n",
      "160:\tlearn: 692.0047171\ttotal: 2.07s\tremaining: 5.64s\n",
      "180:\tlearn: 680.4327566\ttotal: 2.33s\tremaining: 5.4s\n",
      "200:\tlearn: 669.6940076\ttotal: 2.6s\tremaining: 5.17s\n",
      "220:\tlearn: 660.3184963\ttotal: 2.87s\tremaining: 4.92s\n",
      "240:\tlearn: 650.9355346\ttotal: 3.15s\tremaining: 4.68s\n",
      "260:\tlearn: 641.8893135\ttotal: 3.42s\tremaining: 4.44s\n",
      "280:\tlearn: 634.1613956\ttotal: 3.69s\tremaining: 4.18s\n",
      "300:\tlearn: 626.8815397\ttotal: 3.96s\tremaining: 3.93s\n",
      "320:\tlearn: 619.4468947\ttotal: 4.24s\tremaining: 3.68s\n",
      "340:\tlearn: 612.3472877\ttotal: 4.5s\tremaining: 3.42s\n",
      "360:\tlearn: 605.5804373\ttotal: 4.77s\tremaining: 3.16s\n",
      "380:\tlearn: 597.9366925\ttotal: 5.04s\tremaining: 2.9s\n",
      "400:\tlearn: 591.9670040\ttotal: 5.33s\tremaining: 2.64s\n",
      "420:\tlearn: 584.5176730\ttotal: 5.6s\tremaining: 2.38s\n",
      "440:\tlearn: 577.6200024\ttotal: 5.87s\tremaining: 2.12s\n",
      "460:\tlearn: 570.9183827\ttotal: 6.17s\tremaining: 1.86s\n",
      "480:\tlearn: 564.3585340\ttotal: 6.44s\tremaining: 1.59s\n",
      "500:\tlearn: 558.3646286\ttotal: 6.7s\tremaining: 1.32s\n",
      "520:\tlearn: 552.1898469\ttotal: 6.97s\tremaining: 1.06s\n",
      "540:\tlearn: 546.6748642\ttotal: 7.25s\tremaining: 791ms\n",
      "560:\tlearn: 540.8114470\ttotal: 7.52s\tremaining: 523ms\n",
      "580:\tlearn: 534.6775933\ttotal: 7.79s\tremaining: 255ms\n",
      "599:\tlearn: 528.7854682\ttotal: 8.04s\tremaining: 0us\n",
      "0:\tlearn: 966.6104865\ttotal: 3.95ms\tremaining: 2.37s\n",
      "20:\tlearn: 791.2951540\ttotal: 267ms\tremaining: 7.37s\n",
      "40:\tlearn: 764.5164612\ttotal: 528ms\tremaining: 7.19s\n",
      "60:\tlearn: 750.4533007\ttotal: 767ms\tremaining: 6.77s\n",
      "80:\tlearn: 739.0282504\ttotal: 1.02s\tremaining: 6.57s\n",
      "100:\tlearn: 727.0800649\ttotal: 1.31s\tremaining: 6.48s\n",
      "120:\tlearn: 714.7572843\ttotal: 1.58s\tremaining: 6.25s\n",
      "140:\tlearn: 703.7287980\ttotal: 1.85s\tremaining: 6.01s\n",
      "160:\tlearn: 693.8774789\ttotal: 2.12s\tremaining: 5.79s\n",
      "180:\tlearn: 683.2877443\ttotal: 2.39s\tremaining: 5.53s\n",
      "200:\tlearn: 673.7792793\ttotal: 2.65s\tremaining: 5.26s\n",
      "220:\tlearn: 664.7812996\ttotal: 2.92s\tremaining: 5s\n",
      "240:\tlearn: 656.4480248\ttotal: 3.18s\tremaining: 4.74s\n",
      "260:\tlearn: 648.5232497\ttotal: 3.45s\tremaining: 4.48s\n",
      "280:\tlearn: 640.7696008\ttotal: 3.71s\tremaining: 4.21s\n",
      "300:\tlearn: 632.0098788\ttotal: 3.98s\tremaining: 3.96s\n",
      "320:\tlearn: 624.0495094\ttotal: 4.25s\tremaining: 3.7s\n",
      "340:\tlearn: 616.9845841\ttotal: 4.51s\tremaining: 3.43s\n",
      "360:\tlearn: 608.8914525\ttotal: 4.76s\tremaining: 3.15s\n",
      "380:\tlearn: 601.8115817\ttotal: 5.02s\tremaining: 2.88s\n",
      "400:\tlearn: 594.0389778\ttotal: 5.3s\tremaining: 2.63s\n",
      "420:\tlearn: 586.8423752\ttotal: 5.56s\tremaining: 2.36s\n",
      "440:\tlearn: 579.1663027\ttotal: 5.83s\tremaining: 2.1s\n",
      "460:\tlearn: 572.6316348\ttotal: 6.1s\tremaining: 1.84s\n",
      "480:\tlearn: 565.8348086\ttotal: 6.36s\tremaining: 1.57s\n",
      "500:\tlearn: 559.2902181\ttotal: 6.62s\tremaining: 1.31s\n",
      "520:\tlearn: 553.2142949\ttotal: 6.89s\tremaining: 1.04s\n",
      "540:\tlearn: 546.8474449\ttotal: 7.16s\tremaining: 781ms\n",
      "560:\tlearn: 540.7556993\ttotal: 7.42s\tremaining: 516ms\n",
      "580:\tlearn: 534.6738723\ttotal: 7.68s\tremaining: 251ms\n",
      "599:\tlearn: 530.6403469\ttotal: 7.92s\tremaining: 0us\n",
      "0:\tlearn: 975.5939544\ttotal: 13.5ms\tremaining: 8.08s\n",
      "20:\tlearn: 803.1547723\ttotal: 263ms\tremaining: 7.26s\n",
      "40:\tlearn: 776.2823287\ttotal: 530ms\tremaining: 7.22s\n",
      "60:\tlearn: 761.4748041\ttotal: 782ms\tremaining: 6.91s\n",
      "80:\tlearn: 750.8742562\ttotal: 1.05s\tremaining: 6.76s\n",
      "100:\tlearn: 741.8953563\ttotal: 1.34s\tremaining: 6.6s\n",
      "120:\tlearn: 727.9236602\ttotal: 1.6s\tremaining: 6.36s\n",
      "140:\tlearn: 716.0028963\ttotal: 1.86s\tremaining: 6.05s\n",
      "160:\tlearn: 705.0350700\ttotal: 2.12s\tremaining: 5.79s\n",
      "180:\tlearn: 695.3732435\ttotal: 2.38s\tremaining: 5.51s\n",
      "200:\tlearn: 684.7830813\ttotal: 2.64s\tremaining: 5.25s\n",
      "220:\tlearn: 674.3102812\ttotal: 2.91s\tremaining: 5s\n",
      "240:\tlearn: 665.2830361\ttotal: 3.19s\tremaining: 4.75s\n",
      "260:\tlearn: 655.7417157\ttotal: 3.46s\tremaining: 4.5s\n",
      "280:\tlearn: 646.8613079\ttotal: 3.76s\tremaining: 4.26s\n",
      "300:\tlearn: 639.2623687\ttotal: 4.03s\tremaining: 4.01s\n",
      "320:\tlearn: 631.4122630\ttotal: 4.31s\tremaining: 3.75s\n",
      "340:\tlearn: 623.0432287\ttotal: 4.58s\tremaining: 3.48s\n",
      "360:\tlearn: 616.0042461\ttotal: 4.85s\tremaining: 3.21s\n",
      "380:\tlearn: 608.5835722\ttotal: 5.12s\tremaining: 2.94s\n",
      "400:\tlearn: 600.9710448\ttotal: 5.39s\tremaining: 2.67s\n",
      "420:\tlearn: 593.9608672\ttotal: 5.66s\tremaining: 2.4s\n",
      "440:\tlearn: 588.1130873\ttotal: 5.92s\tremaining: 2.13s\n",
      "460:\tlearn: 581.8632720\ttotal: 6.21s\tremaining: 1.87s\n",
      "480:\tlearn: 575.3142348\ttotal: 6.47s\tremaining: 1.6s\n",
      "500:\tlearn: 568.9156400\ttotal: 6.74s\tremaining: 1.33s\n",
      "520:\tlearn: 562.4000751\ttotal: 7.01s\tremaining: 1.06s\n",
      "540:\tlearn: 556.3590617\ttotal: 7.28s\tremaining: 794ms\n",
      "560:\tlearn: 550.3849269\ttotal: 7.57s\tremaining: 526ms\n",
      "580:\tlearn: 544.4368293\ttotal: 7.83s\tremaining: 256ms\n",
      "599:\tlearn: 539.4642920\ttotal: 8.09s\tremaining: 0us\n",
      "0:\tlearn: 966.3208480\ttotal: 20ms\tremaining: 12s\n",
      "20:\tlearn: 793.8445221\ttotal: 327ms\tremaining: 9.01s\n",
      "40:\tlearn: 768.9138776\ttotal: 613ms\tremaining: 8.36s\n",
      "60:\tlearn: 754.6346410\ttotal: 912ms\tremaining: 8.06s\n",
      "80:\tlearn: 745.8302979\ttotal: 1.21s\tremaining: 7.73s\n",
      "100:\tlearn: 735.8498882\ttotal: 1.5s\tremaining: 7.42s\n",
      "120:\tlearn: 724.0031486\ttotal: 1.8s\tremaining: 7.13s\n",
      "140:\tlearn: 715.0608069\ttotal: 2.11s\tremaining: 6.86s\n",
      "160:\tlearn: 705.1996600\ttotal: 2.39s\tremaining: 6.52s\n",
      "180:\tlearn: 695.5736808\ttotal: 2.69s\tremaining: 6.24s\n",
      "200:\tlearn: 686.4178535\ttotal: 3s\tremaining: 5.96s\n",
      "220:\tlearn: 677.6277635\ttotal: 3.31s\tremaining: 5.67s\n",
      "240:\tlearn: 668.3097759\ttotal: 3.6s\tremaining: 5.36s\n",
      "260:\tlearn: 660.5518736\ttotal: 3.91s\tremaining: 5.08s\n",
      "280:\tlearn: 652.7340916\ttotal: 4.21s\tremaining: 4.78s\n",
      "300:\tlearn: 645.8498129\ttotal: 4.48s\tremaining: 4.45s\n",
      "320:\tlearn: 638.1054241\ttotal: 4.78s\tremaining: 4.15s\n",
      "340:\tlearn: 631.6603270\ttotal: 5.07s\tremaining: 3.85s\n",
      "360:\tlearn: 625.6222960\ttotal: 5.35s\tremaining: 3.54s\n",
      "380:\tlearn: 619.2519052\ttotal: 5.63s\tremaining: 3.24s\n",
      "400:\tlearn: 613.8374782\ttotal: 5.92s\tremaining: 2.94s\n",
      "420:\tlearn: 607.7586051\ttotal: 6.22s\tremaining: 2.64s\n",
      "440:\tlearn: 602.1468133\ttotal: 6.51s\tremaining: 2.35s\n",
      "460:\tlearn: 595.8313493\ttotal: 6.79s\tremaining: 2.05s\n",
      "480:\tlearn: 590.0504322\ttotal: 7.09s\tremaining: 1.75s\n",
      "500:\tlearn: 584.3879866\ttotal: 7.38s\tremaining: 1.46s\n",
      "520:\tlearn: 578.5754956\ttotal: 7.67s\tremaining: 1.16s\n",
      "540:\tlearn: 573.3795584\ttotal: 7.96s\tremaining: 868ms\n",
      "560:\tlearn: 567.6413193\ttotal: 8.25s\tremaining: 574ms\n",
      "580:\tlearn: 562.2116186\ttotal: 8.54s\tremaining: 279ms\n",
      "599:\tlearn: 557.2366842\ttotal: 8.82s\tremaining: 0us\n",
      "0:\tlearn: 962.2560197\ttotal: 19.5ms\tremaining: 11.7s\n",
      "20:\tlearn: 791.9101030\ttotal: 268ms\tremaining: 7.38s\n",
      "40:\tlearn: 768.4375348\ttotal: 527ms\tremaining: 7.19s\n",
      "60:\tlearn: 753.8089340\ttotal: 774ms\tremaining: 6.84s\n",
      "80:\tlearn: 743.0396326\ttotal: 1.03s\tremaining: 6.61s\n",
      "100:\tlearn: 729.6100097\ttotal: 1.3s\tremaining: 6.45s\n",
      "120:\tlearn: 716.7655975\ttotal: 1.58s\tremaining: 6.26s\n",
      "140:\tlearn: 706.2703540\ttotal: 1.84s\tremaining: 5.99s\n",
      "160:\tlearn: 694.6472719\ttotal: 2.1s\tremaining: 5.72s\n",
      "180:\tlearn: 684.4490320\ttotal: 2.38s\tremaining: 5.5s\n",
      "200:\tlearn: 675.1433102\ttotal: 2.63s\tremaining: 5.21s\n",
      "220:\tlearn: 666.0376506\ttotal: 2.89s\tremaining: 4.96s\n",
      "240:\tlearn: 656.9095104\ttotal: 3.15s\tremaining: 4.7s\n",
      "260:\tlearn: 647.8003025\ttotal: 3.43s\tremaining: 4.45s\n",
      "280:\tlearn: 638.6590650\ttotal: 3.67s\tremaining: 4.17s\n",
      "300:\tlearn: 628.9465468\ttotal: 3.94s\tremaining: 3.91s\n",
      "320:\tlearn: 620.8092785\ttotal: 4.19s\tremaining: 3.64s\n",
      "340:\tlearn: 613.5911049\ttotal: 4.47s\tremaining: 3.4s\n",
      "360:\tlearn: 606.1711421\ttotal: 4.73s\tremaining: 3.13s\n",
      "380:\tlearn: 598.0368691\ttotal: 5s\tremaining: 2.88s\n",
      "400:\tlearn: 590.1679915\ttotal: 5.27s\tremaining: 2.62s\n",
      "420:\tlearn: 582.9130914\ttotal: 5.56s\tremaining: 2.36s\n",
      "440:\tlearn: 576.6965474\ttotal: 5.83s\tremaining: 2.1s\n",
      "460:\tlearn: 570.2741720\ttotal: 6.09s\tremaining: 1.83s\n",
      "480:\tlearn: 564.2281816\ttotal: 6.36s\tremaining: 1.57s\n",
      "500:\tlearn: 558.3215362\ttotal: 6.62s\tremaining: 1.31s\n",
      "520:\tlearn: 552.3362041\ttotal: 6.88s\tremaining: 1.04s\n",
      "540:\tlearn: 546.4723800\ttotal: 7.14s\tremaining: 779ms\n",
      "560:\tlearn: 541.1740918\ttotal: 7.42s\tremaining: 516ms\n",
      "580:\tlearn: 534.8596297\ttotal: 7.68s\tremaining: 251ms\n",
      "599:\tlearn: 529.6118198\ttotal: 7.93s\tremaining: 0us\n",
      "0:\tlearn: 960.7304130\ttotal: 13.3ms\tremaining: 7.94s\n",
      "20:\tlearn: 788.7405698\ttotal: 280ms\tremaining: 7.73s\n",
      "40:\tlearn: 765.5308357\ttotal: 551ms\tremaining: 7.52s\n",
      "60:\tlearn: 752.0700881\ttotal: 794ms\tremaining: 7.02s\n",
      "80:\tlearn: 742.4929226\ttotal: 1.04s\tremaining: 6.65s\n",
      "100:\tlearn: 730.9809976\ttotal: 1.28s\tremaining: 6.35s\n",
      "120:\tlearn: 718.2894259\ttotal: 1.56s\tremaining: 6.18s\n",
      "140:\tlearn: 706.1843237\ttotal: 1.83s\tremaining: 5.96s\n",
      "160:\tlearn: 695.8593820\ttotal: 2.12s\tremaining: 5.79s\n",
      "180:\tlearn: 686.6006304\ttotal: 2.4s\tremaining: 5.55s\n",
      "200:\tlearn: 677.3401734\ttotal: 2.68s\tremaining: 5.32s\n",
      "220:\tlearn: 666.6587295\ttotal: 2.94s\tremaining: 5.05s\n",
      "240:\tlearn: 657.6884583\ttotal: 3.21s\tremaining: 4.78s\n",
      "260:\tlearn: 648.3841000\ttotal: 3.48s\tremaining: 4.53s\n",
      "280:\tlearn: 639.3099200\ttotal: 3.75s\tremaining: 4.25s\n",
      "300:\tlearn: 631.2686054\ttotal: 4s\tremaining: 3.98s\n",
      "320:\tlearn: 623.6205937\ttotal: 4.27s\tremaining: 3.71s\n",
      "340:\tlearn: 615.6874323\ttotal: 4.55s\tremaining: 3.45s\n",
      "360:\tlearn: 607.6204971\ttotal: 4.81s\tremaining: 3.18s\n",
      "380:\tlearn: 600.1480008\ttotal: 5.08s\tremaining: 2.92s\n",
      "400:\tlearn: 593.4906937\ttotal: 5.36s\tremaining: 2.66s\n",
      "420:\tlearn: 586.4985775\ttotal: 5.62s\tremaining: 2.39s\n",
      "440:\tlearn: 579.3234585\ttotal: 5.89s\tremaining: 2.12s\n",
      "460:\tlearn: 572.2709182\ttotal: 6.15s\tremaining: 1.85s\n",
      "480:\tlearn: 565.5455997\ttotal: 6.41s\tremaining: 1.59s\n",
      "500:\tlearn: 559.3229256\ttotal: 6.69s\tremaining: 1.32s\n",
      "520:\tlearn: 552.8545654\ttotal: 6.95s\tremaining: 1.05s\n",
      "540:\tlearn: 546.6106966\ttotal: 7.23s\tremaining: 788ms\n",
      "560:\tlearn: 540.7002714\ttotal: 7.5s\tremaining: 521ms\n",
      "580:\tlearn: 534.8835650\ttotal: 7.75s\tremaining: 254ms\n",
      "599:\tlearn: 530.1122504\ttotal: 8.01s\tremaining: 0us\n",
      "0:\tlearn: 964.4332389\ttotal: 13.5ms\tremaining: 8.07s\n",
      "20:\tlearn: 791.7801322\ttotal: 274ms\tremaining: 7.56s\n",
      "40:\tlearn: 764.6886586\ttotal: 550ms\tremaining: 7.5s\n",
      "60:\tlearn: 750.5077291\ttotal: 805ms\tremaining: 7.11s\n",
      "80:\tlearn: 738.0118024\ttotal: 1.06s\tremaining: 6.83s\n",
      "100:\tlearn: 726.0579963\ttotal: 1.32s\tremaining: 6.52s\n",
      "120:\tlearn: 714.4998307\ttotal: 1.59s\tremaining: 6.28s\n",
      "140:\tlearn: 704.2959635\ttotal: 1.85s\tremaining: 6.03s\n",
      "160:\tlearn: 692.0604578\ttotal: 2.1s\tremaining: 5.73s\n",
      "180:\tlearn: 680.9785668\ttotal: 2.37s\tremaining: 5.48s\n",
      "200:\tlearn: 670.9190214\ttotal: 2.62s\tremaining: 5.21s\n",
      "220:\tlearn: 661.1253658\ttotal: 2.86s\tremaining: 4.91s\n",
      "240:\tlearn: 652.2151970\ttotal: 3.14s\tremaining: 4.67s\n",
      "260:\tlearn: 644.0851825\ttotal: 3.4s\tremaining: 4.42s\n",
      "280:\tlearn: 635.3336676\ttotal: 3.67s\tremaining: 4.16s\n",
      "300:\tlearn: 627.5269069\ttotal: 3.92s\tremaining: 3.9s\n",
      "320:\tlearn: 620.3303705\ttotal: 4.19s\tremaining: 3.64s\n",
      "340:\tlearn: 612.4488734\ttotal: 4.47s\tremaining: 3.4s\n",
      "360:\tlearn: 606.0578401\ttotal: 4.75s\tremaining: 3.14s\n",
      "380:\tlearn: 598.9954580\ttotal: 5.01s\tremaining: 2.88s\n",
      "400:\tlearn: 590.9486781\ttotal: 5.27s\tremaining: 2.62s\n",
      "420:\tlearn: 584.0474607\ttotal: 5.53s\tremaining: 2.35s\n",
      "440:\tlearn: 576.9363668\ttotal: 5.79s\tremaining: 2.09s\n",
      "460:\tlearn: 570.1664993\ttotal: 6.04s\tremaining: 1.82s\n",
      "480:\tlearn: 563.9345925\ttotal: 6.3s\tremaining: 1.56s\n",
      "500:\tlearn: 557.5774071\ttotal: 6.57s\tremaining: 1.3s\n",
      "520:\tlearn: 550.8539136\ttotal: 6.82s\tremaining: 1.03s\n",
      "540:\tlearn: 545.0567537\ttotal: 7.09s\tremaining: 773ms\n",
      "560:\tlearn: 538.9817021\ttotal: 7.34s\tremaining: 511ms\n",
      "580:\tlearn: 532.9777527\ttotal: 7.61s\tremaining: 249ms\n",
      "599:\tlearn: 527.0315363\ttotal: 7.86s\tremaining: 0us\n",
      "0:\tlearn: 973.3869158\ttotal: 13.3ms\tremaining: 7.96s\n",
      "20:\tlearn: 794.1141085\ttotal: 274ms\tremaining: 7.55s\n",
      "40:\tlearn: 767.8636007\ttotal: 529ms\tremaining: 7.22s\n",
      "60:\tlearn: 753.2107259\ttotal: 778ms\tremaining: 6.88s\n",
      "80:\tlearn: 741.1165956\ttotal: 1.05s\tremaining: 6.73s\n",
      "100:\tlearn: 729.9733980\ttotal: 1.29s\tremaining: 6.39s\n",
      "120:\tlearn: 715.7579052\ttotal: 1.57s\tremaining: 6.23s\n",
      "140:\tlearn: 704.3115506\ttotal: 1.83s\tremaining: 5.95s\n",
      "160:\tlearn: 693.6866218\ttotal: 2.08s\tremaining: 5.68s\n",
      "180:\tlearn: 685.0385365\ttotal: 2.34s\tremaining: 5.42s\n",
      "200:\tlearn: 673.5686407\ttotal: 2.6s\tremaining: 5.15s\n",
      "220:\tlearn: 663.5053884\ttotal: 2.85s\tremaining: 4.89s\n",
      "240:\tlearn: 654.9884622\ttotal: 3.12s\tremaining: 4.65s\n",
      "260:\tlearn: 645.9872552\ttotal: 3.39s\tremaining: 4.4s\n",
      "280:\tlearn: 636.9886543\ttotal: 3.66s\tremaining: 4.15s\n",
      "300:\tlearn: 628.5264328\ttotal: 3.92s\tremaining: 3.9s\n",
      "320:\tlearn: 620.1609950\ttotal: 4.18s\tremaining: 3.64s\n",
      "340:\tlearn: 611.9064256\ttotal: 4.44s\tremaining: 3.37s\n",
      "360:\tlearn: 603.3135803\ttotal: 4.71s\tremaining: 3.12s\n",
      "380:\tlearn: 596.0148388\ttotal: 4.96s\tremaining: 2.85s\n",
      "400:\tlearn: 588.9282029\ttotal: 5.23s\tremaining: 2.6s\n",
      "420:\tlearn: 582.2985902\ttotal: 5.49s\tremaining: 2.33s\n",
      "440:\tlearn: 575.4461715\ttotal: 5.75s\tremaining: 2.08s\n",
      "460:\tlearn: 569.5279313\ttotal: 6.01s\tremaining: 1.81s\n",
      "480:\tlearn: 562.5037589\ttotal: 6.27s\tremaining: 1.55s\n",
      "500:\tlearn: 556.2270621\ttotal: 6.55s\tremaining: 1.29s\n",
      "520:\tlearn: 550.1033238\ttotal: 6.82s\tremaining: 1.03s\n",
      "540:\tlearn: 544.3644384\ttotal: 7.09s\tremaining: 773ms\n",
      "560:\tlearn: 538.6452831\ttotal: 7.38s\tremaining: 513ms\n",
      "580:\tlearn: 533.2882469\ttotal: 7.66s\tremaining: 250ms\n",
      "599:\tlearn: 527.4860920\ttotal: 7.91s\tremaining: 0us\n",
      "0:\tlearn: 971.0002401\ttotal: 4.19ms\tremaining: 2.51s\n",
      "20:\tlearn: 801.7960284\ttotal: 272ms\tremaining: 7.5s\n",
      "40:\tlearn: 775.3438116\ttotal: 526ms\tremaining: 7.18s\n",
      "60:\tlearn: 761.7942880\ttotal: 790ms\tremaining: 6.98s\n",
      "80:\tlearn: 750.9749341\ttotal: 1.04s\tremaining: 6.68s\n",
      "100:\tlearn: 739.5560353\ttotal: 1.28s\tremaining: 6.35s\n",
      "120:\tlearn: 726.6140803\ttotal: 1.55s\tremaining: 6.13s\n",
      "140:\tlearn: 716.7963907\ttotal: 1.81s\tremaining: 5.9s\n",
      "160:\tlearn: 705.2164279\ttotal: 2.08s\tremaining: 5.66s\n",
      "180:\tlearn: 696.0165443\ttotal: 2.34s\tremaining: 5.41s\n",
      "200:\tlearn: 685.9740040\ttotal: 2.62s\tremaining: 5.2s\n",
      "220:\tlearn: 675.9008963\ttotal: 2.88s\tremaining: 4.94s\n",
      "240:\tlearn: 666.6535303\ttotal: 3.14s\tremaining: 4.68s\n",
      "260:\tlearn: 658.1713798\ttotal: 3.39s\tremaining: 4.41s\n",
      "280:\tlearn: 649.6387470\ttotal: 3.67s\tremaining: 4.17s\n",
      "300:\tlearn: 641.0976527\ttotal: 3.94s\tremaining: 3.91s\n",
      "320:\tlearn: 633.0003678\ttotal: 4.21s\tremaining: 3.66s\n",
      "340:\tlearn: 624.4912488\ttotal: 4.49s\tremaining: 3.41s\n",
      "360:\tlearn: 617.2275510\ttotal: 4.77s\tremaining: 3.16s\n",
      "380:\tlearn: 609.2674174\ttotal: 5.04s\tremaining: 2.9s\n",
      "400:\tlearn: 602.5143259\ttotal: 5.31s\tremaining: 2.63s\n",
      "420:\tlearn: 594.7639837\ttotal: 5.57s\tremaining: 2.37s\n",
      "440:\tlearn: 587.7520023\ttotal: 5.84s\tremaining: 2.1s\n",
      "460:\tlearn: 580.6331622\ttotal: 6.1s\tremaining: 1.84s\n",
      "480:\tlearn: 573.9092038\ttotal: 6.37s\tremaining: 1.58s\n",
      "500:\tlearn: 567.1135772\ttotal: 6.63s\tremaining: 1.31s\n",
      "520:\tlearn: 560.7625291\ttotal: 6.9s\tremaining: 1.04s\n",
      "540:\tlearn: 554.7935368\ttotal: 7.17s\tremaining: 783ms\n",
      "560:\tlearn: 548.5331394\ttotal: 7.43s\tremaining: 517ms\n",
      "580:\tlearn: 543.1003416\ttotal: 7.71s\tremaining: 252ms\n",
      "599:\tlearn: 537.9061746\ttotal: 7.96s\tremaining: 0us\n",
      "[0.38823386 0.37238816 0.37288508 0.39707966 0.37105592]\n",
      "0.3803285346063014\n"
     ]
    }
   ],
   "source": [
    "from sklearn.ensemble import StackingRegressor\n",
    "from sklearn.linear_model import LinearRegression\n",
    "\n",
    "models = [(\"LA\",regR),('CA', cata),('ET', regET)]\n",
    "meta_learner_reg = regEN\n",
    "\n",
    "s_reg = StackingRegressor(estimators=models, final_estimator=meta_learner_reg, passthrough = True)\n",
    "s_reg.fit(x_trainer, y_trainer)\n",
    "s_cvs = cross_val_score(s_reg, x_trainer, y_trainer, cv=5)\n",
    "\n",
    "print(s_cvs)\n",
    "print(np.mean(s_cvs))"
   ]
  },
  {
   "cell_type": "markdown",
   "metadata": {
    "colab_type": "text",
    "id": "AkFvlbA_jnaO"
   },
   "source": [
    "#4. **Performance Evaluation**"
   ]
  },
  {
   "cell_type": "markdown",
   "metadata": {
    "colab_type": "text",
    "id": "5zQ1DVbij-mt"
   },
   "source": [
    "##**4.1. Comparing the prected values by each model**"
   ]
  },
  {
   "cell_type": "code",
   "execution_count": 4,
   "metadata": {
    "colab": {
     "base_uri": "https://localhost:8080/",
     "height": 52
    },
    "colab_type": "code",
    "id": "25EB4S1HKRkW",
    "outputId": "b0eec1ee-10c1-4100-86c8-5d3127713b87"
   },
   "outputs": [
    {
     "ename": "NameError",
     "evalue": "name 's_reg' is not defined",
     "output_type": "error",
     "traceback": [
      "\u001b[1;31m---------------------------------------------------------------------------\u001b[0m",
      "\u001b[1;31mNameError\u001b[0m                                 Traceback (most recent call last)",
      "\u001b[1;32m<ipython-input-4-d8b3cbac3850>\u001b[0m in \u001b[0;36m<module>\u001b[1;34m\u001b[0m\n\u001b[0;32m      6\u001b[0m '''\n\u001b[0;32m      7\u001b[0m \u001b[1;31m#Super Learner\u001b[0m\u001b[1;33m\u001b[0m\u001b[1;33m\u001b[0m\u001b[1;33m\u001b[0m\u001b[0m\n\u001b[1;32m----> 8\u001b[1;33m \u001b[0my_predS\u001b[0m \u001b[1;33m=\u001b[0m \u001b[0ms_reg\u001b[0m\u001b[1;33m.\u001b[0m\u001b[0mpredict\u001b[0m\u001b[1;33m(\u001b[0m\u001b[0mx_test2\u001b[0m\u001b[1;33m)\u001b[0m\u001b[1;33m\u001b[0m\u001b[1;33m\u001b[0m\u001b[0m\n\u001b[0m\u001b[0;32m      9\u001b[0m \u001b[1;33m\u001b[0m\u001b[0m\n\u001b[0;32m     10\u001b[0m \u001b[0my_predS\u001b[0m\u001b[1;33m\u001b[0m\u001b[1;33m\u001b[0m\u001b[0m\n",
      "\u001b[1;31mNameError\u001b[0m: name 's_reg' is not defined"
     ]
    }
   ],
   "source": [
    "'''\n",
    "****\n",
    "*****\n",
    "******\n",
    "********\n",
    "'''\n",
    "#Super Learner \n",
    "y_predS = s_reg.predict(x_test2)\n",
    "\n",
    "y_predS"
   ]
  },
  {
   "cell_type": "code",
   "execution_count": 78,
   "metadata": {
    "colab": {
     "base_uri": "https://localhost:8080/",
     "height": 52
    },
    "colab_type": "code",
    "id": "bHd0MTx4KRkf",
    "outputId": "350221df-7076-4cb9-f541-8b7a915558c5"
   },
   "outputs": [
    {
     "data": {
      "text/plain": [
       "array([1830.55906561, 1530.6997297 , 1207.36226068, ..., 2344.91377556,\n",
       "        838.372918  , 1063.93646723])"
      ]
     },
     "execution_count": 78,
     "metadata": {
      "tags": []
     },
     "output_type": "execute_result"
    }
   ],
   "source": [
    "#Extra Trees \n",
    "y_predET = regET.predict(x_tester)\n",
    "\n",
    "y_predET"
   ]
  },
  {
   "cell_type": "code",
   "execution_count": 79,
   "metadata": {
    "colab": {
     "base_uri": "https://localhost:8080/",
     "height": 52
    },
    "colab_type": "code",
    "id": "CUqWhBvrKRkk",
    "outputId": "83d83e6f-be8f-4705-81b7-f941188b89ba"
   },
   "outputs": [
    {
     "data": {
      "text/plain": [
       "array([1819.4722962 , 1404.95753975, 1030.5670644 , ..., 2514.99461793,\n",
       "        769.54775057, 1045.00374143])"
      ]
     },
     "execution_count": 79,
     "metadata": {
      "tags": []
     },
     "output_type": "execute_result"
    }
   ],
   "source": [
    "#RLasso \n",
    "y_predR = regR.predict(x_tester)\n",
    "\n",
    "y_predR"
   ]
  },
  {
   "cell_type": "code",
   "execution_count": 80,
   "metadata": {
    "colab": {
     "base_uri": "https://localhost:8080/",
     "height": 52
    },
    "colab_type": "code",
    "id": "8ws2bD80KRkq",
    "outputId": "1daa2008-51f2-4ced-f90e-0d08ec71d8f5"
   },
   "outputs": [
    {
     "data": {
      "text/plain": [
       "array([1789.20593748, 1373.99841308, 1097.67274024, ..., 2387.62160622,\n",
       "        959.83814271, 1109.92857796])"
      ]
     },
     "execution_count": 80,
     "metadata": {
      "tags": []
     },
     "output_type": "execute_result"
    }
   ],
   "source": [
    "#Elastic Net\n",
    "y_predEN = regEN.predict(x_tester)\n",
    "\n",
    "y_predEN"
   ]
  },
  {
   "cell_type": "code",
   "execution_count": 81,
   "metadata": {
    "colab": {
     "base_uri": "https://localhost:8080/",
     "height": 52
    },
    "colab_type": "code",
    "id": "fll1b_uwKRkw",
    "outputId": "bcdec82d-8659-4f98-ea43-b79b79d18008"
   },
   "outputs": [
    {
     "data": {
      "text/plain": [
       "array([1897.5747149 , 1544.40584777, 1015.70278052, ..., 2409.01934316,\n",
       "        697.59113017,  979.9304584 ])"
      ]
     },
     "execution_count": 81,
     "metadata": {
      "tags": []
     },
     "output_type": "execute_result"
    }
   ],
   "source": [
    "#CatBoost\n",
    "zoo = cata.predict(x_tester)\n",
    "\n",
    "zoo"
   ]
  },
  {
   "cell_type": "markdown",
   "metadata": {
    "colab_type": "text",
    "id": "_jKaVY5HkQgb"
   },
   "source": [
    "#**Conclusion**\n",
    "##**Model Analysis**"
   ]
  },
  {
   "cell_type": "code",
   "execution_count": null,
   "metadata": {
    "colab": {},
    "colab_type": "code",
    "id": "oArpJkf9KRlA"
   },
   "outputs": [],
   "source": [
    "from sklearn import metrics\n",
    "\n",
    "print('r2 Score:', metrics.r2_score(y_tester, y_predS))\n",
    "print('Mean Absolute Error:', metrics.mean_absolute_error(y_tester, y_predS))\n",
    "print('Mean Squared Error:', metrics.mean_squared_error(y_tester, y_predS))\n",
    "print('Root Mean Squared Error:', np.sqrt(metrics.mean_squared_error(y_tester, y_predS)))"
   ]
  },
  {
   "cell_type": "markdown",
   "metadata": {},
   "source": [
    "##**Writing Results Data**"
   ]
  },
  {
   "cell_type": "code",
   "execution_count": 83,
   "metadata": {
    "colab": {
     "base_uri": "https://localhost:8080/",
     "height": 156
    },
    "colab_type": "code",
    "id": "NAhSOH17KRlF",
    "outputId": "8fa9d5c1-8f92-4118-a457-2f020589d463"
   },
   "outputs": [
    {
     "data": {
      "text/plain": [
       "Index(['Order_No_19248', 'Order_No_12736', 'Order_No_768', 'Order_No_15332',\n",
       "       'Order_No_21373', 'Order_No_14573', 'Order_No_6731', 'Order_No_18436',\n",
       "       'Order_No_2288', 'Order_No_9063',\n",
       "       ...\n",
       "       'Order_No_25241', 'Order_No_5287', 'Order_No_7712', 'Order_No_294',\n",
       "       'Order_No_16972', 'Order_No_3612', 'Order_No_7657', 'Order_No_1969',\n",
       "       'Order_No_10591', 'Order_No_1603'],\n",
       "      dtype='object', name='Order No', length=7068)"
      ]
     },
     "execution_count": 83,
     "metadata": {
      "tags": []
     },
     "output_type": "execute_result"
    }
   ],
   "source": [
    "testid = test.index\n",
    "testid"
   ]
  },
  {
   "cell_type": "code",
   "execution_count": 84,
   "metadata": {
    "colab": {
     "base_uri": "https://localhost:8080/",
     "height": 415
    },
    "colab_type": "code",
    "id": "iUa13xo9KRlI",
    "outputId": "1f62f770-1912-412b-c9b5-9209f4e4cfee"
   },
   "outputs": [
    {
     "data": {
      "text/html": [
       "<div>\n",
       "<style scoped>\n",
       "    .dataframe tbody tr th:only-of-type {\n",
       "        vertical-align: middle;\n",
       "    }\n",
       "\n",
       "    .dataframe tbody tr th {\n",
       "        vertical-align: top;\n",
       "    }\n",
       "\n",
       "    .dataframe thead th {\n",
       "        text-align: right;\n",
       "    }\n",
       "</style>\n",
       "<table border=\"1\" class=\"dataframe\">\n",
       "  <thead>\n",
       "    <tr style=\"text-align: right;\">\n",
       "      <th></th>\n",
       "      <th>ID</th>\n",
       "      <th>Delivery Time</th>\n",
       "    </tr>\n",
       "  </thead>\n",
       "  <tbody>\n",
       "    <tr>\n",
       "      <th>0</th>\n",
       "      <td>Order_No_19248</td>\n",
       "      <td>1667.0</td>\n",
       "    </tr>\n",
       "    <tr>\n",
       "      <th>1</th>\n",
       "      <td>Order_No_12736</td>\n",
       "      <td>1207.0</td>\n",
       "    </tr>\n",
       "    <tr>\n",
       "      <th>2</th>\n",
       "      <td>Order_No_768</td>\n",
       "      <td>1141.0</td>\n",
       "    </tr>\n",
       "    <tr>\n",
       "      <th>3</th>\n",
       "      <td>Order_No_15332</td>\n",
       "      <td>1244.0</td>\n",
       "    </tr>\n",
       "    <tr>\n",
       "      <th>4</th>\n",
       "      <td>Order_No_21373</td>\n",
       "      <td>1191.0</td>\n",
       "    </tr>\n",
       "    <tr>\n",
       "      <th>...</th>\n",
       "      <td>...</td>\n",
       "      <td>...</td>\n",
       "    </tr>\n",
       "    <tr>\n",
       "      <th>7063</th>\n",
       "      <td>Order_No_3612</td>\n",
       "      <td>1248.0</td>\n",
       "    </tr>\n",
       "    <tr>\n",
       "      <th>7064</th>\n",
       "      <td>Order_No_7657</td>\n",
       "      <td>2867.0</td>\n",
       "    </tr>\n",
       "    <tr>\n",
       "      <th>7065</th>\n",
       "      <td>Order_No_1969</td>\n",
       "      <td>1651.0</td>\n",
       "    </tr>\n",
       "    <tr>\n",
       "      <th>7066</th>\n",
       "      <td>Order_No_10591</td>\n",
       "      <td>2425.0</td>\n",
       "    </tr>\n",
       "    <tr>\n",
       "      <th>7067</th>\n",
       "      <td>Order_No_1603</td>\n",
       "      <td>1338.0</td>\n",
       "    </tr>\n",
       "  </tbody>\n",
       "</table>\n",
       "<p>7068 rows × 2 columns</p>\n",
       "</div>"
      ],
      "text/plain": [
       "                  ID  Delivery Time\n",
       "0     Order_No_19248         1667.0\n",
       "1     Order_No_12736         1207.0\n",
       "2       Order_No_768         1141.0\n",
       "3     Order_No_15332         1244.0\n",
       "4     Order_No_21373         1191.0\n",
       "...              ...            ...\n",
       "7063   Order_No_3612         1248.0\n",
       "7064   Order_No_7657         2867.0\n",
       "7065   Order_No_1969         1651.0\n",
       "7066  Order_No_10591         2425.0\n",
       "7067   Order_No_1603         1338.0\n",
       "\n",
       "[7068 rows x 2 columns]"
      ]
     },
     "execution_count": 84,
     "metadata": {
      "tags": []
     },
     "output_type": "execute_result"
    }
   ],
   "source": [
    "d = {'ID': testid, 'Delivery Time':np.round(y_predS, 0)}\n",
    "sub = pd.DataFrame(data=d)\n",
    "sub = sub[['ID', 'Delivery Time']]\n",
    "sub\n"
   ]
  },
  {
   "cell_type": "code",
   "execution_count": null,
   "metadata": {
    "colab": {},
    "colab_type": "code",
    "id": "9fAC3rlWKRlN"
   },
   "outputs": [],
   "source": [
    "sub.to_csv(\"sub_1.csv\",index  = False)"
   ]
  }
 ],
 "metadata": {
  "celltoolbar": "Raw Cell Format",
  "colab": {
   "name": "758.ipynb",
   "provenance": []
  },
  "kernelspec": {
   "display_name": "Python 3",
   "language": "python",
   "name": "python3"
  },
  "language_info": {
   "codemirror_mode": {
    "name": "ipython",
    "version": 3
   },
   "file_extension": ".py",
   "mimetype": "text/x-python",
   "name": "python",
   "nbconvert_exporter": "python",
   "pygments_lexer": "ipython3",
   "version": "3.7.7"
  }
 },
 "nbformat": 4,
 "nbformat_minor": 4
}
