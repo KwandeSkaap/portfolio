{
 "cells": [
  {
   "cell_type": "markdown",
   "metadata": {
    "colab_type": "text",
    "id": "LeamvpPVXuS_"
   },
   "source": [
    "# Random Forest Regression"
   ]
  },
  {
   "cell_type": "markdown",
   "metadata": {
    "colab_type": "text",
    "id": "O2wvZ7SKXzVC"
   },
   "source": [
    "## Importing the libraries"
   ]
  },
  {
   "cell_type": "code",
   "execution_count": 1,
   "metadata": {
    "colab": {},
    "colab_type": "code",
    "id": "PVmESEFZX4Ig"
   },
   "outputs": [],
   "source": [
    "import numpy as np\n",
    "import matplotlib.pyplot as plt\n",
    "import pandas as pd\n",
    "from tqdm import tqdm\n",
    "import math\n",
    "import gc"
   ]
  },
  {
   "cell_type": "markdown",
   "metadata": {
    "colab_type": "text",
    "id": "zgbK_F8-X7em"
   },
   "source": [
    "## Importing the dataset"
   ]
  },
  {
   "cell_type": "code",
   "execution_count": 2,
   "metadata": {
    "colab": {},
    "colab_type": "code",
    "id": "adBE4tjQX_Bh"
   },
   "outputs": [],
   "source": [
    "train = pd.read_csv('worked/train_worked.csv', index_col='ID')\n",
    "y_train = train.iloc[:, 1].values\n",
    "train.pop('target')\n",
    "catFeatures = ['location']\n",
    "train = pd.get_dummies(train, columns=catFeatures)\n",
    "train['target'] = y_train\n",
    "x_train = train.iloc[:, :-1].values\n",
    "\n",
    "test = pd.read_csv('worked/test_worked.csv', index_col='ID')\n",
    "test.pop('target')\n",
    "catFeatures = ['location']\n",
    "test = pd.get_dummies(test, columns=catFeatures)\n",
    "x_test = test.iloc[:, :].values\n"
   ]
  },
  {
   "cell_type": "code",
   "execution_count": 3,
   "metadata": {},
   "outputs": [
    {
     "data": {
      "text/html": [
       "<div>\n",
       "<style scoped>\n",
       "    .dataframe tbody tr th:only-of-type {\n",
       "        vertical-align: middle;\n",
       "    }\n",
       "\n",
       "    .dataframe tbody tr th {\n",
       "        vertical-align: top;\n",
       "    }\n",
       "\n",
       "    .dataframe thead th {\n",
       "        text-align: right;\n",
       "    }\n",
       "</style>\n",
       "<table border=\"1\" class=\"dataframe\">\n",
       "  <thead>\n",
       "    <tr style=\"text-align: right;\">\n",
       "      <th></th>\n",
       "      <th>max_temp</th>\n",
       "      <th>min_temp</th>\n",
       "      <th>mean_temp</th>\n",
       "      <th>std_temp</th>\n",
       "      <th>var_temp</th>\n",
       "      <th>median_temp</th>\n",
       "      <th>ptp_temp</th>\n",
       "      <th>max_precip</th>\n",
       "      <th>min_precip</th>\n",
       "      <th>mean_precip</th>\n",
       "      <th>...</th>\n",
       "      <th>std_atmos_press</th>\n",
       "      <th>var_atmos_press</th>\n",
       "      <th>median_atmos_press</th>\n",
       "      <th>ptp_atmos_press</th>\n",
       "      <th>location_A</th>\n",
       "      <th>location_B</th>\n",
       "      <th>location_C</th>\n",
       "      <th>location_D</th>\n",
       "      <th>location_E</th>\n",
       "      <th>target</th>\n",
       "    </tr>\n",
       "    <tr>\n",
       "      <th>ID</th>\n",
       "      <th></th>\n",
       "      <th></th>\n",
       "      <th></th>\n",
       "      <th></th>\n",
       "      <th></th>\n",
       "      <th></th>\n",
       "      <th></th>\n",
       "      <th></th>\n",
       "      <th></th>\n",
       "      <th></th>\n",
       "      <th></th>\n",
       "      <th></th>\n",
       "      <th></th>\n",
       "      <th></th>\n",
       "      <th></th>\n",
       "      <th></th>\n",
       "      <th></th>\n",
       "      <th></th>\n",
       "      <th></th>\n",
       "      <th></th>\n",
       "      <th></th>\n",
       "    </tr>\n",
       "  </thead>\n",
       "  <tbody>\n",
       "    <tr>\n",
       "      <td>ID_train_0</td>\n",
       "      <td>27.208333</td>\n",
       "      <td>19.275000</td>\n",
       "      <td>22.299527</td>\n",
       "      <td>2.594011</td>\n",
       "      <td>6.728895</td>\n",
       "      <td>21.358333</td>\n",
       "      <td>7.933333</td>\n",
       "      <td>0.000</td>\n",
       "      <td>0.0</td>\n",
       "      <td>0.000000</td>\n",
       "      <td>...</td>\n",
       "      <td>0.070374</td>\n",
       "      <td>0.004952</td>\n",
       "      <td>87.762083</td>\n",
       "      <td>0.257500</td>\n",
       "      <td>0</td>\n",
       "      <td>0</td>\n",
       "      <td>1</td>\n",
       "      <td>0</td>\n",
       "      <td>0</td>\n",
       "      <td>45.126304</td>\n",
       "    </tr>\n",
       "    <tr>\n",
       "      <td>ID_train_1</td>\n",
       "      <td>33.616667</td>\n",
       "      <td>17.983333</td>\n",
       "      <td>24.679063</td>\n",
       "      <td>4.266955</td>\n",
       "      <td>18.206903</td>\n",
       "      <td>23.791667</td>\n",
       "      <td>15.633333</td>\n",
       "      <td>0.561</td>\n",
       "      <td>0.0</td>\n",
       "      <td>0.007025</td>\n",
       "      <td>...</td>\n",
       "      <td>0.156000</td>\n",
       "      <td>0.024336</td>\n",
       "      <td>90.429167</td>\n",
       "      <td>0.668333</td>\n",
       "      <td>0</td>\n",
       "      <td>0</td>\n",
       "      <td>0</td>\n",
       "      <td>1</td>\n",
       "      <td>0</td>\n",
       "      <td>79.131702</td>\n",
       "    </tr>\n",
       "    <tr>\n",
       "      <td>ID_train_10</td>\n",
       "      <td>31.841667</td>\n",
       "      <td>18.458333</td>\n",
       "      <td>24.112317</td>\n",
       "      <td>3.776377</td>\n",
       "      <td>14.261020</td>\n",
       "      <td>23.304167</td>\n",
       "      <td>13.383333</td>\n",
       "      <td>7.804</td>\n",
       "      <td>0.0</td>\n",
       "      <td>0.151767</td>\n",
       "      <td>...</td>\n",
       "      <td>0.179481</td>\n",
       "      <td>0.032213</td>\n",
       "      <td>88.425000</td>\n",
       "      <td>0.830833</td>\n",
       "      <td>1</td>\n",
       "      <td>0</td>\n",
       "      <td>0</td>\n",
       "      <td>0</td>\n",
       "      <td>0</td>\n",
       "      <td>32.661304</td>\n",
       "    </tr>\n",
       "    <tr>\n",
       "      <td>ID_train_100</td>\n",
       "      <td>27.491667</td>\n",
       "      <td>16.941667</td>\n",
       "      <td>20.845273</td>\n",
       "      <td>3.080140</td>\n",
       "      <td>9.487259</td>\n",
       "      <td>19.541667</td>\n",
       "      <td>10.550000</td>\n",
       "      <td>25.787</td>\n",
       "      <td>0.0</td>\n",
       "      <td>1.127273</td>\n",
       "      <td>...</td>\n",
       "      <td>0.161758</td>\n",
       "      <td>0.026166</td>\n",
       "      <td>88.400000</td>\n",
       "      <td>0.720000</td>\n",
       "      <td>1</td>\n",
       "      <td>0</td>\n",
       "      <td>0</td>\n",
       "      <td>0</td>\n",
       "      <td>0</td>\n",
       "      <td>53.850238</td>\n",
       "    </tr>\n",
       "    <tr>\n",
       "      <td>ID_train_1000</td>\n",
       "      <td>28.750000</td>\n",
       "      <td>17.525000</td>\n",
       "      <td>21.870732</td>\n",
       "      <td>3.286870</td>\n",
       "      <td>10.803515</td>\n",
       "      <td>20.950000</td>\n",
       "      <td>11.225000</td>\n",
       "      <td>0.136</td>\n",
       "      <td>0.0</td>\n",
       "      <td>0.005100</td>\n",
       "      <td>...</td>\n",
       "      <td>0.118369</td>\n",
       "      <td>0.014011</td>\n",
       "      <td>88.552500</td>\n",
       "      <td>0.450833</td>\n",
       "      <td>1</td>\n",
       "      <td>0</td>\n",
       "      <td>0</td>\n",
       "      <td>0</td>\n",
       "      <td>0</td>\n",
       "      <td>177.418750</td>\n",
       "    </tr>\n",
       "  </tbody>\n",
       "</table>\n",
       "<p>5 rows × 48 columns</p>\n",
       "</div>"
      ],
      "text/plain": [
       "                max_temp   min_temp  mean_temp  std_temp   var_temp  \\\n",
       "ID                                                                    \n",
       "ID_train_0     27.208333  19.275000  22.299527  2.594011   6.728895   \n",
       "ID_train_1     33.616667  17.983333  24.679063  4.266955  18.206903   \n",
       "ID_train_10    31.841667  18.458333  24.112317  3.776377  14.261020   \n",
       "ID_train_100   27.491667  16.941667  20.845273  3.080140   9.487259   \n",
       "ID_train_1000  28.750000  17.525000  21.870732  3.286870  10.803515   \n",
       "\n",
       "               median_temp   ptp_temp  max_precip  min_precip  mean_precip  \\\n",
       "ID                                                                           \n",
       "ID_train_0       21.358333   7.933333       0.000         0.0     0.000000   \n",
       "ID_train_1       23.791667  15.633333       0.561         0.0     0.007025   \n",
       "ID_train_10      23.304167  13.383333       7.804         0.0     0.151767   \n",
       "ID_train_100     19.541667  10.550000      25.787         0.0     1.127273   \n",
       "ID_train_1000    20.950000  11.225000       0.136         0.0     0.005100   \n",
       "\n",
       "               ...  std_atmos_press  var_atmos_press  median_atmos_press  \\\n",
       "ID             ...                                                         \n",
       "ID_train_0     ...         0.070374         0.004952           87.762083   \n",
       "ID_train_1     ...         0.156000         0.024336           90.429167   \n",
       "ID_train_10    ...         0.179481         0.032213           88.425000   \n",
       "ID_train_100   ...         0.161758         0.026166           88.400000   \n",
       "ID_train_1000  ...         0.118369         0.014011           88.552500   \n",
       "\n",
       "               ptp_atmos_press  location_A  location_B  location_C  \\\n",
       "ID                                                                   \n",
       "ID_train_0            0.257500           0           0           1   \n",
       "ID_train_1            0.668333           0           0           0   \n",
       "ID_train_10           0.830833           1           0           0   \n",
       "ID_train_100          0.720000           1           0           0   \n",
       "ID_train_1000         0.450833           1           0           0   \n",
       "\n",
       "               location_D  location_E      target  \n",
       "ID                                                 \n",
       "ID_train_0              0           0   45.126304  \n",
       "ID_train_1              1           0   79.131702  \n",
       "ID_train_10             0           0   32.661304  \n",
       "ID_train_100            0           0   53.850238  \n",
       "ID_train_1000           0           0  177.418750  \n",
       "\n",
       "[5 rows x 48 columns]"
      ]
     },
     "execution_count": 3,
     "metadata": {},
     "output_type": "execute_result"
    }
   ],
   "source": [
    "train.head(5)"
   ]
  },
  {
   "cell_type": "code",
   "execution_count": 4,
   "metadata": {},
   "outputs": [
    {
     "data": {
      "text/plain": [
       "Index(['max_temp', 'min_temp', 'mean_temp', 'std_temp', 'var_temp',\n",
       "       'median_temp', 'ptp_temp', 'max_precip', 'min_precip', 'mean_precip',\n",
       "       'std_precip', 'var_precip', 'median_precip', 'ptp_precip',\n",
       "       'max_rel_humidity', 'min_rel_humidity', 'mean_rel_humidity',\n",
       "       'std_rel_humidity', 'var_rel_humidity', 'median_rel_humidity',\n",
       "       'ptp_rel_humidity', 'max_wind_dir', 'min_wind_dir', 'mean_wind_dir',\n",
       "       'std_wind_dir', 'var_wind_dir', 'median_wind_dir', 'ptp_wind_dir',\n",
       "       'max_wind_spd', 'min_wind_spd', 'mean_wind_spd', 'std_wind_spd',\n",
       "       'var_wind_spd', 'median_wind_spd', 'ptp_wind_spd', 'max_atmos_press',\n",
       "       'min_atmos_press', 'mean_atmos_press', 'std_atmos_press',\n",
       "       'var_atmos_press', 'median_atmos_press', 'ptp_atmos_press',\n",
       "       'location_A', 'location_B', 'location_C', 'location_D', 'location_E',\n",
       "       'target'],\n",
       "      dtype='object')"
      ]
     },
     "execution_count": 4,
     "metadata": {},
     "output_type": "execute_result"
    }
   ],
   "source": [
    "train.columns"
   ]
  },
  {
   "cell_type": "code",
   "execution_count": 5,
   "metadata": {},
   "outputs": [
    {
     "data": {
      "text/plain": [
       "(15539, 48)"
      ]
     },
     "execution_count": 5,
     "metadata": {},
     "output_type": "execute_result"
    }
   ],
   "source": [
    "train.shape"
   ]
  },
  {
   "cell_type": "code",
   "execution_count": 6,
   "metadata": {},
   "outputs": [
    {
     "data": {
      "text/plain": [
       "array([[27.20833333, 19.275     , 22.29952651, ...,  1.        ,\n",
       "         0.        ,  0.        ],\n",
       "       [33.61666667, 17.98333333, 24.67906336, ...,  0.        ,\n",
       "         1.        ,  0.        ],\n",
       "       [31.84166667, 18.45833333, 24.11231692, ...,  0.        ,\n",
       "         0.        ,  0.        ],\n",
       "       ...,\n",
       "       [34.10833333, 16.95      , 24.63708333, ...,  0.        ,\n",
       "         1.        ,  0.        ],\n",
       "       [30.9       , 15.89166667, 23.47293388, ...,  0.        ,\n",
       "         1.        ,  0.        ],\n",
       "       [30.45      , 19.03333333, 24.01260331, ...,  1.        ,\n",
       "         0.        ,  0.        ]])"
      ]
     },
     "execution_count": 6,
     "metadata": {},
     "output_type": "execute_result"
    }
   ],
   "source": [
    "x_train"
   ]
  },
  {
   "cell_type": "markdown",
   "metadata": {
    "colab_type": "text",
    "id": "ptNjcy7bOBlD"
   },
   "source": [
    "## Splitting the dataset into the Training set and Test set"
   ]
  },
  {
   "cell_type": "code",
   "execution_count": 7,
   "metadata": {},
   "outputs": [
    {
     "name": "stdout",
     "output_type": "stream",
     "text": [
      "[0.57434551 0.56924536 0.48979925 0.57988844 0.53763919]\n",
      "0.5501835497908841\n"
     ]
    }
   ],
   "source": [
    "from sklearn.model_selection import train_test_split\n",
    "x_trainer, x_tester, y_trainer, y_tester = train_test_split(x_train, y_train, test_size=0.20)\n",
    "from sklearn.model_selection import cross_val_score\n",
    "from sklearn.ensemble import RandomForestRegressor\n",
    "\n",
    "reg = RandomForestRegressor(n_estimators = 150, random_state=32)\n",
    "reg.fit(x_trainer, y_trainer)\n",
    "cvs = cross_val_score(reg, x_trainer, y_trainer, cv=5)\n",
    "\n",
    "print(cvs)\n",
    "print(np.mean(cvs))"
   ]
  },
  {
   "cell_type": "code",
   "execution_count": 8,
   "metadata": {},
   "outputs": [
    {
     "name": "stdout",
     "output_type": "stream",
     "text": [
      "[[49.89 58.12]\n",
      " [62.47 49.35]\n",
      " [67.61 62.61]\n",
      " ...\n",
      " [32.49 55.49]\n",
      " [55.24 41.18]\n",
      " [44.14 29.57]]\n"
     ]
    }
   ],
   "source": [
    "y_pred = reg.predict(x_tester)\n",
    "np.set_printoptions(precision=2)\n",
    "print(np.concatenate((y_pred.reshape(len(y_pred),1), y_tester.reshape(len(y_tester),1)),1))"
   ]
  },
  {
   "cell_type": "code",
   "execution_count": 9,
   "metadata": {},
   "outputs": [
    {
     "name": "stdout",
     "output_type": "stream",
     "text": [
      "Mean Absolute Error: 15.90902412087097\n",
      "Mean Squared Error: 686.3402187083042\n",
      "Root Mean Squared Error: 26.19809570767128\n"
     ]
    }
   ],
   "source": [
    "from sklearn import metrics\n",
    "\n",
    "print('Mean Absolute Error:', metrics.mean_absolute_error(y_pred, y_tester))\n",
    "print('Mean Squared Error:', metrics.mean_squared_error(y_pred, y_tester))\n",
    "print('Root Mean Squared Error:', np.sqrt(metrics.mean_squared_error(y_pred, y_tester)))"
   ]
  },
  {
   "cell_type": "markdown",
   "metadata": {
    "colab_type": "text",
    "id": "v4S2fyIBYDcu"
   },
   "source": [
    "## Training the Random Forest Regression model on the whole dataset"
   ]
  },
  {
   "cell_type": "markdown",
   "metadata": {
    "colab_type": "text",
    "id": "DM_jh0frOPKE"
   },
   "source": [
    "## Predicting the Test set results"
   ]
  },
  {
   "cell_type": "markdown",
   "metadata": {
    "colab_type": "text",
    "id": "Cd8VZM5POWXN"
   },
   "source": [
    "## Evaluating the Model Performance"
   ]
  }
 ],
 "metadata": {
  "colab": {
   "collapsed_sections": [],
   "name": "random_forest_regression.ipynb",
   "provenance": [],
   "toc_visible": true
  },
  "kernelspec": {
   "display_name": "Python 3",
   "language": "python",
   "name": "python3"
  },
  "language_info": {
   "codemirror_mode": {
    "name": "ipython",
    "version": 3
   },
   "file_extension": ".py",
   "mimetype": "text/x-python",
   "name": "python",
   "nbconvert_exporter": "python",
   "pygments_lexer": "ipython3",
   "version": "3.7.4"
  }
 },
 "nbformat": 4,
 "nbformat_minor": 1
}
