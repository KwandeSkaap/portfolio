{
 "cells": [
  {
   "cell_type": "markdown",
   "metadata": {
    "colab_type": "text",
    "id": "LeamvpPVXuS_"
   },
   "source": [
    "# Random Forest Regression"
   ]
  },
  {
   "cell_type": "markdown",
   "metadata": {
    "colab_type": "text",
    "id": "O2wvZ7SKXzVC"
   },
   "source": [
    "## Importing the libraries"
   ]
  },
  {
   "cell_type": "code",
   "execution_count": 11,
   "metadata": {
    "colab": {},
    "colab_type": "code",
    "id": "PVmESEFZX4Ig"
   },
   "outputs": [],
   "source": [
    "import numpy as np\n",
    "import matplotlib.pyplot as plt\n",
    "import pandas as pd\n",
    "from tqdm import tqdm\n",
    "import math\n",
    "import gc"
   ]
  },
  {
   "cell_type": "markdown",
   "metadata": {
    "colab_type": "text",
    "id": "zgbK_F8-X7em"
   },
   "source": [
    "## Importing the dataset"
   ]
  },
  {
   "cell_type": "code",
   "execution_count": 12,
   "metadata": {
    "colab": {},
    "colab_type": "code",
    "id": "adBE4tjQX_Bh"
   },
   "outputs": [],
   "source": [
    "train = pd.read_csv('worked/train_worked.csv', index_col='ID')\n",
    "y_train = train.iloc[:, 1].values\n",
    "train.pop('target')\n",
    "catFeatures = ['location']\n",
    "train = pd.get_dummies(train, columns=catFeatures)\n",
    "train['target'] = y_train\n",
    "x_train = train.iloc[:, :-1].values\n",
    "\n",
    "test = pd.read_csv('worked/test_worked.csv', index_col='ID')\n",
    "test.pop('target')\n",
    "catFeatures = ['location']\n",
    "test = pd.get_dummies(test, columns=catFeatures)\n",
    "x_test = test.iloc[:, :].values\n"
   ]
  },
  {
   "cell_type": "code",
   "execution_count": 13,
   "metadata": {},
   "outputs": [
    {
     "data": {
      "text/html": [
       "<div>\n",
       "<style scoped>\n",
       "    .dataframe tbody tr th:only-of-type {\n",
       "        vertical-align: middle;\n",
       "    }\n",
       "\n",
       "    .dataframe tbody tr th {\n",
       "        vertical-align: top;\n",
       "    }\n",
       "\n",
       "    .dataframe thead th {\n",
       "        text-align: right;\n",
       "    }\n",
       "</style>\n",
       "<table border=\"1\" class=\"dataframe\">\n",
       "  <thead>\n",
       "    <tr style=\"text-align: right;\">\n",
       "      <th></th>\n",
       "      <th>max_temp</th>\n",
       "      <th>min_temp</th>\n",
       "      <th>mean_temp</th>\n",
       "      <th>std_temp</th>\n",
       "      <th>var_temp</th>\n",
       "      <th>median_temp</th>\n",
       "      <th>ptp_temp</th>\n",
       "      <th>max_precip</th>\n",
       "      <th>min_precip</th>\n",
       "      <th>mean_precip</th>\n",
       "      <th>...</th>\n",
       "      <th>std_atmos_press</th>\n",
       "      <th>var_atmos_press</th>\n",
       "      <th>median_atmos_press</th>\n",
       "      <th>ptp_atmos_press</th>\n",
       "      <th>location_A</th>\n",
       "      <th>location_B</th>\n",
       "      <th>location_C</th>\n",
       "      <th>location_D</th>\n",
       "      <th>location_E</th>\n",
       "      <th>target</th>\n",
       "    </tr>\n",
       "    <tr>\n",
       "      <th>ID</th>\n",
       "      <th></th>\n",
       "      <th></th>\n",
       "      <th></th>\n",
       "      <th></th>\n",
       "      <th></th>\n",
       "      <th></th>\n",
       "      <th></th>\n",
       "      <th></th>\n",
       "      <th></th>\n",
       "      <th></th>\n",
       "      <th></th>\n",
       "      <th></th>\n",
       "      <th></th>\n",
       "      <th></th>\n",
       "      <th></th>\n",
       "      <th></th>\n",
       "      <th></th>\n",
       "      <th></th>\n",
       "      <th></th>\n",
       "      <th></th>\n",
       "      <th></th>\n",
       "    </tr>\n",
       "  </thead>\n",
       "  <tbody>\n",
       "    <tr>\n",
       "      <td>ID_train_0</td>\n",
       "      <td>27.208333</td>\n",
       "      <td>19.275000</td>\n",
       "      <td>22.299527</td>\n",
       "      <td>2.594011</td>\n",
       "      <td>6.728895</td>\n",
       "      <td>21.358333</td>\n",
       "      <td>7.933333</td>\n",
       "      <td>0.000</td>\n",
       "      <td>0.0</td>\n",
       "      <td>0.000000</td>\n",
       "      <td>...</td>\n",
       "      <td>0.070374</td>\n",
       "      <td>0.004952</td>\n",
       "      <td>87.762083</td>\n",
       "      <td>0.257500</td>\n",
       "      <td>0</td>\n",
       "      <td>0</td>\n",
       "      <td>1</td>\n",
       "      <td>0</td>\n",
       "      <td>0</td>\n",
       "      <td>45.126304</td>\n",
       "    </tr>\n",
       "    <tr>\n",
       "      <td>ID_train_1</td>\n",
       "      <td>33.616667</td>\n",
       "      <td>17.983333</td>\n",
       "      <td>24.679063</td>\n",
       "      <td>4.266955</td>\n",
       "      <td>18.206903</td>\n",
       "      <td>23.791667</td>\n",
       "      <td>15.633333</td>\n",
       "      <td>0.561</td>\n",
       "      <td>0.0</td>\n",
       "      <td>0.007025</td>\n",
       "      <td>...</td>\n",
       "      <td>0.156000</td>\n",
       "      <td>0.024336</td>\n",
       "      <td>90.429167</td>\n",
       "      <td>0.668333</td>\n",
       "      <td>0</td>\n",
       "      <td>0</td>\n",
       "      <td>0</td>\n",
       "      <td>1</td>\n",
       "      <td>0</td>\n",
       "      <td>79.131702</td>\n",
       "    </tr>\n",
       "    <tr>\n",
       "      <td>ID_train_10</td>\n",
       "      <td>31.841667</td>\n",
       "      <td>18.458333</td>\n",
       "      <td>24.112317</td>\n",
       "      <td>3.776377</td>\n",
       "      <td>14.261020</td>\n",
       "      <td>23.304167</td>\n",
       "      <td>13.383333</td>\n",
       "      <td>7.804</td>\n",
       "      <td>0.0</td>\n",
       "      <td>0.151767</td>\n",
       "      <td>...</td>\n",
       "      <td>0.179481</td>\n",
       "      <td>0.032213</td>\n",
       "      <td>88.425000</td>\n",
       "      <td>0.830833</td>\n",
       "      <td>1</td>\n",
       "      <td>0</td>\n",
       "      <td>0</td>\n",
       "      <td>0</td>\n",
       "      <td>0</td>\n",
       "      <td>32.661304</td>\n",
       "    </tr>\n",
       "    <tr>\n",
       "      <td>ID_train_100</td>\n",
       "      <td>27.491667</td>\n",
       "      <td>16.941667</td>\n",
       "      <td>20.845273</td>\n",
       "      <td>3.080140</td>\n",
       "      <td>9.487259</td>\n",
       "      <td>19.541667</td>\n",
       "      <td>10.550000</td>\n",
       "      <td>25.787</td>\n",
       "      <td>0.0</td>\n",
       "      <td>1.127273</td>\n",
       "      <td>...</td>\n",
       "      <td>0.161758</td>\n",
       "      <td>0.026166</td>\n",
       "      <td>88.400000</td>\n",
       "      <td>0.720000</td>\n",
       "      <td>1</td>\n",
       "      <td>0</td>\n",
       "      <td>0</td>\n",
       "      <td>0</td>\n",
       "      <td>0</td>\n",
       "      <td>53.850238</td>\n",
       "    </tr>\n",
       "    <tr>\n",
       "      <td>ID_train_1000</td>\n",
       "      <td>28.750000</td>\n",
       "      <td>17.525000</td>\n",
       "      <td>21.870732</td>\n",
       "      <td>3.286870</td>\n",
       "      <td>10.803515</td>\n",
       "      <td>20.950000</td>\n",
       "      <td>11.225000</td>\n",
       "      <td>0.136</td>\n",
       "      <td>0.0</td>\n",
       "      <td>0.005100</td>\n",
       "      <td>...</td>\n",
       "      <td>0.118369</td>\n",
       "      <td>0.014011</td>\n",
       "      <td>88.552500</td>\n",
       "      <td>0.450833</td>\n",
       "      <td>1</td>\n",
       "      <td>0</td>\n",
       "      <td>0</td>\n",
       "      <td>0</td>\n",
       "      <td>0</td>\n",
       "      <td>177.418750</td>\n",
       "    </tr>\n",
       "  </tbody>\n",
       "</table>\n",
       "<p>5 rows × 48 columns</p>\n",
       "</div>"
      ],
      "text/plain": [
       "                max_temp   min_temp  mean_temp  std_temp   var_temp  \\\n",
       "ID                                                                    \n",
       "ID_train_0     27.208333  19.275000  22.299527  2.594011   6.728895   \n",
       "ID_train_1     33.616667  17.983333  24.679063  4.266955  18.206903   \n",
       "ID_train_10    31.841667  18.458333  24.112317  3.776377  14.261020   \n",
       "ID_train_100   27.491667  16.941667  20.845273  3.080140   9.487259   \n",
       "ID_train_1000  28.750000  17.525000  21.870732  3.286870  10.803515   \n",
       "\n",
       "               median_temp   ptp_temp  max_precip  min_precip  mean_precip  \\\n",
       "ID                                                                           \n",
       "ID_train_0       21.358333   7.933333       0.000         0.0     0.000000   \n",
       "ID_train_1       23.791667  15.633333       0.561         0.0     0.007025   \n",
       "ID_train_10      23.304167  13.383333       7.804         0.0     0.151767   \n",
       "ID_train_100     19.541667  10.550000      25.787         0.0     1.127273   \n",
       "ID_train_1000    20.950000  11.225000       0.136         0.0     0.005100   \n",
       "\n",
       "               ...  std_atmos_press  var_atmos_press  median_atmos_press  \\\n",
       "ID             ...                                                         \n",
       "ID_train_0     ...         0.070374         0.004952           87.762083   \n",
       "ID_train_1     ...         0.156000         0.024336           90.429167   \n",
       "ID_train_10    ...         0.179481         0.032213           88.425000   \n",
       "ID_train_100   ...         0.161758         0.026166           88.400000   \n",
       "ID_train_1000  ...         0.118369         0.014011           88.552500   \n",
       "\n",
       "               ptp_atmos_press  location_A  location_B  location_C  \\\n",
       "ID                                                                   \n",
       "ID_train_0            0.257500           0           0           1   \n",
       "ID_train_1            0.668333           0           0           0   \n",
       "ID_train_10           0.830833           1           0           0   \n",
       "ID_train_100          0.720000           1           0           0   \n",
       "ID_train_1000         0.450833           1           0           0   \n",
       "\n",
       "               location_D  location_E      target  \n",
       "ID                                                 \n",
       "ID_train_0              0           0   45.126304  \n",
       "ID_train_1              1           0   79.131702  \n",
       "ID_train_10             0           0   32.661304  \n",
       "ID_train_100            0           0   53.850238  \n",
       "ID_train_1000           0           0  177.418750  \n",
       "\n",
       "[5 rows x 48 columns]"
      ]
     },
     "execution_count": 13,
     "metadata": {},
     "output_type": "execute_result"
    }
   ],
   "source": [
    "train.head(5)"
   ]
  },
  {
   "cell_type": "code",
   "execution_count": 14,
   "metadata": {},
   "outputs": [
    {
     "data": {
      "text/plain": [
       "Index(['max_temp', 'min_temp', 'mean_temp', 'std_temp', 'var_temp',\n",
       "       'median_temp', 'ptp_temp', 'max_precip', 'min_precip', 'mean_precip',\n",
       "       'std_precip', 'var_precip', 'median_precip', 'ptp_precip',\n",
       "       'max_rel_humidity', 'min_rel_humidity', 'mean_rel_humidity',\n",
       "       'std_rel_humidity', 'var_rel_humidity', 'median_rel_humidity',\n",
       "       'ptp_rel_humidity', 'max_wind_dir', 'min_wind_dir', 'mean_wind_dir',\n",
       "       'std_wind_dir', 'var_wind_dir', 'median_wind_dir', 'ptp_wind_dir',\n",
       "       'max_wind_spd', 'min_wind_spd', 'mean_wind_spd', 'std_wind_spd',\n",
       "       'var_wind_spd', 'median_wind_spd', 'ptp_wind_spd', 'max_atmos_press',\n",
       "       'min_atmos_press', 'mean_atmos_press', 'std_atmos_press',\n",
       "       'var_atmos_press', 'median_atmos_press', 'ptp_atmos_press',\n",
       "       'location_A', 'location_B', 'location_C', 'location_D', 'location_E',\n",
       "       'target'],\n",
       "      dtype='object')"
      ]
     },
     "execution_count": 14,
     "metadata": {},
     "output_type": "execute_result"
    }
   ],
   "source": [
    "train.columns"
   ]
  },
  {
   "cell_type": "code",
   "execution_count": 15,
   "metadata": {},
   "outputs": [
    {
     "data": {
      "text/plain": [
       "(15539, 48)"
      ]
     },
     "execution_count": 15,
     "metadata": {},
     "output_type": "execute_result"
    }
   ],
   "source": [
    "train.shape"
   ]
  },
  {
   "cell_type": "code",
   "execution_count": 16,
   "metadata": {},
   "outputs": [
    {
     "data": {
      "text/plain": [
       "array([[27.21, 19.27, 22.3 , ...,  1.  ,  0.  ,  0.  ],\n",
       "       [33.62, 17.98, 24.68, ...,  0.  ,  1.  ,  0.  ],\n",
       "       [31.84, 18.46, 24.11, ...,  0.  ,  0.  ,  0.  ],\n",
       "       ...,\n",
       "       [34.11, 16.95, 24.64, ...,  0.  ,  1.  ,  0.  ],\n",
       "       [30.9 , 15.89, 23.47, ...,  0.  ,  1.  ,  0.  ],\n",
       "       [30.45, 19.03, 24.01, ...,  1.  ,  0.  ,  0.  ]])"
      ]
     },
     "execution_count": 16,
     "metadata": {},
     "output_type": "execute_result"
    }
   ],
   "source": [
    "x_train"
   ]
  },
  {
   "cell_type": "markdown",
   "metadata": {
    "colab_type": "text",
    "id": "ptNjcy7bOBlD"
   },
   "source": [
    "## Splitting the dataset into the Training set and Test set"
   ]
  },
  {
   "cell_type": "code",
   "execution_count": 35,
   "metadata": {},
   "outputs": [
    {
     "name": "stdout",
     "output_type": "stream",
     "text": [
      "[0.53 0.53 0.58 0.6  0.57 0.56 0.61 0.6  0.57 0.59]\n",
      "0.5734073987064299\n"
     ]
    }
   ],
   "source": [
    "from sklearn.model_selection import train_test_split\n",
    "x_trainer, x_tester, y_trainer, y_tester = train_test_split(x_train, y_train, test_size=0.20)\n",
    "\n",
    "from sklearn.model_selection import cross_val_score\n",
    "from sklearn.ensemble import RandomForestRegressor\n",
    "\n",
    "reg = RandomForestRegressor(n_estimators = 150, random_state=32)\n",
    "reg.fit(x_trainer, y_trainer)\n",
    "cvs = cross_val_score(reg, x_trainer, y_trainer, cv=10)\n",
    "\n",
    "print(cvs)\n",
    "print(np.mean(cvs))"
   ]
  },
  {
   "cell_type": "code",
   "execution_count": 36,
   "metadata": {},
   "outputs": [
    {
     "name": "stdout",
     "output_type": "stream",
     "text": [
      "[[105.14  85.61]\n",
      " [ 15.82   5.8 ]\n",
      " [ 52.27  46.15]\n",
      " ...\n",
      " [ 40.82  45.57]\n",
      " [ 79.14  41.57]\n",
      " [ 36.51  37.33]]\n"
     ]
    }
   ],
   "source": [
    "y_pred = reg.predict(x_tester)\n",
    "np.set_printoptions(precision=2)\n",
    "print(np.concatenate((y_pred.reshape(len(y_pred),1), y_tester.reshape(len(y_tester),1)),1))"
   ]
  },
  {
   "cell_type": "code",
   "execution_count": 37,
   "metadata": {},
   "outputs": [
    {
     "name": "stdout",
     "output_type": "stream",
     "text": [
      "Mean Absolute Error: 15.751726317698948\n",
      "Mean Squared Error: 661.8787556598247\n",
      "Root Mean Squared Error: 25.72700440509592\n"
     ]
    }
   ],
   "source": [
    "from sklearn import metrics\n",
    "\n",
    "print('Mean Absolute Error:', metrics.mean_absolute_error(y_pred, y_tester))\n",
    "print('Mean Squared Error:', metrics.mean_squared_error(y_pred, y_tester))\n",
    "print('Root Mean Squared Error:', np.sqrt(metrics.mean_squared_error(y_pred, y_tester)))"
   ]
  },
  {
   "cell_type": "code",
   "execution_count": 10,
   "metadata": {},
   "outputs": [
    {
     "data": {
      "text/html": [
       "<div>\n",
       "<style scoped>\n",
       "    .dataframe tbody tr th:only-of-type {\n",
       "        vertical-align: middle;\n",
       "    }\n",
       "\n",
       "    .dataframe tbody tr th {\n",
       "        vertical-align: top;\n",
       "    }\n",
       "\n",
       "    .dataframe thead th {\n",
       "        text-align: right;\n",
       "    }\n",
       "</style>\n",
       "<table border=\"1\" class=\"dataframe\">\n",
       "  <thead>\n",
       "    <tr style=\"text-align: right;\">\n",
       "      <th></th>\n",
       "      <th>max_temp</th>\n",
       "      <th>min_temp</th>\n",
       "      <th>mean_temp</th>\n",
       "      <th>std_temp</th>\n",
       "      <th>var_temp</th>\n",
       "      <th>median_temp</th>\n",
       "      <th>ptp_temp</th>\n",
       "      <th>max_precip</th>\n",
       "      <th>min_precip</th>\n",
       "      <th>mean_precip</th>\n",
       "      <th>...</th>\n",
       "      <th>mean_atmos_press</th>\n",
       "      <th>std_atmos_press</th>\n",
       "      <th>var_atmos_press</th>\n",
       "      <th>median_atmos_press</th>\n",
       "      <th>ptp_atmos_press</th>\n",
       "      <th>location_A</th>\n",
       "      <th>location_B</th>\n",
       "      <th>location_C</th>\n",
       "      <th>location_D</th>\n",
       "      <th>location_E</th>\n",
       "    </tr>\n",
       "    <tr>\n",
       "      <th>ID</th>\n",
       "      <th></th>\n",
       "      <th></th>\n",
       "      <th></th>\n",
       "      <th></th>\n",
       "      <th></th>\n",
       "      <th></th>\n",
       "      <th></th>\n",
       "      <th></th>\n",
       "      <th></th>\n",
       "      <th></th>\n",
       "      <th></th>\n",
       "      <th></th>\n",
       "      <th></th>\n",
       "      <th></th>\n",
       "      <th></th>\n",
       "      <th></th>\n",
       "      <th></th>\n",
       "      <th></th>\n",
       "      <th></th>\n",
       "      <th></th>\n",
       "      <th></th>\n",
       "    </tr>\n",
       "  </thead>\n",
       "  <tbody>\n",
       "    <tr>\n",
       "      <td>ID_test_0</td>\n",
       "      <td>26.858333</td>\n",
       "      <td>17.050000</td>\n",
       "      <td>21.389532</td>\n",
       "      <td>2.731833</td>\n",
       "      <td>7.462909</td>\n",
       "      <td>20.908333</td>\n",
       "      <td>9.808333</td>\n",
       "      <td>5.728</td>\n",
       "      <td>0.0</td>\n",
       "      <td>0.204165</td>\n",
       "      <td>...</td>\n",
       "      <td>87.748506</td>\n",
       "      <td>0.132764</td>\n",
       "      <td>0.017626</td>\n",
       "      <td>87.752500</td>\n",
       "      <td>0.546667</td>\n",
       "      <td>0</td>\n",
       "      <td>0</td>\n",
       "      <td>1</td>\n",
       "      <td>0</td>\n",
       "      <td>0</td>\n",
       "    </tr>\n",
       "    <tr>\n",
       "      <td>ID_test_1</td>\n",
       "      <td>26.991667</td>\n",
       "      <td>17.275000</td>\n",
       "      <td>21.302824</td>\n",
       "      <td>2.289268</td>\n",
       "      <td>5.240748</td>\n",
       "      <td>20.716667</td>\n",
       "      <td>9.716667</td>\n",
       "      <td>15.831</td>\n",
       "      <td>0.0</td>\n",
       "      <td>0.208719</td>\n",
       "      <td>...</td>\n",
       "      <td>87.936963</td>\n",
       "      <td>0.113756</td>\n",
       "      <td>0.012940</td>\n",
       "      <td>87.928333</td>\n",
       "      <td>0.609167</td>\n",
       "      <td>0</td>\n",
       "      <td>0</td>\n",
       "      <td>1</td>\n",
       "      <td>0</td>\n",
       "      <td>0</td>\n",
       "    </tr>\n",
       "    <tr>\n",
       "      <td>ID_test_10</td>\n",
       "      <td>29.850000</td>\n",
       "      <td>17.108333</td>\n",
       "      <td>22.144421</td>\n",
       "      <td>2.943047</td>\n",
       "      <td>8.661528</td>\n",
       "      <td>21.458333</td>\n",
       "      <td>12.741667</td>\n",
       "      <td>1.327</td>\n",
       "      <td>0.0</td>\n",
       "      <td>0.040190</td>\n",
       "      <td>...</td>\n",
       "      <td>90.521357</td>\n",
       "      <td>0.136316</td>\n",
       "      <td>0.018582</td>\n",
       "      <td>90.536667</td>\n",
       "      <td>0.670000</td>\n",
       "      <td>0</td>\n",
       "      <td>0</td>\n",
       "      <td>0</td>\n",
       "      <td>1</td>\n",
       "      <td>0</td>\n",
       "    </tr>\n",
       "    <tr>\n",
       "      <td>ID_test_100</td>\n",
       "      <td>27.325000</td>\n",
       "      <td>18.633333</td>\n",
       "      <td>22.361639</td>\n",
       "      <td>2.480003</td>\n",
       "      <td>6.150415</td>\n",
       "      <td>21.616667</td>\n",
       "      <td>8.691667</td>\n",
       "      <td>3.604</td>\n",
       "      <td>0.0</td>\n",
       "      <td>0.035686</td>\n",
       "      <td>...</td>\n",
       "      <td>87.754848</td>\n",
       "      <td>0.125583</td>\n",
       "      <td>0.015771</td>\n",
       "      <td>87.726667</td>\n",
       "      <td>0.518333</td>\n",
       "      <td>0</td>\n",
       "      <td>0</td>\n",
       "      <td>1</td>\n",
       "      <td>0</td>\n",
       "      <td>0</td>\n",
       "    </tr>\n",
       "    <tr>\n",
       "      <td>ID_test_1000</td>\n",
       "      <td>31.091667</td>\n",
       "      <td>16.908333</td>\n",
       "      <td>23.560243</td>\n",
       "      <td>4.136978</td>\n",
       "      <td>17.114585</td>\n",
       "      <td>22.825000</td>\n",
       "      <td>14.183333</td>\n",
       "      <td>0.000</td>\n",
       "      <td>0.0</td>\n",
       "      <td>0.000000</td>\n",
       "      <td>...</td>\n",
       "      <td>90.475030</td>\n",
       "      <td>0.161193</td>\n",
       "      <td>0.025983</td>\n",
       "      <td>90.487273</td>\n",
       "      <td>0.692500</td>\n",
       "      <td>0</td>\n",
       "      <td>0</td>\n",
       "      <td>0</td>\n",
       "      <td>1</td>\n",
       "      <td>0</td>\n",
       "    </tr>\n",
       "  </tbody>\n",
       "</table>\n",
       "<p>5 rows × 47 columns</p>\n",
       "</div>"
      ],
      "text/plain": [
       "               max_temp   min_temp  mean_temp  std_temp   var_temp  \\\n",
       "ID                                                                   \n",
       "ID_test_0     26.858333  17.050000  21.389532  2.731833   7.462909   \n",
       "ID_test_1     26.991667  17.275000  21.302824  2.289268   5.240748   \n",
       "ID_test_10    29.850000  17.108333  22.144421  2.943047   8.661528   \n",
       "ID_test_100   27.325000  18.633333  22.361639  2.480003   6.150415   \n",
       "ID_test_1000  31.091667  16.908333  23.560243  4.136978  17.114585   \n",
       "\n",
       "              median_temp   ptp_temp  max_precip  min_precip  mean_precip  \\\n",
       "ID                                                                          \n",
       "ID_test_0       20.908333   9.808333       5.728         0.0     0.204165   \n",
       "ID_test_1       20.716667   9.716667      15.831         0.0     0.208719   \n",
       "ID_test_10      21.458333  12.741667       1.327         0.0     0.040190   \n",
       "ID_test_100     21.616667   8.691667       3.604         0.0     0.035686   \n",
       "ID_test_1000    22.825000  14.183333       0.000         0.0     0.000000   \n",
       "\n",
       "              ...  mean_atmos_press  std_atmos_press  var_atmos_press  \\\n",
       "ID            ...                                                       \n",
       "ID_test_0     ...         87.748506         0.132764         0.017626   \n",
       "ID_test_1     ...         87.936963         0.113756         0.012940   \n",
       "ID_test_10    ...         90.521357         0.136316         0.018582   \n",
       "ID_test_100   ...         87.754848         0.125583         0.015771   \n",
       "ID_test_1000  ...         90.475030         0.161193         0.025983   \n",
       "\n",
       "              median_atmos_press  ptp_atmos_press  location_A  location_B  \\\n",
       "ID                                                                          \n",
       "ID_test_0              87.752500         0.546667           0           0   \n",
       "ID_test_1              87.928333         0.609167           0           0   \n",
       "ID_test_10             90.536667         0.670000           0           0   \n",
       "ID_test_100            87.726667         0.518333           0           0   \n",
       "ID_test_1000           90.487273         0.692500           0           0   \n",
       "\n",
       "              location_C  location_D  location_E  \n",
       "ID                                                \n",
       "ID_test_0              1           0           0  \n",
       "ID_test_1              1           0           0  \n",
       "ID_test_10             0           1           0  \n",
       "ID_test_100            1           0           0  \n",
       "ID_test_1000           0           1           0  \n",
       "\n",
       "[5 rows x 47 columns]"
      ]
     },
     "execution_count": 10,
     "metadata": {},
     "output_type": "execute_result"
    }
   ],
   "source": [
    "test.head()"
   ]
  },
  {
   "cell_type": "markdown",
   "metadata": {
    "colab_type": "text",
    "id": "v4S2fyIBYDcu"
   },
   "source": [
    "## Training the Random Forest Regression model on the whole dataset"
   ]
  },
  {
   "cell_type": "markdown",
   "metadata": {
    "colab_type": "text",
    "id": "DM_jh0frOPKE"
   },
   "source": [
    "## Predicting the Test set results"
   ]
  },
  {
   "cell_type": "markdown",
   "metadata": {
    "colab_type": "text",
    "id": "Cd8VZM5POWXN"
   },
   "source": [
    "## Evaluating the Model Performance"
   ]
  }
 ],
 "metadata": {
  "colab": {
   "collapsed_sections": [],
   "name": "random_forest_regression.ipynb",
   "provenance": [],
   "toc_visible": true
  },
  "kernelspec": {
   "display_name": "Python 3",
   "language": "python",
   "name": "python3"
  },
  "language_info": {
   "codemirror_mode": {
    "name": "ipython",
    "version": 3
   },
   "file_extension": ".py",
   "mimetype": "text/x-python",
   "name": "python",
   "nbconvert_exporter": "python",
   "pygments_lexer": "ipython3",
   "version": "3.7.7"
  }
 },
 "nbformat": 4,
 "nbformat_minor": 1
}
